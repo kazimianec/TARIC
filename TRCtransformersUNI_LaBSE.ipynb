{
  "nbformat": 4,
  "nbformat_minor": 0,
  "metadata": {
    "colab": {
      "name": "TRCtransformersUNI.ipynb",
      "provenance": [],
      "collapsed_sections": [],
      "authorship_tag": "ABX9TyO/2UtUCTKA8DLKHcONSffJ",
      "include_colab_link": true
    },
    "kernelspec": {
      "display_name": "Python 3",
      "name": "python3"
    },
    "accelerator": "GPU"
  },
  "cells": [
    {
      "cell_type": "markdown",
      "metadata": {
        "id": "view-in-github",
        "colab_type": "text"
      },
      "source": [
        "<a href=\"https://colab.research.google.com/github/kazimianec/TARIC/blob/master/TRCtransformersUNI_LaBSE.ipynb\" target=\"_parent\"><img src=\"https://colab.research.google.com/assets/colab-badge.svg\" alt=\"Open In Colab\"/></a>"
      ]
    },
    {
      "cell_type": "code",
      "metadata": {
        "id": "31bjoeeFzmID"
      },
      "source": [
        "import numpy as np\r\n",
        "import pandas as pd\r\n",
        "import os"
      ],
      "execution_count": 1,
      "outputs": []
    },
    {
      "cell_type": "code",
      "metadata": {
        "id": "ohMfpE86NGaA"
      },
      "source": [
        "url_TARIC_C2_descrptions = \"https://raw.githubusercontent.com/kazimianec/TARIC/master/DATA/TARIC_C2_descriptions.csv\"\r\n",
        "url_TARIC_C4_descrptions =\"https://raw.githubusercontent.com/kazimianec/TARIC/master/DATA/TARIC_C4_descriptions.csv\"\r\n",
        "url_TARIC_C6_descrptions =\"https://raw.githubusercontent.com/kazimianec/TARIC/master/DATA/TARIC_C6_descriptions.csv\"\r\n",
        "url_TARIC_C246_descrptions = \"https://raw.githubusercontent.com/kazimianec/TARIC/master/DATA/TARIC_C246_descriptions_CONCAT.csv\"\r\n"
      ],
      "execution_count": 2,
      "outputs": []
    },
    {
      "cell_type": "code",
      "metadata": {
        "id": "JhqP_RJ9_7wT"
      },
      "source": [
        "import pandas as pd \r\n",
        "import io \r\n",
        "  \r\n",
        "df_C2_descriptions = pd.read_csv(url_TARIC_C2_descrptions) \r\n",
        "df_C4_descriptions = pd.read_csv(url_TARIC_C4_descrptions)\r\n",
        "df_C6_descriptions = pd.read_csv(url_TARIC_C6_descrptions)\r\n",
        "df_C246_descriptions = pd.read_csv(url_TARIC_C246_descrptions)"
      ],
      "execution_count": 3,
      "outputs": []
    },
    {
      "cell_type": "code",
      "metadata": {
        "colab": {
          "base_uri": "https://localhost:8080/"
        },
        "id": "pbs9ZsjKhB-L",
        "outputId": "da628b37-3abe-40ff-8335-6f8c5b20cba5"
      },
      "source": [
        "#for col in df_C246_descriptions.columns:\r\n",
        "for col in df_C4_descriptions.columns:  \r\n",
        "    print(col)"
      ],
      "execution_count": 4,
      "outputs": [
        {
          "output_type": "stream",
          "text": [
            "goods_code_4\n",
            "Description_4\n",
            "indent\n",
            "CODE_2\n",
            "CODE_4\n",
            "CODE_6\n",
            "CODE_8\n",
            "CODE_10\n",
            "CODE_14\n"
          ],
          "name": "stdout"
        }
      ]
    },
    {
      "cell_type": "code",
      "metadata": {
        "id": "zWRhD_7I_73_"
      },
      "source": [
        "#sentences = df['CLASS_Description'].tolist()\r\n",
        "\r\n",
        "sentences_C2 = df_C2_descriptions['Description_2'].tolist()\r\n",
        "sentences_C4 = df_C4_descriptions['Description_4'].tolist()\r\n",
        "sentences_C6 = df_C6_descriptions['Description_6'].tolist()\r\n",
        "\r\n",
        "sentences_C246 = df_C246_descriptions['Description_246'].tolist()\r\n",
        "sentences_C46 = df_C246_descriptions['Description_46'].tolist()\r\n",
        "\r\n",
        "sentences_C246_concat = df_C246_descriptions['Description_246_concat'].tolist()\r\n",
        "sentences_C46_concat = df_C246_descriptions['Description_46_concat'].tolist()"
      ],
      "execution_count": 5,
      "outputs": []
    },
    {
      "cell_type": "code",
      "metadata": {
        "id": "BCoScJ--kCJQ"
      },
      "source": [
        "sentences = sentences_C246_concat\r\n",
        "#sentences = sentences_C4\r\n",
        "sentences = [element.lower() for element in sentences]\r\n"
      ],
      "execution_count": 6,
      "outputs": []
    },
    {
      "cell_type": "markdown",
      "metadata": {
        "id": "qX4N--sli603"
      },
      "source": [
        "**Test 0. \"Good descriptions\"**"
      ]
    },
    {
      "cell_type": "markdown",
      "metadata": {
        "id": "1ZlYoqZlhB6N"
      },
      "source": [
        "**Test 1. English, all words are NOT in TARIC**"
      ]
    },
    {
      "cell_type": "markdown",
      "metadata": {
        "id": "ucvSDl1ihW33"
      },
      "source": [
        "**Test 2. Englsih, words are in \"EXCLUDING ...\", \"OTHER THAN....\" parts of TARIC descriptions**"
      ]
    },
    {
      "cell_type": "markdown",
      "metadata": {
        "id": "lSwps7pSjRE_"
      },
      "source": [
        "**Test 3. Not obvious descriptions**"
      ]
    },
    {
      "cell_type": "code",
      "metadata": {
        "id": "zgZ2fHRVuF3L"
      },
      "source": [
        "description = [\"Sterling Silver Turquoise Art Deco Earrings\"]\r\n",
        "description = [\"I Love Makeup - Nail Polish\"]\r\n",
        "description = [\"Astro Pneumatic 1716 Deluxe Air Blow Gun with 20-Inch Long Angled Nozzle and 1/2-Inch Removable Rubber Tip\"]"
      ],
      "execution_count": 7,
      "outputs": []
    },
    {
      "cell_type": "markdown",
      "metadata": {
        "id": "C55VEYqOoQXw"
      },
      "source": [
        "**UNIVESAL SENTNCE ENCODER**"
      ]
    },
    {
      "cell_type": "code",
      "metadata": {
        "id": "FzTkaucchTip"
      },
      "source": [
        "import tensorflow_hub as hub\r\n",
        "import tensorflow as tf\r\n",
        "import numpy as np"
      ],
      "execution_count": 8,
      "outputs": []
    },
    {
      "cell_type": "code",
      "metadata": {
        "id": "old8HeIhyr7w"
      },
      "source": [
        "!pip install tensorflow_text\r\n",
        "import tensorflow_text"
      ],
      "execution_count": null,
      "outputs": []
    },
    {
      "cell_type": "code",
      "metadata": {
        "id": "UjkfJ1UXomrO"
      },
      "source": [
        "embed = hub.load(\"https://tfhub.dev/google/universal-sentence-encoder/4\")\r\n",
        "#embed = hub.load(\"https://tfhub.dev/google/universal-sentence-encoder-large/5\")\r\n",
        "#embed = hub.load(\"https://tfhub.dev/google/universal-sentence-encoder-multilingual-large/3\")\r\n",
        "#embed = hub.load(\"https://tfhub.dev/google/universal-sentence-encoder-lite/2\")\r\n",
        "#embed = hub.load (\"https://tfhub.dev/tensorflow/bert_en_uncased_L-12_H-768_A-12/3\")\r\n"
      ],
      "execution_count": 12,
      "outputs": []
    },
    {
      "cell_type": "code",
      "metadata": {
        "id": "ybI9PAnjqNL4"
      },
      "source": [
        "embeddings_TARIC_long = embed(sentences)"
      ],
      "execution_count": 13,
      "outputs": []
    },
    {
      "cell_type": "code",
      "metadata": {
        "colab": {
          "base_uri": "https://localhost:8080/"
        },
        "id": "dInBPBKEo84-",
        "outputId": "a9f5a500-077f-4d37-9da2-6f4bfa052745"
      },
      "source": [
        "\r\n",
        "\r\n",
        "description = [\"Sterling Silver Turquoise Art Deco Earrings\"]\r\n",
        "\r\n",
        "\r\n",
        "\r\n",
        "\r\n",
        "description = [\"Vyriškos kelnės\"]\r\n",
        "\r\n",
        "description = [\"I Love Makeup - Nail Polish\"] #yes!\r\n",
        "description = [\"Astro Pneumatic 1716 Deluxe Air Blow Gun with 20-Inch Long Angled Nozzle and 1/2-Inch Removable Rubber Tip\"] #no\r\n",
        "description = [\"Astro Pneumatic 1716 Deluxe Air Blow Gun with 20-Inch Long Angled Nozzle and 1/2-Inch Removable Rubber Tip\"]\r\n",
        "description = [\"Fosmon Apple iPhone 4 / iPhone 4G USB Sync Charge Data Cable with USB Auto Car Charger and USB Home Travel Charger\"] #SUPER matches S3\r\n",
        "description = [\"Astro Pneumatic 1716 Deluxe Air Blow Gun with 20-Inch Long Angled Nozzle and 1/2-Inch Removable Rubber Tip\"] # not\r\n",
        "\r\n",
        "\r\n",
        "description = [\"HTC HD7 Crowned Heart Phone Protector Cover Case\"] ## bullshit is both cases - bert and S3\r\n",
        "description = [\"Fosmon Apple iPhone 4 / iPhone 4G USB Sync Charge Data Cable with USB Auto Car Charger and USB Home Travel Charger\"] #SUPER matches S3 \r\n",
        "\r\n",
        "description = [\"Sterling Silver Turquoise Art Deco Earrings\"]\r\n",
        "\r\n",
        "\r\n",
        "description = [\"Fosmon Apple iPhone 4 / iPhone 4G USB Sync Charge Data Cable with USB Auto Car Charger and USB Home Travel Charger\"] #SUPER matches S3 \r\n",
        "\r\n",
        "\r\n",
        "\r\n",
        "description = [\"Jolly Jumper Pashmama Nursing Cover - Tan \"]\r\n",
        "description = [\"HTC HD7 Crowned Heart Phone Protector Cover Case\"]\r\n",
        "\r\n",
        "\r\n",
        "\r\n",
        "description = [\"Fosmon Apple iPhone 4 / iPhone 4G USB Sync Charge Data Cable with USB Auto Car Charger and USB Home Travel Charger\"]\r\n",
        "\r\n",
        "description = [\"Astro Pneumatic 1716 Deluxe Air Blow Gun with 20-Inch Long Angled Nozzle and 1/2-Inch Removable Rubber Tip\"]\r\n",
        "description = [\"Beef fillet\"]\r\n",
        "description = [\"Jolly Jumper Pashmama Nursing Cover - Tan\"]\r\n",
        "\r\n",
        "\r\n",
        "description = [\"I Love Makeup - Nail Polish\"] #yes!\r\n",
        "\r\n",
        "description = [\"cookies\"] \r\n",
        "\r\n",
        "#\r\n",
        "#description = [\"TWS Bluetooth 5.0 Earphones 2200mAh Charging Box Wireless Headphone 9D Stereo Sports Waterproof Earbuds Headsets With Microphone\"]\r\n",
        "#https://www.aliexpress.com/item/4000539506338.html?spm=a2g01.12617084.fdpcl001.1.7fb7Er8hEr8hk8&gps-id=5547572&scm=1007.19201.130907.0&scm_id=1007.19201.130907.0&scm-url=1007.19201.130907.0&pvid=5b859c98-45fa-401b-93f9-b5b29f926246\r\n",
        "#\r\n",
        "\r\n",
        "#\r\n",
        "#description = [\"FINETOO V Waist Panties Women M-4XL Underpants Female Underwear Sexy Low-Rise Girl Briefs Comfort Panties Ladies Lingerie\"]\r\n",
        "#https://www.aliexpress.com/item/4001256055038.html?spm=a2g01.12617084.fdpcl001.7.7fb7Er8hEr8hk8&gps-id=5547572&scm=1007.19201.130907.0&scm_id=1007.19201.130907.0&scm-url=1007.19201.130907.0&pvid=5b859c98-45fa-401b-93f9-b5b29f926246\r\n",
        "#\r\n",
        "\r\n",
        "\r\n",
        "#\r\n",
        "#description = [\"TREADS Kids School Shoes Children’s Black Leather 12 Month Indestructible Guarantee, Lace up Formal Footwear with Adjustable Width ‘Dual Fit’ Technology, Perfect for Active Girls\"]\r\n",
        "#https://www.amazon.co.uk/dp/B07LBVDWNV/ref=redir_mobile_desktop?_encoding=UTF8&aaxitk=n7xJNYPXoAtEC4UA8RdaiQ&hsa_cr_id=2196631350202&pd_rd_plhdr=t&pd_rd_r=b9ebdade-bd35-4b6c-854a-8b2a5a2e8999&pd_rd_w=Nfi7W&pd_rd_wg=pb3Mb&ref_=sbx_be_s_sparkle_tsld_asin_2_img\r\n",
        "#\r\n",
        "\r\n",
        "#\r\n",
        "#description = [\"TREADS Kids School Children’s Black Leather 12 Month Indestructible Guarantee, Lace up Formal with Adjustable Width ‘Dual Fit’ Technology, Perfect for Active Girls\"]\r\n",
        "#https://www.amazon.co.uk/dp/B07LBVDWNV/ref=redir_mobile_desktop?_encoding=UTF8&aaxitk=n7xJNYPXoAtEC4UA8RdaiQ&hsa_cr_id=2196631350202&pd_rd_plhdr=t&pd_rd_r=b9ebdade-bd35-4b6c-854a-8b2a5a2e8999&pd_rd_w=Nfi7W&pd_rd_wg=pb3Mb&ref_=sbx_be_s_sparkle_tsld_asin_2_img\r\n",
        "#\r\n",
        "#\r\n",
        "description = [\"ZLL SG906 MAX SG906 PRO 2 GPS Drone 4K HD Camera Laser Obstacle Avoidance 3-Axis Gimbal WiFi FPV Professional RC Quadcopter\"]\r\n",
        "#https://www.amazon.co.uk/dp/B07LBVDWNV/ref=redir_mobile_desktop?_encoding=UTF8&aaxitk=n7xJNYPXoAtEC4UA8RdaiQ&hsa_cr_id=2196631350202&pd_rd_plhdr=t&pd_rd_r=b9ebdade-bd35-4b6c-854a-8b2a5a2e8999&pd_rd_w=Nfi7W&pd_rd_wg=pb3Mb&ref_=sbx_be_s_sparkle_tsld_asin_2_img\r\n",
        "#\r\n",
        "\r\n",
        "\r\n",
        "\r\n",
        "embeddings_description = embed(description)\r\n",
        "\r\n",
        "\r\n",
        "cosine=np.dot(embeddings_TARIC_long, np.transpose(embeddings_description))\r\n",
        "#print(cosine)\r\n",
        "ind_max = tf.constant(tf.argmax(cosine)).numpy()[0]\r\n",
        "top_ind = tf.math.top_k(np.transpose(cosine), k=5, sorted=True, name=None).indices.numpy()[0]\r\n",
        "top_value = tf.math.top_k(np.transpose(cosine), k=5, sorted=True, name=None).values.numpy()[0]\r\n",
        "print(cosine[ind_max])\r\n",
        "#print(classes_6[ind_max])\r\n",
        "print(top_value[0], sentences[top_ind[0]])\r\n",
        "print(top_value[1], sentences[top_ind[1]])\r\n",
        "print(top_value[2], sentences[top_ind[2]])\r\n",
        "print(top_value[3], sentences[top_ind[3]])\r\n",
        "print(top_value[4], sentences[top_ind[4]])"
      ],
      "execution_count": 20,
      "outputs": [
        {
          "output_type": "stream",
          "text": [
            "[0.29607403]\n",
            "0.29607403 electrical machinery and equipment and parts thereof; sound recorders and reproducers, television image and sound recorders and reproducers, and parts and accessories of such articles; transmission apparatus for radio-broadcasting or television, whether or not incorporating reception apparatus or sound recording or reproducing apparatus; television cameras, digital cameras and video camera recorders; television cameras, digital cameras and video camera recorders camera:\n",
            " \n",
            "-|of a weight of not more than 5,9|kg,\n",
            " \n",
            "-|without a housing,\n",
            " \n",
            "-|of dimensions of not more than 405|mm|!x! 315|mm,\n",
            " \n",
            "-|with a single charge-couple-device (ccd) or complementary metal oxide semiconductor (cmos) sensor,\n",
            " \n",
            "-|with effective pixels of not more than 5|megapixels,\n",
            "for use in closed circuit television (cctv) surveillance systems or in appliances for eye-checks,image scanning cameras, using:\n",
            " \n",
            "-|a \"\"dynamic\"\"- or \"\"static overlay lines\"\" system,\n",
            " \n",
            "-|an output ntsc video signal,\n",
            " \n",
            "-|a voltage of 6,5|v or more,\n",
            " \n",
            "-|an illuminance of 0,5|lux or more\n",
            ",long wavelength infrared camera (lwir camera) (according to iso/ts 16949), with:\n",
            " \n",
            "-|a sensitivity in the wavelength area of 7,5|μm or more, but not more than 17|μm,\n",
            " \n",
            "-|a resolution of up to 640|!x!|512|pixels,\n",
            " \n",
            "-|a weight of not more than 400|g,\n",
            " \n",
            "-|measurements of not more than 70|mm|!x! 86|mm|!x! 82|mm,\n",
            " \n",
            "-|whether or not in a housing\n",
            " \n",
            "-|with automotive- qualified plug and\n",
            " \n",
            "-|a deviation of the output signal over the entire work temperature range of not more than 20|%\n",
            ",other,camera:\n",
            " \n",
            "-|of a weight of not more than 5,9|kg,\n",
            " \n",
            "-|without a housing,\n",
            " \n",
            "-|of dimensions of not more than 405|mm|!x! 315|mm,\n",
            " \n",
            "-|with a single charge-couple-device (ccd) or complementary metal oxide semiconductor (cmos) sensor,\n",
            " \n",
            "-|with effective pixels of not more than 5|megapixels,\n",
            "for use in closed circuit television (cctv) surveillance systems or in appliances for eye-checks,other\n",
            "0.29139638 explosives; pyrotechnic products; matches; pyrophoric alloys; certain combustible preparations; fireworks, signalling flares, rain rockets, fog signals and other pyrotechnic articles; fireworks \n",
            "0.28888065 explosives; pyrotechnic products; matches; pyrophoric alloys; certain combustible preparations; fireworks, signalling flares, rain rockets, fog signals and other pyrotechnic articles; other \n",
            "0.2867834 aircraft, spacecraft, and parts thereof; other aircraft (for example, helicopters, aeroplanes); spacecraft (including satellites) and suborbital and spacecraft launch vehicles; aeroplanes and other aircraft, of an unladen weight exceeding 2|000|kg but not exceeding 15|000|kg for civil use,other\n",
            "0.2866215 aircraft, spacecraft, and parts thereof; other aircraft (for example, helicopters, aeroplanes); spacecraft (including satellites) and suborbital and spacecraft launch vehicles; helicopters;of an unladen weight not exceeding 2|000|kg for civil use,other\n"
          ],
          "name": "stdout"
        }
      ]
    },
    {
      "cell_type": "markdown",
      "metadata": {
        "id": "ZvZWEiQNMP48"
      },
      "source": [
        "https://www.aliexpress.com/item/4000539506338.html?spm=a2g01.12617084.fdpcl001.1.7fb7Er8hEr8hk8&gps-id=5547572&scm=1007.19201.130907.0&scm_id=1007.19201.130907.0&scm-url=1007.19201.130907.0&pvid=5b859c98-45fa-401b-93f9-b5b29f926246"
      ]
    },
    {
      "cell_type": "code",
      "metadata": {
        "colab": {
          "base_uri": "https://localhost:8080/"
        },
        "id": "43lgVjR-KeHE",
        "outputId": "c74e52a3-6d56-4c47-902a-82297b7f4a72"
      },
      "source": [
        "#df_C246_descriptions.iloc[top_ind[1],:]\r\n",
        "print(df_C246_descriptions.iloc[top_ind[0],:])\r\n",
        "print(df_C246_descriptions.iloc[top_ind[1],:])\r\n",
        "print(df_C246_descriptions.iloc[top_ind[2],:])\r\n",
        "print(df_C246_descriptions.iloc[top_ind[3],:])\r\n",
        "print(df_C246_descriptions.iloc[top_ind[4],:])"
      ],
      "execution_count": 19,
      "outputs": [
        {
          "output_type": "stream",
          "text": [
            "CODE_2                                                                   36\n",
            "CODE_4                                                                    4\n",
            "CODE_6                                                                   10\n",
            "goods_CODE_6                                                  3604100000 80\n",
            "Description_46            Fireworks, signalling flares, rain rockets, fo...\n",
            "Description_246           EXPLOSIVES; PYROTECHNIC PRODUCTS; MATCHES; PYR...\n",
            "Description_46_concat     Fireworks, signalling flares, rain rockets, fo...\n",
            "Description_246_concat    EXPLOSIVES; PYROTECHNIC PRODUCTS; MATCHES; PYR...\n",
            "Name: 1732, dtype: object\n",
            "CODE_2                                                                   36\n",
            "CODE_4                                                                    4\n",
            "CODE_6                                                                   90\n",
            "goods_CODE_6                                                  3604900000 80\n",
            "Description_46            Fireworks, signalling flares, rain rockets, fo...\n",
            "Description_246           EXPLOSIVES; PYROTECHNIC PRODUCTS; MATCHES; PYR...\n",
            "Description_46_concat     Fireworks, signalling flares, rain rockets, fo...\n",
            "Description_246_concat    EXPLOSIVES; PYROTECHNIC PRODUCTS; MATCHES; PYR...\n",
            "Name: 1733, dtype: object\n",
            "CODE_2                                                                   85\n",
            "CODE_4                                                                   25\n",
            "CODE_6                                                                   80\n",
            "goods_CODE_6                                                  8525800000 80\n",
            "Description_46            Transmission apparatus for radio-broadcasting ...\n",
            "Description_246           ELECTRICAL MACHINERY AND EQUIPMENT AND PARTS T...\n",
            "Description_46_concat     Transmission apparatus for radio-broadcasting ...\n",
            "Description_246_concat    ELECTRICAL MACHINERY AND EQUIPMENT AND PARTS T...\n",
            "Name: 4520, dtype: object\n",
            "CODE_2                                                                   88\n",
            "CODE_4                                                                    2\n",
            "CODE_6                                                                   11\n",
            "goods_CODE_6                                                  8802110000 80\n",
            "Description_46            Other aircraft (for example, helicopters, aero...\n",
            "Description_246           AIRCRAFT, SPACECRAFT, AND PARTS THEREOF; Other...\n",
            "Description_46_concat     Other aircraft (for example, helicopters, aero...\n",
            "Description_246_concat    AIRCRAFT, SPACECRAFT, AND PARTS THEREOF; Other...\n",
            "Name: 4748, dtype: object\n",
            "CODE_2                                                                   88\n",
            "CODE_4                                                                    2\n",
            "CODE_6                                                                   11\n",
            "goods_CODE_6                                                  8802120000 80\n",
            "Description_46            Other aircraft (for example, helicopters, aero...\n",
            "Description_246           AIRCRAFT, SPACECRAFT, AND PARTS THEREOF; Other...\n",
            "Description_46_concat     Other aircraft (for example, helicopters, aero...\n",
            "Description_246_concat    AIRCRAFT, SPACECRAFT, AND PARTS THEREOF; Other...\n",
            "Name: 4749, dtype: object\n"
          ],
          "name": "stdout"
        }
      ]
    },
    {
      "cell_type": "code",
      "metadata": {
        "id": "aslspbMkWDve"
      },
      "source": [
        "cosine_neighbours=np.dot(embeddings_TARIC_long[top_ind[0]], np.transpose(embeddings_TARIC_long[top_ind[4]]))"
      ],
      "execution_count": null,
      "outputs": []
    },
    {
      "cell_type": "code",
      "metadata": {
        "colab": {
          "base_uri": "https://localhost:8080/"
        },
        "id": "jXWNQc_zWdqZ",
        "outputId": "fbab5ca1-b5e0-4cdd-897f-199e46de3aaf"
      },
      "source": [
        "print (cosine_neighbours)"
      ],
      "execution_count": null,
      "outputs": [
        {
          "output_type": "stream",
          "text": [
            "0.9094088\n"
          ],
          "name": "stdout"
        }
      ]
    }
  ]
}