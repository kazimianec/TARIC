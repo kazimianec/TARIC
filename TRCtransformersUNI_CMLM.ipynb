{
  "nbformat": 4,
  "nbformat_minor": 0,
  "metadata": {
    "colab": {
      "name": "TRCtransformersUNI_CMLM.ipynb",
      "provenance": [],
      "collapsed_sections": [],
      "authorship_tag": "ABX9TyPgPBaiqTL0edijjZDkDn+F",
      "include_colab_link": true
    },
    "kernelspec": {
      "display_name": "Python 3",
      "name": "python3"
    },
    "accelerator": "TPU"
  },
  "cells": [
    {
      "cell_type": "markdown",
      "metadata": {
        "id": "view-in-github",
        "colab_type": "text"
      },
      "source": [
        "<a href=\"https://colab.research.google.com/github/kazimianec/TARIC/blob/master/TRCtransformersUNI_CMLM.ipynb\" target=\"_parent\"><img src=\"https://colab.research.google.com/assets/colab-badge.svg\" alt=\"Open In Colab\"/></a>"
      ]
    },
    {
      "cell_type": "code",
      "metadata": {
        "id": "31bjoeeFzmID"
      },
      "source": [
        "import numpy as np\r\n",
        "import pandas as pd\r\n",
        "import os"
      ],
      "execution_count": 1,
      "outputs": []
    },
    {
      "cell_type": "code",
      "metadata": {
        "id": "ohMfpE86NGaA"
      },
      "source": [
        "url_TARIC_C2_descrptions = \"https://raw.githubusercontent.com/kazimianec/TARIC/master/DATA/TARIC_C2_descriptions.csv\"\r\n",
        "url_TARIC_C4_descrptions =\"https://raw.githubusercontent.com/kazimianec/TARIC/master/DATA/TARIC_C4_descriptions.csv\"\r\n",
        "url_TARIC_C6_descrptions =\"https://raw.githubusercontent.com/kazimianec/TARIC/master/DATA/TARIC_C6_descriptions.csv\"\r\n",
        "url_TARIC_C246_descrptions = \"https://raw.githubusercontent.com/kazimianec/TARIC/master/DATA/TARIC_C246_descriptions_CONCAT.csv\"\r\n"
      ],
      "execution_count": 2,
      "outputs": []
    },
    {
      "cell_type": "code",
      "metadata": {
        "id": "JhqP_RJ9_7wT"
      },
      "source": [
        "import pandas as pd \r\n",
        "import io \r\n",
        "  \r\n",
        "df_C2_descriptions = pd.read_csv(url_TARIC_C2_descrptions) \r\n",
        "df_C4_descriptions = pd.read_csv(url_TARIC_C4_descrptions)\r\n",
        "df_C6_descriptions = pd.read_csv(url_TARIC_C6_descrptions)\r\n",
        "df_C246_descriptions = pd.read_csv(url_TARIC_C246_descrptions)"
      ],
      "execution_count": 3,
      "outputs": []
    },
    {
      "cell_type": "code",
      "metadata": {
        "colab": {
          "base_uri": "https://localhost:8080/"
        },
        "id": "pbs9ZsjKhB-L",
        "outputId": "b5e400e8-d95b-4ae7-bace-6f0745971ad8"
      },
      "source": [
        "for col in df_C246_descriptions.columns: \r\n",
        "    print(col)"
      ],
      "execution_count": 4,
      "outputs": [
        {
          "output_type": "stream",
          "text": [
            "CODE_2\n",
            "CODE_4\n",
            "CODE_6\n",
            "goods_CODE_6\n",
            "Description_46\n",
            "Description_246\n",
            "Description_46_concat\n",
            "Description_246_concat\n"
          ],
          "name": "stdout"
        }
      ]
    },
    {
      "cell_type": "code",
      "metadata": {
        "id": "zWRhD_7I_73_"
      },
      "source": [
        "#sentences = df['CLASS_Description'].tolist()\r\n",
        "\r\n",
        "sentences_C2 = df_C2_descriptions['Description_2'].tolist()\r\n",
        "sentences_C4 = df_C4_descriptions['Description_4'].tolist()\r\n",
        "sentences_C6 = df_C6_descriptions['Description_6'].tolist()\r\n",
        "\r\n",
        "sentences_C246 = df_C246_descriptions['Description_246'].tolist()\r\n",
        "sentences_C46 = df_C246_descriptions['Description_46'].tolist()\r\n",
        "\r\n",
        "sentences_C246_concat = df_C246_descriptions['Description_246_concat'].tolist()\r\n",
        "sentences_C46_concat = df_C246_descriptions['Description_46_concat'].tolist()"
      ],
      "execution_count": 5,
      "outputs": []
    },
    {
      "cell_type": "code",
      "metadata": {
        "id": "BCoScJ--kCJQ"
      },
      "source": [
        "sentences = sentences_C2\r\n",
        "sentences = [element.lower() for element in sentences]\r\n"
      ],
      "execution_count": 6,
      "outputs": []
    },
    {
      "cell_type": "markdown",
      "metadata": {
        "id": "qX4N--sli603"
      },
      "source": [
        "**Test 0. \"Good descriptions\"**"
      ]
    },
    {
      "cell_type": "markdown",
      "metadata": {
        "id": "1ZlYoqZlhB6N"
      },
      "source": [
        "**Test 1. English, all words are NOT in TARIC**"
      ]
    },
    {
      "cell_type": "markdown",
      "metadata": {
        "id": "ucvSDl1ihW33"
      },
      "source": [
        "**Test 2. Englsih, words are in \"EXCLUDING ...\", \"OTHER THAN....\" parts of TARIC descriptions**"
      ]
    },
    {
      "cell_type": "markdown",
      "metadata": {
        "id": "lSwps7pSjRE_"
      },
      "source": [
        "**Test 3. Not obvious descriptions**"
      ]
    },
    {
      "cell_type": "code",
      "metadata": {
        "id": "zgZ2fHRVuF3L"
      },
      "source": [
        "description = [\"Sterling Silver Turquoise Art Deco Earrings\"]\r\n",
        "description = [\"I Love Makeup - Nail Polish\"]\r\n",
        "description = [\"Astro Pneumatic 1716 Deluxe Air Blow Gun with 20-Inch Long Angled Nozzle and 1/2-Inch Removable Rubber Tip\"]"
      ],
      "execution_count": null,
      "outputs": []
    },
    {
      "cell_type": "markdown",
      "metadata": {
        "id": "C55VEYqOoQXw"
      },
      "source": [
        "**UNIVESAL SENTNCE ENCODER CMLM**"
      ]
    },
    {
      "cell_type": "code",
      "metadata": {
        "id": "FzTkaucchTip"
      },
      "source": [
        "import tensorflow_hub as hub\r\n",
        "import tensorflow as tf\r\n",
        "import numpy as np"
      ],
      "execution_count": 7,
      "outputs": []
    },
    {
      "cell_type": "code",
      "metadata": {
        "id": "old8HeIhyr7w"
      },
      "source": [
        "!pip install tensorflow_text\r\n",
        "import tensorflow_text"
      ],
      "execution_count": null,
      "outputs": []
    },
    {
      "cell_type": "code",
      "metadata": {
        "id": "vBFGHVNtnHqo"
      },
      "source": [
        "#english_sentences = tf.constant([\"dog\", \"Puppies are nice.\", \"I enjoy taking long walks along the beach with my dog.\"])\r\n",
        "TARIC_sentences = tf.constant(sentences)"
      ],
      "execution_count": 10,
      "outputs": []
    },
    {
      "cell_type": "code",
      "metadata": {
        "id": "ra5Dji6WnkCS"
      },
      "source": [
        "preprocessor = hub.KerasLayer(\"https://tfhub.dev/tensorflow/bert_en_uncased_preprocess/3\")\r\n"
      ],
      "execution_count": 11,
      "outputs": []
    },
    {
      "cell_type": "code",
      "metadata": {
        "id": "h-Wp1YTupSaL"
      },
      "source": [
        "encoder = hub.KerasLayer(\"https://tfhub.dev/google/universal-sentence-encoder-cmlm/en-large/1\")\r\n",
        "#encoder = hub.KerasLayer(\"https://tfhub.dev/google/universal-sentence-encoder-cmlm/en-base/1\")\r\n",
        "\r\n"
      ],
      "execution_count": 12,
      "outputs": []
    },
    {
      "cell_type": "code",
      "metadata": {
        "id": "Xiyy93bOpuMP"
      },
      "source": [
        "embeddings_TARIC_long = encoder(preprocessor(TARIC_sentences))[\"default\"]\r\n"
      ],
      "execution_count": null,
      "outputs": []
    },
    {
      "cell_type": "code",
      "metadata": {
        "colab": {
          "base_uri": "https://localhost:8080/"
        },
        "id": "oBFZMjxoyPMM",
        "outputId": "70cab054-5858-4aab-b703-7fe2ed9d41c7"
      },
      "source": [
        "print (embeddings_TARIC_long.shape)"
      ],
      "execution_count": 22,
      "outputs": [
        {
          "output_type": "stream",
          "text": [
            "(98, 1024)\n"
          ],
          "name": "stdout"
        }
      ]
    },
    {
      "cell_type": "code",
      "metadata": {
        "id": "UjkfJ1UXomrO"
      },
      "source": [
        "#embed = hub.load(\"https://tfhub.dev/google/universal-sentence-encoder/4\")\r\n",
        "#embed = hub.load(\"https://tfhub.dev/google/universal-sentence-encoder-large/5\")\r\n",
        "#embed = hub.load(\"https://tfhub.dev/google/universal-sentence-encoder-multilingual-large/3\")\r\n",
        "#embed = hub.load(\"https://tfhub.dev/google/universal-sentence-encoder-lite/2\")\r\n",
        "#embed = hub.load (\"https://tfhub.dev/tensorflow/bert_en_uncased_L-12_H-768_A-12/3\")\r\n"
      ],
      "execution_count": 14,
      "outputs": []
    },
    {
      "cell_type": "code",
      "metadata": {
        "id": "ybI9PAnjqNL4"
      },
      "source": [
        "# = embed(sentences)"
      ],
      "execution_count": null,
      "outputs": []
    },
    {
      "cell_type": "code",
      "metadata": {
        "id": "dInBPBKEo84-",
        "colab": {
          "base_uri": "https://localhost:8080/"
        },
        "outputId": "1e065515-dadb-4f2e-fb5b-4ba27502b54b"
      },
      "source": [
        "\r\n",
        "\r\n",
        "description = [\"Sterling Silver Turquoise Art Deco Earrings\"]\r\n",
        "\r\n",
        "\r\n",
        "\r\n",
        "\r\n",
        "description = [\"Vyriškos kelnės\"]\r\n",
        "\r\n",
        "description = [\"I Love Makeup - Nail Polish\"] #yes!\r\n",
        "description = [\"Astro Pneumatic 1716 Deluxe Air Blow Gun with 20-Inch Long Angled Nozzle and 1/2-Inch Removable Rubber Tip\"] #no\r\n",
        "description = [\"Astro Pneumatic 1716 Deluxe Air Blow Gun with 20-Inch Long Angled Nozzle and 1/2-Inch Removable Rubber Tip\"]\r\n",
        "description = [\"Fosmon Apple iPhone 4 / iPhone 4G USB Sync Charge Data Cable with USB Auto Car Charger and USB Home Travel Charger\"] #SUPER matches S3\r\n",
        "description = [\"Astro Pneumatic 1716 Deluxe Air Blow Gun with 20-Inch Long Angled Nozzle and 1/2-Inch Removable Rubber Tip\"] # not\r\n",
        "\r\n",
        "\r\n",
        "description = [\"HTC HD7 Crowned Heart Phone Protector Cover Case\"] ## bullshit is both cases - bert and S3\r\n",
        "description = [\"Fosmon Apple iPhone 4 / iPhone 4G USB Sync Charge Data Cable with USB Auto Car Charger and USB Home Travel Charger\"] #SUPER matches S3 \r\n",
        "\r\n",
        "description = [\"Sterling Silver Turquoise Art Deco Earrings\"]\r\n",
        "\r\n",
        "\r\n",
        "description = [\"Fosmon Apple iPhone 4 / iPhone 4G USB Sync Charge Data Cable with USB Auto Car Charger and USB Home Travel Charger\"] #SUPER matches S3 \r\n",
        "\r\n",
        "\r\n",
        "\r\n",
        "description = [\"Jolly Jumper Pashmama Nursing Cover - Tan \"]\r\n",
        "description = [\"HTC HD7 Crowned Heart Phone Protector Cover Case\"]\r\n",
        "\r\n",
        "\r\n",
        "\r\n",
        "\r\n",
        "\r\n",
        "description = [\"Jolly Jumper Pashmama Nursing Cover - Tan\"]\r\n",
        "description = [\"Astro Pneumatic 1716 Deluxe Air Blow Gun with 20-Inch Long Angled Nozzle and 1/2-Inch Removable Rubber Tip\"]\r\n",
        "\r\n",
        "description = [\"Fosmon Apple iPhone 4 / iPhone 4G USB Sync Charge Data Cable with USB Auto Car Charger and USB Home Travel Charger\"]\r\n",
        "description = [\"I Love Makeup - Nail Polish\"] #yes!\r\n",
        "description = [\"Meat beef\"]\r\n",
        "\r\n",
        "\r\n",
        "TARIC_description = tf.constant(description)\r\n",
        "embeddings_description = encoder(preprocessor(TARIC_description))[\"default\"]\r\n",
        "\r\n",
        "\r\n",
        "cosine=np.dot(embeddings_TARIC_long, np.transpose(embeddings_description))\r\n",
        "cosine=np.inner(embeddings_TARIC_long, embeddings_description)\r\n",
        "#print(cosine)\r\n",
        "ind_max = tf.constant(tf.argmax(cosine)).numpy()[0]\r\n",
        "top_ind = tf.math.top_k(np.transpose(cosine), k=5, sorted=True, name=None).indices.numpy()[0]\r\n",
        "top_value = tf.math.top_k(np.transpose(cosine), k=5, sorted=True, name=None).values.numpy()[0]\r\n",
        "print(cosine[ind_max])\r\n",
        "#print(classes_6[ind_max])\r\n",
        "print(top_value[0], sentences[top_ind[0]])\r\n",
        "print(top_value[1], sentences[top_ind[1]])\r\n",
        "print(top_value[2], sentences[top_ind[2]])\r\n",
        "print(top_value[3], sentences[top_ind[3]])\r\n",
        "print(top_value[4], sentences[top_ind[4]])"
      ],
      "execution_count": 29,
      "outputs": [
        {
          "output_type": "stream",
          "text": [
            "[861.42346]\n",
            "861.42346 silk\n",
            "847.23816 cotton\n",
            "829.6992 live animals\n",
            "807.11096 organic chemicals\n",
            "790.7445 cereals\n"
          ],
          "name": "stdout"
        }
      ]
    },
    {
      "cell_type": "code",
      "metadata": {
        "colab": {
          "base_uri": "https://localhost:8080/"
        },
        "id": "dW7GD8UBydMZ",
        "outputId": "5a1e9c49-0cb9-42a5-e96d-99f657ecfa78"
      },
      "source": [
        "cosine.shape"
      ],
      "execution_count": 23,
      "outputs": [
        {
          "output_type": "execute_result",
          "data": {
            "text/plain": [
              "(98, 1)"
            ]
          },
          "metadata": {
            "tags": []
          },
          "execution_count": 23
        }
      ]
    }
  ]
}