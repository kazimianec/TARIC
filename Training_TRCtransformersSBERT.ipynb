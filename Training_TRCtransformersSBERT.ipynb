{
  "nbformat": 4,
  "nbformat_minor": 0,
  "metadata": {
    "colab": {
      "name": "Training TRCtransformersSBERT.ipynb",
      "provenance": [],
      "collapsed_sections": [],
      "authorship_tag": "ABX9TyOmijoiYTVX1j8rVeCNGuRz",
      "include_colab_link": true
    },
    "kernelspec": {
      "display_name": "Python 3",
      "name": "python3"
    },
    "widgets": {
      "application/vnd.jupyter.widget-state+json": {
        "f1fb04d3d4bb423aa5ad621a45dc80e1": {
          "model_module": "@jupyter-widgets/controls",
          "model_name": "HBoxModel",
          "state": {
            "_view_name": "HBoxView",
            "_dom_classes": [],
            "_model_name": "HBoxModel",
            "_view_module": "@jupyter-widgets/controls",
            "_model_module_version": "1.5.0",
            "_view_count": null,
            "_view_module_version": "1.5.0",
            "box_style": "",
            "layout": "IPY_MODEL_5eabfe5f3b5241e0b3f08aa9c3a185e4",
            "_model_module": "@jupyter-widgets/controls",
            "children": [
              "IPY_MODEL_65bf9b3c74314f909da24f89ad67fef9",
              "IPY_MODEL_657d8f660fb34cdd9c834540797c3c48"
            ]
          }
        },
        "5eabfe5f3b5241e0b3f08aa9c3a185e4": {
          "model_module": "@jupyter-widgets/base",
          "model_name": "LayoutModel",
          "state": {
            "_view_name": "LayoutView",
            "grid_template_rows": null,
            "right": null,
            "justify_content": null,
            "_view_module": "@jupyter-widgets/base",
            "overflow": null,
            "_model_module_version": "1.2.0",
            "_view_count": null,
            "flex_flow": null,
            "width": null,
            "min_width": null,
            "border": null,
            "align_items": null,
            "bottom": null,
            "_model_module": "@jupyter-widgets/base",
            "top": null,
            "grid_column": null,
            "overflow_y": null,
            "overflow_x": null,
            "grid_auto_flow": null,
            "grid_area": null,
            "grid_template_columns": null,
            "flex": null,
            "_model_name": "LayoutModel",
            "justify_items": null,
            "grid_row": null,
            "max_height": null,
            "align_content": null,
            "visibility": null,
            "align_self": null,
            "height": null,
            "min_height": null,
            "padding": null,
            "grid_auto_rows": null,
            "grid_gap": null,
            "max_width": null,
            "order": null,
            "_view_module_version": "1.2.0",
            "grid_template_areas": null,
            "object_position": null,
            "object_fit": null,
            "grid_auto_columns": null,
            "margin": null,
            "display": null,
            "left": null
          }
        },
        "65bf9b3c74314f909da24f89ad67fef9": {
          "model_module": "@jupyter-widgets/controls",
          "model_name": "FloatProgressModel",
          "state": {
            "_view_name": "ProgressView",
            "style": "IPY_MODEL_696006353f834c29acc1bb2f881c99d7",
            "_dom_classes": [],
            "description": "Epoch: 100%",
            "_model_name": "FloatProgressModel",
            "bar_style": "success",
            "max": 1,
            "_view_module": "@jupyter-widgets/controls",
            "_model_module_version": "1.5.0",
            "value": 1,
            "_view_count": null,
            "_view_module_version": "1.5.0",
            "orientation": "horizontal",
            "min": 0,
            "description_tooltip": null,
            "_model_module": "@jupyter-widgets/controls",
            "layout": "IPY_MODEL_1a2bb301ee8f4b4f8463d81bea04532a"
          }
        },
        "657d8f660fb34cdd9c834540797c3c48": {
          "model_module": "@jupyter-widgets/controls",
          "model_name": "HTMLModel",
          "state": {
            "_view_name": "HTMLView",
            "style": "IPY_MODEL_58c673febd52418dbc035165c1ea6944",
            "_dom_classes": [],
            "description": "",
            "_model_name": "HTMLModel",
            "placeholder": "​",
            "_view_module": "@jupyter-widgets/controls",
            "_model_module_version": "1.5.0",
            "value": " 1/1 [00:26&lt;00:00, 26.94s/it]",
            "_view_count": null,
            "_view_module_version": "1.5.0",
            "description_tooltip": null,
            "_model_module": "@jupyter-widgets/controls",
            "layout": "IPY_MODEL_e8c9fef104d04534a51054d4cbfd6bf1"
          }
        },
        "696006353f834c29acc1bb2f881c99d7": {
          "model_module": "@jupyter-widgets/controls",
          "model_name": "ProgressStyleModel",
          "state": {
            "_view_name": "StyleView",
            "_model_name": "ProgressStyleModel",
            "description_width": "initial",
            "_view_module": "@jupyter-widgets/base",
            "_model_module_version": "1.5.0",
            "_view_count": null,
            "_view_module_version": "1.2.0",
            "bar_color": null,
            "_model_module": "@jupyter-widgets/controls"
          }
        },
        "1a2bb301ee8f4b4f8463d81bea04532a": {
          "model_module": "@jupyter-widgets/base",
          "model_name": "LayoutModel",
          "state": {
            "_view_name": "LayoutView",
            "grid_template_rows": null,
            "right": null,
            "justify_content": null,
            "_view_module": "@jupyter-widgets/base",
            "overflow": null,
            "_model_module_version": "1.2.0",
            "_view_count": null,
            "flex_flow": null,
            "width": null,
            "min_width": null,
            "border": null,
            "align_items": null,
            "bottom": null,
            "_model_module": "@jupyter-widgets/base",
            "top": null,
            "grid_column": null,
            "overflow_y": null,
            "overflow_x": null,
            "grid_auto_flow": null,
            "grid_area": null,
            "grid_template_columns": null,
            "flex": null,
            "_model_name": "LayoutModel",
            "justify_items": null,
            "grid_row": null,
            "max_height": null,
            "align_content": null,
            "visibility": null,
            "align_self": null,
            "height": null,
            "min_height": null,
            "padding": null,
            "grid_auto_rows": null,
            "grid_gap": null,
            "max_width": null,
            "order": null,
            "_view_module_version": "1.2.0",
            "grid_template_areas": null,
            "object_position": null,
            "object_fit": null,
            "grid_auto_columns": null,
            "margin": null,
            "display": null,
            "left": null
          }
        },
        "58c673febd52418dbc035165c1ea6944": {
          "model_module": "@jupyter-widgets/controls",
          "model_name": "DescriptionStyleModel",
          "state": {
            "_view_name": "StyleView",
            "_model_name": "DescriptionStyleModel",
            "description_width": "",
            "_view_module": "@jupyter-widgets/base",
            "_model_module_version": "1.5.0",
            "_view_count": null,
            "_view_module_version": "1.2.0",
            "_model_module": "@jupyter-widgets/controls"
          }
        },
        "e8c9fef104d04534a51054d4cbfd6bf1": {
          "model_module": "@jupyter-widgets/base",
          "model_name": "LayoutModel",
          "state": {
            "_view_name": "LayoutView",
            "grid_template_rows": null,
            "right": null,
            "justify_content": null,
            "_view_module": "@jupyter-widgets/base",
            "overflow": null,
            "_model_module_version": "1.2.0",
            "_view_count": null,
            "flex_flow": null,
            "width": null,
            "min_width": null,
            "border": null,
            "align_items": null,
            "bottom": null,
            "_model_module": "@jupyter-widgets/base",
            "top": null,
            "grid_column": null,
            "overflow_y": null,
            "overflow_x": null,
            "grid_auto_flow": null,
            "grid_area": null,
            "grid_template_columns": null,
            "flex": null,
            "_model_name": "LayoutModel",
            "justify_items": null,
            "grid_row": null,
            "max_height": null,
            "align_content": null,
            "visibility": null,
            "align_self": null,
            "height": null,
            "min_height": null,
            "padding": null,
            "grid_auto_rows": null,
            "grid_gap": null,
            "max_width": null,
            "order": null,
            "_view_module_version": "1.2.0",
            "grid_template_areas": null,
            "object_position": null,
            "object_fit": null,
            "grid_auto_columns": null,
            "margin": null,
            "display": null,
            "left": null
          }
        },
        "4aecb698eb704e578a041eb40aa7e2ca": {
          "model_module": "@jupyter-widgets/controls",
          "model_name": "HBoxModel",
          "state": {
            "_view_name": "HBoxView",
            "_dom_classes": [],
            "_model_name": "HBoxModel",
            "_view_module": "@jupyter-widgets/controls",
            "_model_module_version": "1.5.0",
            "_view_count": null,
            "_view_module_version": "1.5.0",
            "box_style": "",
            "layout": "IPY_MODEL_0ec0be28f98046c78010ab62be6001a8",
            "_model_module": "@jupyter-widgets/controls",
            "children": [
              "IPY_MODEL_fa96ceb7ebed48c398c24fd1631a0f9b",
              "IPY_MODEL_0feef150471f4223968c7bda3c463c8f"
            ]
          }
        },
        "0ec0be28f98046c78010ab62be6001a8": {
          "model_module": "@jupyter-widgets/base",
          "model_name": "LayoutModel",
          "state": {
            "_view_name": "LayoutView",
            "grid_template_rows": null,
            "right": null,
            "justify_content": null,
            "_view_module": "@jupyter-widgets/base",
            "overflow": null,
            "_model_module_version": "1.2.0",
            "_view_count": null,
            "flex_flow": null,
            "width": null,
            "min_width": null,
            "border": null,
            "align_items": null,
            "bottom": null,
            "_model_module": "@jupyter-widgets/base",
            "top": null,
            "grid_column": null,
            "overflow_y": null,
            "overflow_x": null,
            "grid_auto_flow": null,
            "grid_area": null,
            "grid_template_columns": null,
            "flex": null,
            "_model_name": "LayoutModel",
            "justify_items": null,
            "grid_row": null,
            "max_height": null,
            "align_content": null,
            "visibility": null,
            "align_self": null,
            "height": null,
            "min_height": null,
            "padding": null,
            "grid_auto_rows": null,
            "grid_gap": null,
            "max_width": null,
            "order": null,
            "_view_module_version": "1.2.0",
            "grid_template_areas": null,
            "object_position": null,
            "object_fit": null,
            "grid_auto_columns": null,
            "margin": null,
            "display": null,
            "left": null
          }
        },
        "fa96ceb7ebed48c398c24fd1631a0f9b": {
          "model_module": "@jupyter-widgets/controls",
          "model_name": "FloatProgressModel",
          "state": {
            "_view_name": "ProgressView",
            "style": "IPY_MODEL_d3770452f99549c1b02f22afe1432c5e",
            "_dom_classes": [],
            "description": "Iteration: 100%",
            "_model_name": "FloatProgressModel",
            "bar_style": "success",
            "max": 4,
            "_view_module": "@jupyter-widgets/controls",
            "_model_module_version": "1.5.0",
            "value": 4,
            "_view_count": null,
            "_view_module_version": "1.5.0",
            "orientation": "horizontal",
            "min": 0,
            "description_tooltip": null,
            "_model_module": "@jupyter-widgets/controls",
            "layout": "IPY_MODEL_0b419c8d07b94135bc581cfa6ea85fb6"
          }
        },
        "0feef150471f4223968c7bda3c463c8f": {
          "model_module": "@jupyter-widgets/controls",
          "model_name": "HTMLModel",
          "state": {
            "_view_name": "HTMLView",
            "style": "IPY_MODEL_e713247a1e4242e19409e64c0fbe0c33",
            "_dom_classes": [],
            "description": "",
            "_model_name": "HTMLModel",
            "placeholder": "​",
            "_view_module": "@jupyter-widgets/controls",
            "_model_module_version": "1.5.0",
            "value": " 4/4 [00:26&lt;00:00,  6.72s/it]",
            "_view_count": null,
            "_view_module_version": "1.5.0",
            "description_tooltip": null,
            "_model_module": "@jupyter-widgets/controls",
            "layout": "IPY_MODEL_0a5cce5bb2094f9abbb92bacdc9ef76e"
          }
        },
        "d3770452f99549c1b02f22afe1432c5e": {
          "model_module": "@jupyter-widgets/controls",
          "model_name": "ProgressStyleModel",
          "state": {
            "_view_name": "StyleView",
            "_model_name": "ProgressStyleModel",
            "description_width": "initial",
            "_view_module": "@jupyter-widgets/base",
            "_model_module_version": "1.5.0",
            "_view_count": null,
            "_view_module_version": "1.2.0",
            "bar_color": null,
            "_model_module": "@jupyter-widgets/controls"
          }
        },
        "0b419c8d07b94135bc581cfa6ea85fb6": {
          "model_module": "@jupyter-widgets/base",
          "model_name": "LayoutModel",
          "state": {
            "_view_name": "LayoutView",
            "grid_template_rows": null,
            "right": null,
            "justify_content": null,
            "_view_module": "@jupyter-widgets/base",
            "overflow": null,
            "_model_module_version": "1.2.0",
            "_view_count": null,
            "flex_flow": null,
            "width": null,
            "min_width": null,
            "border": null,
            "align_items": null,
            "bottom": null,
            "_model_module": "@jupyter-widgets/base",
            "top": null,
            "grid_column": null,
            "overflow_y": null,
            "overflow_x": null,
            "grid_auto_flow": null,
            "grid_area": null,
            "grid_template_columns": null,
            "flex": null,
            "_model_name": "LayoutModel",
            "justify_items": null,
            "grid_row": null,
            "max_height": null,
            "align_content": null,
            "visibility": null,
            "align_self": null,
            "height": null,
            "min_height": null,
            "padding": null,
            "grid_auto_rows": null,
            "grid_gap": null,
            "max_width": null,
            "order": null,
            "_view_module_version": "1.2.0",
            "grid_template_areas": null,
            "object_position": null,
            "object_fit": null,
            "grid_auto_columns": null,
            "margin": null,
            "display": null,
            "left": null
          }
        },
        "e713247a1e4242e19409e64c0fbe0c33": {
          "model_module": "@jupyter-widgets/controls",
          "model_name": "DescriptionStyleModel",
          "state": {
            "_view_name": "StyleView",
            "_model_name": "DescriptionStyleModel",
            "description_width": "",
            "_view_module": "@jupyter-widgets/base",
            "_model_module_version": "1.5.0",
            "_view_count": null,
            "_view_module_version": "1.2.0",
            "_model_module": "@jupyter-widgets/controls"
          }
        },
        "0a5cce5bb2094f9abbb92bacdc9ef76e": {
          "model_module": "@jupyter-widgets/base",
          "model_name": "LayoutModel",
          "state": {
            "_view_name": "LayoutView",
            "grid_template_rows": null,
            "right": null,
            "justify_content": null,
            "_view_module": "@jupyter-widgets/base",
            "overflow": null,
            "_model_module_version": "1.2.0",
            "_view_count": null,
            "flex_flow": null,
            "width": null,
            "min_width": null,
            "border": null,
            "align_items": null,
            "bottom": null,
            "_model_module": "@jupyter-widgets/base",
            "top": null,
            "grid_column": null,
            "overflow_y": null,
            "overflow_x": null,
            "grid_auto_flow": null,
            "grid_area": null,
            "grid_template_columns": null,
            "flex": null,
            "_model_name": "LayoutModel",
            "justify_items": null,
            "grid_row": null,
            "max_height": null,
            "align_content": null,
            "visibility": null,
            "align_self": null,
            "height": null,
            "min_height": null,
            "padding": null,
            "grid_auto_rows": null,
            "grid_gap": null,
            "max_width": null,
            "order": null,
            "_view_module_version": "1.2.0",
            "grid_template_areas": null,
            "object_position": null,
            "object_fit": null,
            "grid_auto_columns": null,
            "margin": null,
            "display": null,
            "left": null
          }
        }
      }
    },
    "accelerator": "GPU"
  },
  "cells": [
    {
      "cell_type": "markdown",
      "metadata": {
        "id": "view-in-github",
        "colab_type": "text"
      },
      "source": [
        "<a href=\"https://colab.research.google.com/github/kazimianec/TARIC/blob/master/Training_TRCtransformersSBERT.ipynb\" target=\"_parent\"><img src=\"https://colab.research.google.com/assets/colab-badge.svg\" alt=\"Open In Colab\"/></a>"
      ]
    },
    {
      "cell_type": "code",
      "metadata": {
        "id": "2Wqp3ygUmMHm"
      },
      "source": [
        "import torch\r\n"
      ],
      "execution_count": 1,
      "outputs": []
    },
    {
      "cell_type": "code",
      "metadata": {
        "id": "31bjoeeFzmID"
      },
      "source": [
        "import numpy as np\r\n",
        "import pandas as pd\r\n",
        "import os"
      ],
      "execution_count": 2,
      "outputs": []
    },
    {
      "cell_type": "code",
      "metadata": {
        "id": "FnIfWAsWm0ih",
        "colab": {
          "base_uri": "https://localhost:8080/"
        },
        "outputId": "2a09adaa-c11b-469a-cbdb-4406a73050cb"
      },
      "source": [
        "print(torch.cuda.device_count())"
      ],
      "execution_count": 3,
      "outputs": [
        {
          "output_type": "stream",
          "text": [
            "1\n"
          ],
          "name": "stdout"
        }
      ]
    },
    {
      "cell_type": "code",
      "metadata": {
        "id": "ohMfpE86NGaA"
      },
      "source": [
        "url_TARIC_C2_descrptions = \"https://raw.githubusercontent.com/kazimianec/TARIC/master/DATA/TARIC_C2_descriptions.csv\"\r\n",
        "url_TARIC_C4_descrptions =\"https://raw.githubusercontent.com/kazimianec/TARIC/master/DATA/TARIC_C4_descriptions.csv\"\r\n",
        "url_TARIC_C6_descrptions =\"https://raw.githubusercontent.com/kazimianec/TARIC/master/DATA/TARIC_C6_descriptions.csv\"\r\n",
        "url_TARIC_C246_descrptions = \"https://raw.githubusercontent.com/kazimianec/TARIC/master/DATA/TARIC_C246_descriptions_CONCAT.csv\"\r\n"
      ],
      "execution_count": 4,
      "outputs": []
    },
    {
      "cell_type": "code",
      "metadata": {
        "id": "JhqP_RJ9_7wT"
      },
      "source": [
        "import pandas as pd \r\n",
        "import io \r\n",
        "  \r\n",
        "df_C2_descriptions = pd.read_csv(url_TARIC_C2_descrptions) \r\n",
        "df_C4_descriptions = pd.read_csv(url_TARIC_C4_descrptions)\r\n",
        "df_C6_descriptions = pd.read_csv(url_TARIC_C6_descrptions)\r\n",
        "df_C246_descriptions = pd.read_csv(url_TARIC_C246_descrptions)"
      ],
      "execution_count": 5,
      "outputs": []
    },
    {
      "cell_type": "code",
      "metadata": {
        "colab": {
          "base_uri": "https://localhost:8080/"
        },
        "id": "pbs9ZsjKhB-L",
        "outputId": "d35cbda5-2796-4d32-f614-f5a439fee7f0"
      },
      "source": [
        "for col in df_C246_descriptions.columns: \r\n",
        "    print(col)"
      ],
      "execution_count": 6,
      "outputs": [
        {
          "output_type": "stream",
          "text": [
            "CODE_2\n",
            "CODE_4\n",
            "CODE_6\n",
            "goods_CODE_6\n",
            "Description_46\n",
            "Description_246\n",
            "Description_46_concat\n",
            "Description_246_concat\n"
          ],
          "name": "stdout"
        }
      ]
    },
    {
      "cell_type": "code",
      "metadata": {
        "id": "zWRhD_7I_73_"
      },
      "source": [
        "#sentences = df['CLASS_Description'].tolist()\r\n",
        "\r\n",
        "sentences_C2 = df_C2_descriptions['Description_2'].tolist()\r\n",
        "sentences_C4 = df_C4_descriptions['Description_4'].tolist()\r\n",
        "sentences_C6 = df_C6_descriptions['Description_6'].tolist()\r\n",
        "\r\n",
        "sentences_C246 = df_C246_descriptions['Description_246'].tolist()\r\n",
        "sentences_C46 = df_C246_descriptions['Description_46'].tolist()\r\n",
        "\r\n",
        "sentences_C246_concat = df_C246_descriptions['Description_246_concat'].tolist()\r\n",
        "sentences_C46_concat = df_C246_descriptions['Description_46_concat'].tolist()\r\n"
      ],
      "execution_count": 7,
      "outputs": []
    },
    {
      "cell_type": "code",
      "metadata": {
        "colab": {
          "base_uri": "https://localhost:8080/"
        },
        "id": "YD4uev3CNWDt",
        "outputId": "9b164f4b-83e2-4fa4-ec5d-8d84bcfeaa35"
      },
      "source": [
        "!pip install sentence_transformers"
      ],
      "execution_count": 8,
      "outputs": [
        {
          "output_type": "stream",
          "text": [
            "Collecting sentence_transformers\n",
            "\u001b[?25l  Downloading https://files.pythonhosted.org/packages/6a/e2/84d6acfcee2d83164149778a33b6bdd1a74e1bcb59b2b2cd1b861359b339/sentence-transformers-0.4.1.2.tar.gz (64kB)\n",
            "\u001b[K     |████████████████████████████████| 71kB 9.4MB/s \n",
            "\u001b[?25hCollecting transformers<5.0.0,>=3.1.0\n",
            "\u001b[?25l  Downloading https://files.pythonhosted.org/packages/88/b1/41130a228dd656a1a31ba281598a968320283f48d42782845f6ba567f00b/transformers-4.2.2-py3-none-any.whl (1.8MB)\n",
            "\u001b[K     |████████████████████████████████| 1.8MB 28.8MB/s \n",
            "\u001b[?25hRequirement already satisfied: tqdm in /usr/local/lib/python3.6/dist-packages (from sentence_transformers) (4.41.1)\n",
            "Requirement already satisfied: torch>=1.6.0 in /usr/local/lib/python3.6/dist-packages (from sentence_transformers) (1.7.0+cu101)\n",
            "Requirement already satisfied: numpy in /usr/local/lib/python3.6/dist-packages (from sentence_transformers) (1.19.5)\n",
            "Requirement already satisfied: scikit-learn in /usr/local/lib/python3.6/dist-packages (from sentence_transformers) (0.22.2.post1)\n",
            "Requirement already satisfied: scipy in /usr/local/lib/python3.6/dist-packages (from sentence_transformers) (1.4.1)\n",
            "Requirement already satisfied: nltk in /usr/local/lib/python3.6/dist-packages (from sentence_transformers) (3.2.5)\n",
            "Collecting sentencepiece\n",
            "\u001b[?25l  Downloading https://files.pythonhosted.org/packages/14/67/e42bd1181472c95c8cda79305df848264f2a7f62740995a46945d9797b67/sentencepiece-0.1.95-cp36-cp36m-manylinux2014_x86_64.whl (1.2MB)\n",
            "\u001b[K     |████████████████████████████████| 1.2MB 53.8MB/s \n",
            "\u001b[?25hRequirement already satisfied: regex!=2019.12.17 in /usr/local/lib/python3.6/dist-packages (from transformers<5.0.0,>=3.1.0->sentence_transformers) (2019.12.20)\n",
            "Requirement already satisfied: dataclasses; python_version < \"3.7\" in /usr/local/lib/python3.6/dist-packages (from transformers<5.0.0,>=3.1.0->sentence_transformers) (0.8)\n",
            "Requirement already satisfied: importlib-metadata; python_version < \"3.8\" in /usr/local/lib/python3.6/dist-packages (from transformers<5.0.0,>=3.1.0->sentence_transformers) (3.4.0)\n",
            "Requirement already satisfied: filelock in /usr/local/lib/python3.6/dist-packages (from transformers<5.0.0,>=3.1.0->sentence_transformers) (3.0.12)\n",
            "Requirement already satisfied: packaging in /usr/local/lib/python3.6/dist-packages (from transformers<5.0.0,>=3.1.0->sentence_transformers) (20.8)\n",
            "Requirement already satisfied: requests in /usr/local/lib/python3.6/dist-packages (from transformers<5.0.0,>=3.1.0->sentence_transformers) (2.23.0)\n",
            "Collecting sacremoses\n",
            "\u001b[?25l  Downloading https://files.pythonhosted.org/packages/7d/34/09d19aff26edcc8eb2a01bed8e98f13a1537005d31e95233fd48216eed10/sacremoses-0.0.43.tar.gz (883kB)\n",
            "\u001b[K     |████████████████████████████████| 890kB 43.9MB/s \n",
            "\u001b[?25hCollecting tokenizers==0.9.4\n",
            "\u001b[?25l  Downloading https://files.pythonhosted.org/packages/0f/1c/e789a8b12e28be5bc1ce2156cf87cb522b379be9cadc7ad8091a4cc107c4/tokenizers-0.9.4-cp36-cp36m-manylinux2010_x86_64.whl (2.9MB)\n",
            "\u001b[K     |████████████████████████████████| 2.9MB 56.6MB/s \n",
            "\u001b[?25hRequirement already satisfied: future in /usr/local/lib/python3.6/dist-packages (from torch>=1.6.0->sentence_transformers) (0.16.0)\n",
            "Requirement already satisfied: typing-extensions in /usr/local/lib/python3.6/dist-packages (from torch>=1.6.0->sentence_transformers) (3.7.4.3)\n",
            "Requirement already satisfied: joblib>=0.11 in /usr/local/lib/python3.6/dist-packages (from scikit-learn->sentence_transformers) (1.0.0)\n",
            "Requirement already satisfied: six in /usr/local/lib/python3.6/dist-packages (from nltk->sentence_transformers) (1.15.0)\n",
            "Requirement already satisfied: zipp>=0.5 in /usr/local/lib/python3.6/dist-packages (from importlib-metadata; python_version < \"3.8\"->transformers<5.0.0,>=3.1.0->sentence_transformers) (3.4.0)\n",
            "Requirement already satisfied: pyparsing>=2.0.2 in /usr/local/lib/python3.6/dist-packages (from packaging->transformers<5.0.0,>=3.1.0->sentence_transformers) (2.4.7)\n",
            "Requirement already satisfied: certifi>=2017.4.17 in /usr/local/lib/python3.6/dist-packages (from requests->transformers<5.0.0,>=3.1.0->sentence_transformers) (2020.12.5)\n",
            "Requirement already satisfied: idna<3,>=2.5 in /usr/local/lib/python3.6/dist-packages (from requests->transformers<5.0.0,>=3.1.0->sentence_transformers) (2.10)\n",
            "Requirement already satisfied: chardet<4,>=3.0.2 in /usr/local/lib/python3.6/dist-packages (from requests->transformers<5.0.0,>=3.1.0->sentence_transformers) (3.0.4)\n",
            "Requirement already satisfied: urllib3!=1.25.0,!=1.25.1,<1.26,>=1.21.1 in /usr/local/lib/python3.6/dist-packages (from requests->transformers<5.0.0,>=3.1.0->sentence_transformers) (1.24.3)\n",
            "Requirement already satisfied: click in /usr/local/lib/python3.6/dist-packages (from sacremoses->transformers<5.0.0,>=3.1.0->sentence_transformers) (7.1.2)\n",
            "Building wheels for collected packages: sentence-transformers, sacremoses\n",
            "  Building wheel for sentence-transformers (setup.py) ... \u001b[?25l\u001b[?25hdone\n",
            "  Created wheel for sentence-transformers: filename=sentence_transformers-0.4.1.2-cp36-none-any.whl size=103068 sha256=ee18fc2110301937a30788c0fbc6a5360e245f31f2c2f26d9f8bbc84dfde8ca1\n",
            "  Stored in directory: /root/.cache/pip/wheels/3d/33/d1/5703dd56199c09d4a1b41e0c07fb4e7765a84d787cbdc48ac3\n",
            "  Building wheel for sacremoses (setup.py) ... \u001b[?25l\u001b[?25hdone\n",
            "  Created wheel for sacremoses: filename=sacremoses-0.0.43-cp36-none-any.whl size=893261 sha256=9a8887e572c13402d9116f051b1da7105237712655ba50b6b908308063c8c561\n",
            "  Stored in directory: /root/.cache/pip/wheels/29/3c/fd/7ce5c3f0666dab31a50123635e6fb5e19ceb42ce38d4e58f45\n",
            "Successfully built sentence-transformers sacremoses\n",
            "Installing collected packages: sacremoses, tokenizers, transformers, sentencepiece, sentence-transformers\n",
            "Successfully installed sacremoses-0.0.43 sentence-transformers-0.4.1.2 sentencepiece-0.1.95 tokenizers-0.9.4 transformers-4.2.2\n"
          ],
          "name": "stdout"
        }
      ]
    },
    {
      "cell_type": "code",
      "metadata": {
        "id": "hrtOe4jJN7Ms"
      },
      "source": [
        "from sentence_transformers import SentenceTransformer, util\r\n"
      ],
      "execution_count": 9,
      "outputs": []
    },
    {
      "cell_type": "markdown",
      "metadata": {
        "id": "tsQeoOjNT90h"
      },
      "source": [
        "**SBERT**\r\n",
        "Models can be loaded from SBERT , full list:\r\n",
        "https://docs.google.com/spreadsheets/d/14QplCdTCDwEmTqrn1LH4yrbKvdogK4oQvYO1K1aPR5M/edit#gid=0\r\n"
      ]
    },
    {
      "cell_type": "code",
      "metadata": {
        "id": "fceDy7GtTAhS",
        "colab": {
          "base_uri": "https://localhost:8080/"
        },
        "outputId": "5d0f61d4-c699-4292-e6d5-2e07cffb6293"
      },
      "source": [
        "#model = SentenceTransformer('average_word_embeddings_glove.840B.300d')\r\n",
        "#model = SentenceTransformer('paraphrase-distilroberta-base-v1') --no\r\n",
        "#model= SentenceTransformer('msmarco-distilroberta-base-v2') --no\r\n",
        "model = SentenceTransformer('stsb-bert-large')  ##maybe\r\n",
        "##model = SentenceTransformer('stsb-roberta-large') --no\r\n",
        "#model= SentenceTransformer('paraphrase-xlm-r-multilingual-v1')\r\n",
        "#model= SentenceTransformer('LaBSE')  # interesting\r\n",
        "#model = SentenceTransformer('quora-distilbert-multilingual') ## not ok\r\n",
        "\r\n",
        "#model = SentenceTransformer('average_word_embeddings_glove.840B.300d')"
      ],
      "execution_count": 10,
      "outputs": [
        {
          "output_type": "stream",
          "text": [
            "100%|██████████| 1.24G/1.24G [00:40<00:00, 30.8MB/s]\n"
          ],
          "name": "stderr"
        }
      ]
    },
    {
      "cell_type": "code",
      "metadata": {
        "id": "BCoScJ--kCJQ",
        "outputId": "55f810e5-da01-444f-faeb-8f65a7ad62b9",
        "colab": {
          "base_uri": "https://localhost:8080/"
        }
      },
      "source": [
        "sentences = sentences_C246\r\n",
        "sentences = [element.lower() for element in sentences]\r\n",
        "\r\n",
        "sentences[1682]+=' nail polishing makeup'\r\n",
        "print(sentences[1682])"
      ],
      "execution_count": 36,
      "outputs": [
        {
          "output_type": "stream",
          "text": [
            "essential oils and resinoids; perfumery, cosmetic or toilet preparations; beauty or make-up preparations and preparations for the care of the skin (other than medicaments), including sunscreen or suntan preparations; manicure or pedicure preparations; manicure or pedicure preparations nail polishing makeup\n"
          ],
          "name": "stdout"
        }
      ]
    },
    {
      "cell_type": "code",
      "metadata": {
        "id": "t6p8yyOnOIB0"
      },
      "source": [
        "\r\n",
        "embeddings = model.encode(sentences, convert_to_tensor=True)\r\n",
        "#embeddings_246_concat = model.encode(sentences_246_concat, convert_to_tensor=True)\r\n",
        "#embeddings_46_concat = model.encode(sentences_46_concat, convert_to_tensor=True)\r\n",
        "#embeddings_246 = model.encode(sentences_246, convert_to_tensor=True)\r\n",
        "#embeddings_46 = model.encode(sentences_46, convert_to_tensor=True)"
      ],
      "execution_count": 37,
      "outputs": []
    },
    {
      "cell_type": "code",
      "metadata": {
        "id": "vD8YLLtdDdeO",
        "colab": {
          "base_uri": "https://localhost:8080/"
        },
        "outputId": "4cdbf49a-05dd-40e0-f0c5-37cab9c6b67a"
      },
      "source": [
        "TAROC_cosine_scores = util.pytorch_cos_sim(embeddings, embeddings)\r\n",
        "print(TAROC_cosine_scores.shape)\r\n",
        "\r\n",
        "top_k=5\r\n",
        "top_results = torch.topk(TAROC_cosine_scores, k=top_k)\r\n",
        "print(TAROC_cosine_scores.shape)\r\n",
        "print(TAROC_cosine_scores)\r\n",
        "print(top_results.values)\r\n",
        "#print(top_results.indices)\r\n",
        "#print(sentences[0])\r\n",
        "#print(sentences[40])\r\n",
        "#y = torch.ones(TAROC_cosine_scores.shape)*0.8\r\n",
        "#torch.where(TAROC_cosine_scores > y, TAROC_cosine_scores, 0)"
      ],
      "execution_count": 38,
      "outputs": [
        {
          "output_type": "stream",
          "text": [
            "torch.Size([5209, 5209])\n",
            "torch.Size([5209, 5209])\n",
            "tensor([[1.0000, 0.8130, 0.7635,  ..., 0.2059, 0.2538, 0.1940],\n",
            "        [0.8130, 1.0000, 0.9174,  ..., 0.1528, 0.2301, 0.2185],\n",
            "        [0.7635, 0.9174, 1.0000,  ..., 0.1840, 0.2500, 0.2369],\n",
            "        ...,\n",
            "        [0.2059, 0.1528, 0.1840,  ..., 1.0000, 0.9151, 0.8263],\n",
            "        [0.2538, 0.2301, 0.2500,  ..., 0.9151, 1.0000, 0.8647],\n",
            "        [0.1940, 0.2185, 0.2369,  ..., 0.8263, 0.8647, 1.0000]])\n",
            "tensor([[1.0000, 0.8130, 0.7807, 0.7635, 0.7430],\n",
            "        [1.0000, 0.9491, 0.9174, 0.8130, 0.7189],\n",
            "        [1.0000, 0.9190, 0.9174, 0.7635, 0.7538],\n",
            "        ...,\n",
            "        [1.0000, 0.9151, 0.8263, 0.7457, 0.6404],\n",
            "        [1.0000, 0.9151, 0.8647, 0.7212, 0.6591],\n",
            "        [1.0000, 0.8647, 0.8263, 0.6879, 0.6367]])\n"
          ],
          "name": "stdout"
        }
      ]
    },
    {
      "cell_type": "code",
      "metadata": {
        "id": "9_5Iv_XxOiBd"
      },
      "source": [
        "description = [\"Vyriškos kelnės\"]\r\n",
        "\r\n",
        "description = [\"Мужские джинсы\"]\r\n",
        "description = [\"Beef fillet\"]\r\n",
        "\r\n",
        "description = [\"Jautienos filė\"]\r\n",
        "\r\n",
        "description = [\"Лак для маникюра\"]\r\n",
        "\r\n",
        "description = [\"Nail polish\"]\r\n",
        "\r\n",
        "description = [\"Кресла офисные\"]\r\n",
        "\r\n",
        "description = [\"Astro Pneumatic 1716 Deluxe Air Blow Gun with 20-Inch Long Angled Nozzle and 1/2-Inch Removable Rubber Tip\"]\r\n",
        "\r\n",
        "description = [\"Astro Pneumatic 1716 Deluxe Air Blow Gun with 20-Inch Long Angled Nozzle and 1/2-Inch Removable Rubber Tip\"]\r\n",
        "description = [\"I Love Makeup - Nail Polish\"]\r\n",
        "description = [\"Astro Pneumatic 1716 Deluxe Air Blow Gun with 20-Inch Long Angled Nozzle and 1/2-Inch Removable Rubber Tip\"]\r\n",
        "\r\n",
        "\r\n",
        "\r\n",
        "description = [\"папиросы\"]\r\n",
        "description = [\"I Love Makeup  - Nail Polish\"]\r\n",
        "description = [\"Astro Pneumatic 1716 Deluxe Air Blow Gun with 20-Inch Long Angled Nozzle and 1/2-Inch Removable Rubber Tip\"]\r\n",
        "description = [\"Beef fillet\"]\r\n",
        "description = [\"Гoвядина филе морож\"]\r\n",
        "description = [\"Мужские джинсы\"]\r\n",
        "description = [\"Фанера\"]\r\n",
        "description = [\"Astro Pneumatic 1716 Deluxe Air Blow Gun with 20-Inch Long Angled Nozzle and 1/2-Inch Removable Rubber Tip\"]\r\n",
        "description = [\"Vineer on kihiline materjal, mis valmistatakse õhukeste puitlehtede – spoonide – kokkuliimimise teel.\"] \r\n",
        "description = [\"офисные стулья деревянные дубовые\"] \r\n",
        "description = [\"Astro Pneumatic 1716 Deluxe Air Blow Gun with 20-Inch Long Angled Nozzle and 1/2-Inch Removable Rubber Tip\"]\r\n",
        "description = [\"Fosmon Apple iPhone 4 / iPhone 4G USB Sync Charge Data Cable with USB Auto Car Charger and USB Home Travel Charger\"] #SUPER matches S3\r\n",
        "description = [\"Astro Pneumatic 1716 Deluxe Air Blow Gun with 20-Inch Long Angled Nozzle and 1/2-Inch Removable Rubber Tip\"] # not\r\n",
        "description = [\"HTC HD7 Crowned Heart Phone Protector Cover Case\"] ## bullshit is both cases - bert and S3\r\n",
        "description = [\"Jolly Jumper Pashmama Nursing Cover - Tan\"]\r\n",
        "description = [\"HTC HD7 Crowned Heart Phone Protector Cover Case\"]\r\n",
        "description = [\"Astro Pneumatic 1716 Deluxe Air Blow Gun with 20-Inch Long Angled Nozzle and 1/2-Inch Removable Rubber Tip\"]\r\n",
        "description = [\"I Love Makeup  - Nail Polish\"]\r\n",
        "description = [\"Astro Pneumatic 1716 Deluxe Air Blow Gun with 20-Inch Long Angled Nozzle and 1/2-Inch Removable Rubber Tip\"]\r\n",
        "description = [\"HTC HD7 Crowned Heart Phone Protector Cover Case\"]\r\n",
        "\r\n",
        "\r\n",
        "description = [\"Astro Pneumatic 1716 Deluxe Air Blow Gun with 20-Inch Long Angled Nozzle and 1/2-Inch Removable Rubber Tip\"]\r\n",
        "description = [\"Beef fillet\"]\r\n",
        "description = [\"Astro Pneumatic 1716 Deluxe Air Blow Gun with 20-Inch Long Angled Nozzle and 1/2-Inch Removable Rubber Tip\"]\r\n",
        "description = [\"Phone Protector Cover Case\"]\r\n",
        "description = [\"I Love Makeup  - Nail Polish\"]\r\n",
        "\r\n",
        "embeddings_description = model.encode(description, convert_to_tensor=True )"
      ],
      "execution_count": 39,
      "outputs": []
    },
    {
      "cell_type": "code",
      "metadata": {
        "colab": {
          "base_uri": "https://localhost:8080/"
        },
        "id": "Hld1Nn7kO2Gw",
        "outputId": "f56183f2-a264-4b27-c7e8-9ddd7c1dff61"
      },
      "source": [
        "cosine_scores = util.pytorch_cos_sim(embeddings, embeddings_description)\r\n",
        "cosine_scores.shape\r\n",
        "values,indices = torch.transpose(cosine_scores,0,1).topk(10)\r\n",
        "print(values, indices)\r\n",
        "indices.numpy()[0][0]\r\n",
        "\r\n",
        "print(values.numpy()[0][0], sentences[indices.numpy()[0][0]])\r\n",
        "print(values.numpy()[0][1], sentences[indices.numpy()[0][1]])\r\n",
        "print(values.numpy()[0][2], sentences[indices.numpy()[0][2]])\r\n",
        "print(values.numpy()[0][3], sentences[indices.numpy()[0][3]])\r\n",
        "print(values.numpy()[0][4], sentences[indices.numpy()[0][4]])\r\n",
        "\r\n",
        "print(sentences[1682])\r\n",
        "\r\n",
        "\r\n"
      ],
      "execution_count": 40,
      "outputs": [
        {
          "output_type": "stream",
          "text": [
            "tensor([[0.5621, 0.5126, 0.5063, 0.4814, 0.4687, 0.4382, 0.4089, 0.4089, 0.4089,\n",
            "         0.4089]]) tensor([[1682, 1713, 1680, 1712, 1681, 1684, 1701, 1699, 1700, 1698]])\n",
            "0.562145 essential oils and resinoids; perfumery, cosmetic or toilet preparations; beauty or make-up preparations and preparations for the care of the skin (other than medicaments), including sunscreen or suntan preparations; manicure or pedicure preparations; manicure or pedicure preparations nail polishing makeup\n",
            "0.51262975 soap, organic surface-active agents, washing preparations, lubricating preparations, artificial waxes, prepared waxes, polishing or scouring preparations, candles and similar articles, modelling pastes, 'dental waxes' and dental preparations with a basis of plaster; artificial waxes and prepared waxes; other\n",
            "0.5063278 essential oils and resinoids; perfumery, cosmetic or toilet preparations; beauty or make-up preparations and preparations for the care of the skin (other than medicaments), including sunscreen or suntan preparations; manicure or pedicure preparations; lip make-up preparations\n",
            "0.48139337 soap, organic surface-active agents, washing preparations, lubricating preparations, artificial waxes, prepared waxes, polishing or scouring preparations, candles and similar articles, modelling pastes, 'dental waxes' and dental preparations with a basis of plaster; artificial waxes and prepared waxes; of poly(oxyethylene) (polyethylene glycol)\n",
            "0.4686848 essential oils and resinoids; perfumery, cosmetic or toilet preparations; beauty or make-up preparations and preparations for the care of the skin (other than medicaments), including sunscreen or suntan preparations; manicure or pedicure preparations; eye make-up preparations\n",
            "essential oils and resinoids; perfumery, cosmetic or toilet preparations; beauty or make-up preparations and preparations for the care of the skin (other than medicaments), including sunscreen or suntan preparations; manicure or pedicure preparations; manicure or pedicure preparations nail polishing makeup\n"
          ],
          "name": "stdout"
        }
      ]
    },
    {
      "cell_type": "code",
      "metadata": {
        "id": "G908HpwvUj1S",
        "outputId": "bde051a9-1dd0-4510-f690-52960b3530d4",
        "colab": {
          "base_uri": "https://localhost:8080/",
          "height": 511
        }
      },
      "source": [
        "df_C246_descriptions.iloc[indices.numpy()[0],:]"
      ],
      "execution_count": 33,
      "outputs": [
        {
          "output_type": "execute_result",
          "data": {
            "text/html": [
              "<div>\n",
              "<style scoped>\n",
              "    .dataframe tbody tr th:only-of-type {\n",
              "        vertical-align: middle;\n",
              "    }\n",
              "\n",
              "    .dataframe tbody tr th {\n",
              "        vertical-align: top;\n",
              "    }\n",
              "\n",
              "    .dataframe thead th {\n",
              "        text-align: right;\n",
              "    }\n",
              "</style>\n",
              "<table border=\"1\" class=\"dataframe\">\n",
              "  <thead>\n",
              "    <tr style=\"text-align: right;\">\n",
              "      <th></th>\n",
              "      <th>CODE_2</th>\n",
              "      <th>CODE_4</th>\n",
              "      <th>CODE_6</th>\n",
              "      <th>goods_CODE_6</th>\n",
              "      <th>Description_46</th>\n",
              "      <th>Description_246</th>\n",
              "      <th>Description_46_concat</th>\n",
              "      <th>Description_246_concat</th>\n",
              "    </tr>\n",
              "  </thead>\n",
              "  <tbody>\n",
              "    <tr>\n",
              "      <th>1713</th>\n",
              "      <td>34</td>\n",
              "      <td>4</td>\n",
              "      <td>90</td>\n",
              "      <td>3404900000 80</td>\n",
              "      <td>Artificial waxes and prepared waxes; Other</td>\n",
              "      <td>SOAP, ORGANIC SURFACE-ACTIVE AGENTS, WASHING P...</td>\n",
              "      <td>Artificial waxes and prepared waxes; Other</td>\n",
              "      <td>SOAP, ORGANIC SURFACE-ACTIVE AGENTS, WASHING P...</td>\n",
              "    </tr>\n",
              "    <tr>\n",
              "      <th>1680</th>\n",
              "      <td>33</td>\n",
              "      <td>4</td>\n",
              "      <td>10</td>\n",
              "      <td>3304100000 80</td>\n",
              "      <td>Beauty or make-up preparations and preparation...</td>\n",
              "      <td>ESSENTIAL OILS AND RESINOIDS; PERFUMERY, COSME...</td>\n",
              "      <td>Beauty or make-up preparations and preparation...</td>\n",
              "      <td>ESSENTIAL OILS AND RESINOIDS; PERFUMERY, COSME...</td>\n",
              "    </tr>\n",
              "    <tr>\n",
              "      <th>1712</th>\n",
              "      <td>34</td>\n",
              "      <td>4</td>\n",
              "      <td>20</td>\n",
              "      <td>3404200000 80</td>\n",
              "      <td>Artificial waxes and prepared waxes; Of poly(o...</td>\n",
              "      <td>SOAP, ORGANIC SURFACE-ACTIVE AGENTS, WASHING P...</td>\n",
              "      <td>Artificial waxes and prepared waxes; Of poly(o...</td>\n",
              "      <td>SOAP, ORGANIC SURFACE-ACTIVE AGENTS, WASHING P...</td>\n",
              "    </tr>\n",
              "    <tr>\n",
              "      <th>1681</th>\n",
              "      <td>33</td>\n",
              "      <td>4</td>\n",
              "      <td>20</td>\n",
              "      <td>3304200000 80</td>\n",
              "      <td>Beauty or make-up preparations and preparation...</td>\n",
              "      <td>ESSENTIAL OILS AND RESINOIDS; PERFUMERY, COSME...</td>\n",
              "      <td>Beauty or make-up preparations and preparation...</td>\n",
              "      <td>ESSENTIAL OILS AND RESINOIDS; PERFUMERY, COSME...</td>\n",
              "    </tr>\n",
              "    <tr>\n",
              "      <th>1682</th>\n",
              "      <td>33</td>\n",
              "      <td>4</td>\n",
              "      <td>30</td>\n",
              "      <td>3304300000 80</td>\n",
              "      <td>Beauty or make-up preparations and preparation...</td>\n",
              "      <td>ESSENTIAL OILS AND RESINOIDS; PERFUMERY, COSME...</td>\n",
              "      <td>Beauty or make-up preparations and preparation...</td>\n",
              "      <td>ESSENTIAL OILS AND RESINOIDS; PERFUMERY, COSME...</td>\n",
              "    </tr>\n",
              "    <tr>\n",
              "      <th>1684</th>\n",
              "      <td>33</td>\n",
              "      <td>4</td>\n",
              "      <td>91</td>\n",
              "      <td>3304990000 80</td>\n",
              "      <td>Beauty or make-up preparations and preparation...</td>\n",
              "      <td>ESSENTIAL OILS AND RESINOIDS; PERFUMERY, COSME...</td>\n",
              "      <td>Beauty or make-up preparations and preparation...</td>\n",
              "      <td>ESSENTIAL OILS AND RESINOIDS; PERFUMERY, COSME...</td>\n",
              "    </tr>\n",
              "    <tr>\n",
              "      <th>1701</th>\n",
              "      <td>34</td>\n",
              "      <td>1</td>\n",
              "      <td>30</td>\n",
              "      <td>3401300000 80</td>\n",
              "      <td>Soap; organic surface-active products and prep...</td>\n",
              "      <td>SOAP, ORGANIC SURFACE-ACTIVE AGENTS, WASHING P...</td>\n",
              "      <td>Soap; organic surface-active products and prep...</td>\n",
              "      <td>SOAP, ORGANIC SURFACE-ACTIVE AGENTS, WASHING P...</td>\n",
              "    </tr>\n",
              "    <tr>\n",
              "      <th>1699</th>\n",
              "      <td>34</td>\n",
              "      <td>1</td>\n",
              "      <td>11</td>\n",
              "      <td>3401190000 80</td>\n",
              "      <td>Soap; organic surface-active products and prep...</td>\n",
              "      <td>SOAP, ORGANIC SURFACE-ACTIVE AGENTS, WASHING P...</td>\n",
              "      <td>Soap; organic surface-active products and prep...</td>\n",
              "      <td>SOAP, ORGANIC SURFACE-ACTIVE AGENTS, WASHING P...</td>\n",
              "    </tr>\n",
              "    <tr>\n",
              "      <th>1700</th>\n",
              "      <td>34</td>\n",
              "      <td>1</td>\n",
              "      <td>20</td>\n",
              "      <td>3401200000 80</td>\n",
              "      <td>Soap; organic surface-active products and prep...</td>\n",
              "      <td>SOAP, ORGANIC SURFACE-ACTIVE AGENTS, WASHING P...</td>\n",
              "      <td>Soap; organic surface-active products and prep...</td>\n",
              "      <td>SOAP, ORGANIC SURFACE-ACTIVE AGENTS, WASHING P...</td>\n",
              "    </tr>\n",
              "    <tr>\n",
              "      <th>1698</th>\n",
              "      <td>34</td>\n",
              "      <td>1</td>\n",
              "      <td>11</td>\n",
              "      <td>3401110000 80</td>\n",
              "      <td>Soap; organic surface-active products and prep...</td>\n",
              "      <td>SOAP, ORGANIC SURFACE-ACTIVE AGENTS, WASHING P...</td>\n",
              "      <td>Soap; organic surface-active products and prep...</td>\n",
              "      <td>SOAP, ORGANIC SURFACE-ACTIVE AGENTS, WASHING P...</td>\n",
              "    </tr>\n",
              "  </tbody>\n",
              "</table>\n",
              "</div>"
            ],
            "text/plain": [
              "      CODE_2  ...                             Description_246_concat\n",
              "1713      34  ...  SOAP, ORGANIC SURFACE-ACTIVE AGENTS, WASHING P...\n",
              "1680      33  ...  ESSENTIAL OILS AND RESINOIDS; PERFUMERY, COSME...\n",
              "1712      34  ...  SOAP, ORGANIC SURFACE-ACTIVE AGENTS, WASHING P...\n",
              "1681      33  ...  ESSENTIAL OILS AND RESINOIDS; PERFUMERY, COSME...\n",
              "1682      33  ...  ESSENTIAL OILS AND RESINOIDS; PERFUMERY, COSME...\n",
              "1684      33  ...  ESSENTIAL OILS AND RESINOIDS; PERFUMERY, COSME...\n",
              "1701      34  ...  SOAP, ORGANIC SURFACE-ACTIVE AGENTS, WASHING P...\n",
              "1699      34  ...  SOAP, ORGANIC SURFACE-ACTIVE AGENTS, WASHING P...\n",
              "1700      34  ...  SOAP, ORGANIC SURFACE-ACTIVE AGENTS, WASHING P...\n",
              "1698      34  ...  SOAP, ORGANIC SURFACE-ACTIVE AGENTS, WASHING P...\n",
              "\n",
              "[10 rows x 8 columns]"
            ]
          },
          "metadata": {
            "tags": []
          },
          "execution_count": 33
        }
      ]
    },
    {
      "cell_type": "markdown",
      "metadata": {
        "id": "C55VEYqOoQXw"
      },
      "source": [
        "**TRAINING**"
      ]
    },
    {
      "cell_type": "code",
      "metadata": {
        "colab": {
          "base_uri": "https://localhost:8080/",
          "height": 114,
          "referenced_widgets": [
            "f1fb04d3d4bb423aa5ad621a45dc80e1",
            "5eabfe5f3b5241e0b3f08aa9c3a185e4",
            "65bf9b3c74314f909da24f89ad67fef9",
            "657d8f660fb34cdd9c834540797c3c48",
            "696006353f834c29acc1bb2f881c99d7",
            "1a2bb301ee8f4b4f8463d81bea04532a",
            "58c673febd52418dbc035165c1ea6944",
            "e8c9fef104d04534a51054d4cbfd6bf1",
            "4aecb698eb704e578a041eb40aa7e2ca",
            "0ec0be28f98046c78010ab62be6001a8",
            "fa96ceb7ebed48c398c24fd1631a0f9b",
            "0feef150471f4223968c7bda3c463c8f",
            "d3770452f99549c1b02f22afe1432c5e",
            "0b419c8d07b94135bc581cfa6ea85fb6",
            "e713247a1e4242e19409e64c0fbe0c33",
            "0a5cce5bb2094f9abbb92bacdc9ef76e"
          ]
        },
        "id": "tP5O_-HqVpfo",
        "outputId": "b3720637-4007-441d-8286-5142780810a6"
      },
      "source": [
        "from sentence_transformers import SentenceTransformer, InputExample, losses\r\n",
        "from torch.utils.data import DataLoader\r\n",
        "\r\n",
        "#Define the model. Either from scratch of by loading a pre-trained model\r\n",
        "t_model = model\r\n",
        "\r\n",
        "#Define your train examples. You need more than just two examples...\r\n",
        "#train_examples = [\r\n",
        "#                  InputExample(texts=['Nail polish makeup', 'manicure or pedicure preparations'], label=1.),\r\n",
        "#                  InputExample(texts=['Nail polish makeup', 'essential oils and resinoids; perfumery, cosmetic or toilet preparations'], label=1.),\r\n",
        "#                  InputExample(texts=['Nail polish makeup', 'soap, organic surface-active agents, washing preparations, lubricating preparations, artificial waxes, prepared waxes, polishing or scouring preparations, candles and similar articles, modelling pastes'], label=0.)]\r\n",
        "\r\n",
        "train_examples = [\r\n",
        "                  InputExample(texts=['Nail polish makeup', 'manicure or pedicure preparations'], label=1.),\r\n",
        "                  #InputExample(texts=['Nail polish makeup', 'essential oils and resinoids; perfumery, cosmetic or toilet preparations'], label=1.),\r\n",
        "                  InputExample(texts=['Nail polish makeup', 'waxes'], label=0.),\r\n",
        "                  InputExample(texts=['Nail polish makeup', 'lips'], label=0.),\r\n",
        "                  InputExample(texts=['Nail polish makeup', 'eye'], label=0.)]\r\n",
        "\r\n",
        "\r\n",
        "\r\n",
        "#Define your train dataset, the dataloader and the train loss\r\n",
        "train_dataloader = DataLoader(train_examples, shuffle=True, batch_size=1)\r\n",
        "train_loss = losses.CosineSimilarityLoss(model)\r\n",
        "\r\n",
        "#Tune the model\r\n",
        "t_model.fit(train_objectives=[(train_dataloader, train_loss)], epochs=1, warmup_steps=100)"
      ],
      "execution_count": 22,
      "outputs": [
        {
          "output_type": "display_data",
          "data": {
            "application/vnd.jupyter.widget-view+json": {
              "model_id": "f1fb04d3d4bb423aa5ad621a45dc80e1",
              "version_minor": 0,
              "version_major": 2
            },
            "text/plain": [
              "HBox(children=(FloatProgress(value=0.0, description='Epoch', max=1.0, style=ProgressStyle(description_width='i…"
            ]
          },
          "metadata": {
            "tags": []
          }
        },
        {
          "output_type": "display_data",
          "data": {
            "application/vnd.jupyter.widget-view+json": {
              "model_id": "4aecb698eb704e578a041eb40aa7e2ca",
              "version_minor": 0,
              "version_major": 2
            },
            "text/plain": [
              "HBox(children=(FloatProgress(value=0.0, description='Iteration', max=4.0, style=ProgressStyle(description_widt…"
            ]
          },
          "metadata": {
            "tags": []
          }
        },
        {
          "output_type": "stream",
          "text": [
            "\n",
            "\n"
          ],
          "name": "stdout"
        }
      ]
    },
    {
      "cell_type": "code",
      "metadata": {
        "id": "YwlvPjOTY23N"
      },
      "source": [
        "t_embeddings = t_model.encode(sentences, convert_to_tensor=True)"
      ],
      "execution_count": 23,
      "outputs": []
    },
    {
      "cell_type": "code",
      "metadata": {
        "colab": {
          "base_uri": "https://localhost:8080/"
        },
        "id": "mC2BcWA4ZJUm",
        "outputId": "9f737c94-ea1d-4e14-81fc-c0bb0d31ec3f"
      },
      "source": [
        "t_embeddings_description = t_model.encode(description, convert_to_tensor=True )\r\n",
        "\r\n",
        "cosine_scores = util.pytorch_cos_sim(t_embeddings, t_embeddings_description)\r\n",
        "cosine_scores.shape\r\n",
        "values,indices = torch.transpose(cosine_scores,0,1).topk(10)\r\n",
        "print(values, indices)\r\n",
        "indices.numpy()[0][0]\r\n",
        "\r\n",
        "print(values.numpy()[0][0], sentences[indices.numpy()[0][0]])\r\n",
        "print(values.numpy()[0][1], sentences[indices.numpy()[0][1]])\r\n",
        "print(values.numpy()[0][2], sentences[indices.numpy()[0][2]])\r\n",
        "print(values.numpy()[0][3], sentences[indices.numpy()[0][3]])\r\n",
        "print(values.numpy()[0][4], sentences[indices.numpy()[0][4]])\r\n",
        "\r\n"
      ],
      "execution_count": 24,
      "outputs": [
        {
          "output_type": "stream",
          "text": [
            "tensor([[0.5126, 0.5063, 0.4814, 0.4687, 0.4474, 0.4382, 0.4359, 0.4089, 0.4089,\n",
            "         0.4089]]) tensor([[1713, 1680, 1712, 1681, 1682, 1684, 1707, 1699, 1701, 1700]])\n",
            "0.51262975 soap, organic surface-active agents, washing preparations, lubricating preparations, artificial waxes, prepared waxes, polishing or scouring preparations, candles and similar articles, modelling pastes, 'dental waxes' and dental preparations with a basis of plaster; artificial waxes and prepared waxes; other \n",
            "0.5063278 essential oils and resinoids; perfumery, cosmetic or toilet preparations; beauty or make-up preparations and preparations for the care of the skin (other than medicaments), including sunscreen or suntan preparations; manicure or pedicure preparations; lip make-up preparations \n",
            "0.48139337 soap, organic surface-active agents, washing preparations, lubricating preparations, artificial waxes, prepared waxes, polishing or scouring preparations, candles and similar articles, modelling pastes, 'dental waxes' and dental preparations with a basis of plaster; artificial waxes and prepared waxes; of poly(oxyethylene) (polyethylene glycol) \n",
            "0.4686848 essential oils and resinoids; perfumery, cosmetic or toilet preparations; beauty or make-up preparations and preparations for the care of the skin (other than medicaments), including sunscreen or suntan preparations; manicure or pedicure preparations; eye make-up preparations \n",
            "0.44741055 essential oils and resinoids; perfumery, cosmetic or toilet preparations; beauty or make-up preparations and preparations for the care of the skin (other than medicaments), including sunscreen or suntan preparations; manicure or pedicure preparations; manicure or pedicure preparations \n"
          ],
          "name": "stdout"
        }
      ]
    },
    {
      "cell_type": "markdown",
      "metadata": {
        "id": "-m1iTY6yaSF8"
      },
      "source": [
        ""
      ]
    }
  ]
}