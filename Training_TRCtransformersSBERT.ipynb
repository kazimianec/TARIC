{
  "nbformat": 4,
  "nbformat_minor": 0,
  "metadata": {
    "colab": {
      "name": "Training TRCtransformersSBERT.ipynb",
      "provenance": [],
      "collapsed_sections": [],
      "authorship_tag": "ABX9TyOpHCctsMMA7Cv0v0FV47CS",
      "include_colab_link": true
    },
    "kernelspec": {
      "display_name": "Python 3",
      "name": "python3"
    },
    "widgets": {
      "application/vnd.jupyter.widget-state+json": {
        "f1fb04d3d4bb423aa5ad621a45dc80e1": {
          "model_module": "@jupyter-widgets/controls",
          "model_name": "HBoxModel",
          "state": {
            "_view_name": "HBoxView",
            "_dom_classes": [],
            "_model_name": "HBoxModel",
            "_view_module": "@jupyter-widgets/controls",
            "_model_module_version": "1.5.0",
            "_view_count": null,
            "_view_module_version": "1.5.0",
            "box_style": "",
            "layout": "IPY_MODEL_5eabfe5f3b5241e0b3f08aa9c3a185e4",
            "_model_module": "@jupyter-widgets/controls",
            "children": [
              "IPY_MODEL_65bf9b3c74314f909da24f89ad67fef9",
              "IPY_MODEL_657d8f660fb34cdd9c834540797c3c48"
            ]
          }
        },
        "5eabfe5f3b5241e0b3f08aa9c3a185e4": {
          "model_module": "@jupyter-widgets/base",
          "model_name": "LayoutModel",
          "state": {
            "_view_name": "LayoutView",
            "grid_template_rows": null,
            "right": null,
            "justify_content": null,
            "_view_module": "@jupyter-widgets/base",
            "overflow": null,
            "_model_module_version": "1.2.0",
            "_view_count": null,
            "flex_flow": null,
            "width": null,
            "min_width": null,
            "border": null,
            "align_items": null,
            "bottom": null,
            "_model_module": "@jupyter-widgets/base",
            "top": null,
            "grid_column": null,
            "overflow_y": null,
            "overflow_x": null,
            "grid_auto_flow": null,
            "grid_area": null,
            "grid_template_columns": null,
            "flex": null,
            "_model_name": "LayoutModel",
            "justify_items": null,
            "grid_row": null,
            "max_height": null,
            "align_content": null,
            "visibility": null,
            "align_self": null,
            "height": null,
            "min_height": null,
            "padding": null,
            "grid_auto_rows": null,
            "grid_gap": null,
            "max_width": null,
            "order": null,
            "_view_module_version": "1.2.0",
            "grid_template_areas": null,
            "object_position": null,
            "object_fit": null,
            "grid_auto_columns": null,
            "margin": null,
            "display": null,
            "left": null
          }
        },
        "65bf9b3c74314f909da24f89ad67fef9": {
          "model_module": "@jupyter-widgets/controls",
          "model_name": "FloatProgressModel",
          "state": {
            "_view_name": "ProgressView",
            "style": "IPY_MODEL_696006353f834c29acc1bb2f881c99d7",
            "_dom_classes": [],
            "description": "Epoch: 100%",
            "_model_name": "FloatProgressModel",
            "bar_style": "success",
            "max": 1,
            "_view_module": "@jupyter-widgets/controls",
            "_model_module_version": "1.5.0",
            "value": 1,
            "_view_count": null,
            "_view_module_version": "1.5.0",
            "orientation": "horizontal",
            "min": 0,
            "description_tooltip": null,
            "_model_module": "@jupyter-widgets/controls",
            "layout": "IPY_MODEL_1a2bb301ee8f4b4f8463d81bea04532a"
          }
        },
        "657d8f660fb34cdd9c834540797c3c48": {
          "model_module": "@jupyter-widgets/controls",
          "model_name": "HTMLModel",
          "state": {
            "_view_name": "HTMLView",
            "style": "IPY_MODEL_58c673febd52418dbc035165c1ea6944",
            "_dom_classes": [],
            "description": "",
            "_model_name": "HTMLModel",
            "placeholder": "​",
            "_view_module": "@jupyter-widgets/controls",
            "_model_module_version": "1.5.0",
            "value": " 1/1 [00:26&lt;00:00, 26.94s/it]",
            "_view_count": null,
            "_view_module_version": "1.5.0",
            "description_tooltip": null,
            "_model_module": "@jupyter-widgets/controls",
            "layout": "IPY_MODEL_e8c9fef104d04534a51054d4cbfd6bf1"
          }
        },
        "696006353f834c29acc1bb2f881c99d7": {
          "model_module": "@jupyter-widgets/controls",
          "model_name": "ProgressStyleModel",
          "state": {
            "_view_name": "StyleView",
            "_model_name": "ProgressStyleModel",
            "description_width": "initial",
            "_view_module": "@jupyter-widgets/base",
            "_model_module_version": "1.5.0",
            "_view_count": null,
            "_view_module_version": "1.2.0",
            "bar_color": null,
            "_model_module": "@jupyter-widgets/controls"
          }
        },
        "1a2bb301ee8f4b4f8463d81bea04532a": {
          "model_module": "@jupyter-widgets/base",
          "model_name": "LayoutModel",
          "state": {
            "_view_name": "LayoutView",
            "grid_template_rows": null,
            "right": null,
            "justify_content": null,
            "_view_module": "@jupyter-widgets/base",
            "overflow": null,
            "_model_module_version": "1.2.0",
            "_view_count": null,
            "flex_flow": null,
            "width": null,
            "min_width": null,
            "border": null,
            "align_items": null,
            "bottom": null,
            "_model_module": "@jupyter-widgets/base",
            "top": null,
            "grid_column": null,
            "overflow_y": null,
            "overflow_x": null,
            "grid_auto_flow": null,
            "grid_area": null,
            "grid_template_columns": null,
            "flex": null,
            "_model_name": "LayoutModel",
            "justify_items": null,
            "grid_row": null,
            "max_height": null,
            "align_content": null,
            "visibility": null,
            "align_self": null,
            "height": null,
            "min_height": null,
            "padding": null,
            "grid_auto_rows": null,
            "grid_gap": null,
            "max_width": null,
            "order": null,
            "_view_module_version": "1.2.0",
            "grid_template_areas": null,
            "object_position": null,
            "object_fit": null,
            "grid_auto_columns": null,
            "margin": null,
            "display": null,
            "left": null
          }
        },
        "58c673febd52418dbc035165c1ea6944": {
          "model_module": "@jupyter-widgets/controls",
          "model_name": "DescriptionStyleModel",
          "state": {
            "_view_name": "StyleView",
            "_model_name": "DescriptionStyleModel",
            "description_width": "",
            "_view_module": "@jupyter-widgets/base",
            "_model_module_version": "1.5.0",
            "_view_count": null,
            "_view_module_version": "1.2.0",
            "_model_module": "@jupyter-widgets/controls"
          }
        },
        "e8c9fef104d04534a51054d4cbfd6bf1": {
          "model_module": "@jupyter-widgets/base",
          "model_name": "LayoutModel",
          "state": {
            "_view_name": "LayoutView",
            "grid_template_rows": null,
            "right": null,
            "justify_content": null,
            "_view_module": "@jupyter-widgets/base",
            "overflow": null,
            "_model_module_version": "1.2.0",
            "_view_count": null,
            "flex_flow": null,
            "width": null,
            "min_width": null,
            "border": null,
            "align_items": null,
            "bottom": null,
            "_model_module": "@jupyter-widgets/base",
            "top": null,
            "grid_column": null,
            "overflow_y": null,
            "overflow_x": null,
            "grid_auto_flow": null,
            "grid_area": null,
            "grid_template_columns": null,
            "flex": null,
            "_model_name": "LayoutModel",
            "justify_items": null,
            "grid_row": null,
            "max_height": null,
            "align_content": null,
            "visibility": null,
            "align_self": null,
            "height": null,
            "min_height": null,
            "padding": null,
            "grid_auto_rows": null,
            "grid_gap": null,
            "max_width": null,
            "order": null,
            "_view_module_version": "1.2.0",
            "grid_template_areas": null,
            "object_position": null,
            "object_fit": null,
            "grid_auto_columns": null,
            "margin": null,
            "display": null,
            "left": null
          }
        },
        "4aecb698eb704e578a041eb40aa7e2ca": {
          "model_module": "@jupyter-widgets/controls",
          "model_name": "HBoxModel",
          "state": {
            "_view_name": "HBoxView",
            "_dom_classes": [],
            "_model_name": "HBoxModel",
            "_view_module": "@jupyter-widgets/controls",
            "_model_module_version": "1.5.0",
            "_view_count": null,
            "_view_module_version": "1.5.0",
            "box_style": "",
            "layout": "IPY_MODEL_0ec0be28f98046c78010ab62be6001a8",
            "_model_module": "@jupyter-widgets/controls",
            "children": [
              "IPY_MODEL_fa96ceb7ebed48c398c24fd1631a0f9b",
              "IPY_MODEL_0feef150471f4223968c7bda3c463c8f"
            ]
          }
        },
        "0ec0be28f98046c78010ab62be6001a8": {
          "model_module": "@jupyter-widgets/base",
          "model_name": "LayoutModel",
          "state": {
            "_view_name": "LayoutView",
            "grid_template_rows": null,
            "right": null,
            "justify_content": null,
            "_view_module": "@jupyter-widgets/base",
            "overflow": null,
            "_model_module_version": "1.2.0",
            "_view_count": null,
            "flex_flow": null,
            "width": null,
            "min_width": null,
            "border": null,
            "align_items": null,
            "bottom": null,
            "_model_module": "@jupyter-widgets/base",
            "top": null,
            "grid_column": null,
            "overflow_y": null,
            "overflow_x": null,
            "grid_auto_flow": null,
            "grid_area": null,
            "grid_template_columns": null,
            "flex": null,
            "_model_name": "LayoutModel",
            "justify_items": null,
            "grid_row": null,
            "max_height": null,
            "align_content": null,
            "visibility": null,
            "align_self": null,
            "height": null,
            "min_height": null,
            "padding": null,
            "grid_auto_rows": null,
            "grid_gap": null,
            "max_width": null,
            "order": null,
            "_view_module_version": "1.2.0",
            "grid_template_areas": null,
            "object_position": null,
            "object_fit": null,
            "grid_auto_columns": null,
            "margin": null,
            "display": null,
            "left": null
          }
        },
        "fa96ceb7ebed48c398c24fd1631a0f9b": {
          "model_module": "@jupyter-widgets/controls",
          "model_name": "FloatProgressModel",
          "state": {
            "_view_name": "ProgressView",
            "style": "IPY_MODEL_d3770452f99549c1b02f22afe1432c5e",
            "_dom_classes": [],
            "description": "Iteration: 100%",
            "_model_name": "FloatProgressModel",
            "bar_style": "success",
            "max": 4,
            "_view_module": "@jupyter-widgets/controls",
            "_model_module_version": "1.5.0",
            "value": 4,
            "_view_count": null,
            "_view_module_version": "1.5.0",
            "orientation": "horizontal",
            "min": 0,
            "description_tooltip": null,
            "_model_module": "@jupyter-widgets/controls",
            "layout": "IPY_MODEL_0b419c8d07b94135bc581cfa6ea85fb6"
          }
        },
        "0feef150471f4223968c7bda3c463c8f": {
          "model_module": "@jupyter-widgets/controls",
          "model_name": "HTMLModel",
          "state": {
            "_view_name": "HTMLView",
            "style": "IPY_MODEL_e713247a1e4242e19409e64c0fbe0c33",
            "_dom_classes": [],
            "description": "",
            "_model_name": "HTMLModel",
            "placeholder": "​",
            "_view_module": "@jupyter-widgets/controls",
            "_model_module_version": "1.5.0",
            "value": " 4/4 [00:26&lt;00:00,  6.72s/it]",
            "_view_count": null,
            "_view_module_version": "1.5.0",
            "description_tooltip": null,
            "_model_module": "@jupyter-widgets/controls",
            "layout": "IPY_MODEL_0a5cce5bb2094f9abbb92bacdc9ef76e"
          }
        },
        "d3770452f99549c1b02f22afe1432c5e": {
          "model_module": "@jupyter-widgets/controls",
          "model_name": "ProgressStyleModel",
          "state": {
            "_view_name": "StyleView",
            "_model_name": "ProgressStyleModel",
            "description_width": "initial",
            "_view_module": "@jupyter-widgets/base",
            "_model_module_version": "1.5.0",
            "_view_count": null,
            "_view_module_version": "1.2.0",
            "bar_color": null,
            "_model_module": "@jupyter-widgets/controls"
          }
        },
        "0b419c8d07b94135bc581cfa6ea85fb6": {
          "model_module": "@jupyter-widgets/base",
          "model_name": "LayoutModel",
          "state": {
            "_view_name": "LayoutView",
            "grid_template_rows": null,
            "right": null,
            "justify_content": null,
            "_view_module": "@jupyter-widgets/base",
            "overflow": null,
            "_model_module_version": "1.2.0",
            "_view_count": null,
            "flex_flow": null,
            "width": null,
            "min_width": null,
            "border": null,
            "align_items": null,
            "bottom": null,
            "_model_module": "@jupyter-widgets/base",
            "top": null,
            "grid_column": null,
            "overflow_y": null,
            "overflow_x": null,
            "grid_auto_flow": null,
            "grid_area": null,
            "grid_template_columns": null,
            "flex": null,
            "_model_name": "LayoutModel",
            "justify_items": null,
            "grid_row": null,
            "max_height": null,
            "align_content": null,
            "visibility": null,
            "align_self": null,
            "height": null,
            "min_height": null,
            "padding": null,
            "grid_auto_rows": null,
            "grid_gap": null,
            "max_width": null,
            "order": null,
            "_view_module_version": "1.2.0",
            "grid_template_areas": null,
            "object_position": null,
            "object_fit": null,
            "grid_auto_columns": null,
            "margin": null,
            "display": null,
            "left": null
          }
        },
        "e713247a1e4242e19409e64c0fbe0c33": {
          "model_module": "@jupyter-widgets/controls",
          "model_name": "DescriptionStyleModel",
          "state": {
            "_view_name": "StyleView",
            "_model_name": "DescriptionStyleModel",
            "description_width": "",
            "_view_module": "@jupyter-widgets/base",
            "_model_module_version": "1.5.0",
            "_view_count": null,
            "_view_module_version": "1.2.0",
            "_model_module": "@jupyter-widgets/controls"
          }
        },
        "0a5cce5bb2094f9abbb92bacdc9ef76e": {
          "model_module": "@jupyter-widgets/base",
          "model_name": "LayoutModel",
          "state": {
            "_view_name": "LayoutView",
            "grid_template_rows": null,
            "right": null,
            "justify_content": null,
            "_view_module": "@jupyter-widgets/base",
            "overflow": null,
            "_model_module_version": "1.2.0",
            "_view_count": null,
            "flex_flow": null,
            "width": null,
            "min_width": null,
            "border": null,
            "align_items": null,
            "bottom": null,
            "_model_module": "@jupyter-widgets/base",
            "top": null,
            "grid_column": null,
            "overflow_y": null,
            "overflow_x": null,
            "grid_auto_flow": null,
            "grid_area": null,
            "grid_template_columns": null,
            "flex": null,
            "_model_name": "LayoutModel",
            "justify_items": null,
            "grid_row": null,
            "max_height": null,
            "align_content": null,
            "visibility": null,
            "align_self": null,
            "height": null,
            "min_height": null,
            "padding": null,
            "grid_auto_rows": null,
            "grid_gap": null,
            "max_width": null,
            "order": null,
            "_view_module_version": "1.2.0",
            "grid_template_areas": null,
            "object_position": null,
            "object_fit": null,
            "grid_auto_columns": null,
            "margin": null,
            "display": null,
            "left": null
          }
        }
      }
    },
    "accelerator": "GPU"
  },
  "cells": [
    {
      "cell_type": "markdown",
      "metadata": {
        "id": "view-in-github",
        "colab_type": "text"
      },
      "source": [
        "<a href=\"https://colab.research.google.com/github/kazimianec/TARIC/blob/master/Training_TRCtransformersSBERT.ipynb\" target=\"_parent\"><img src=\"https://colab.research.google.com/assets/colab-badge.svg\" alt=\"Open In Colab\"/></a>"
      ]
    },
    {
      "cell_type": "code",
      "metadata": {
        "id": "2Wqp3ygUmMHm"
      },
      "source": [
        "import torch\r\n"
      ],
      "execution_count": 48,
      "outputs": []
    },
    {
      "cell_type": "code",
      "metadata": {
        "id": "31bjoeeFzmID"
      },
      "source": [
        "import numpy as np\r\n",
        "import pandas as pd\r\n",
        "import os"
      ],
      "execution_count": 50,
      "outputs": []
    },
    {
      "cell_type": "code",
      "metadata": {
        "id": "FnIfWAsWm0ih",
        "colab": {
          "base_uri": "https://localhost:8080/"
        },
        "outputId": "1153657e-dfa3-40b4-d3f1-a2536e51de88"
      },
      "source": [
        "print(torch.cuda.device_count())"
      ],
      "execution_count": 51,
      "outputs": [
        {
          "output_type": "stream",
          "text": [
            "0\n"
          ],
          "name": "stdout"
        }
      ]
    },
    {
      "cell_type": "code",
      "metadata": {
        "id": "ohMfpE86NGaA"
      },
      "source": [
        "url_TARIC_C2_descrptions = \"https://raw.githubusercontent.com/kazimianec/TARIC/master/DATA/TARIC_C2_descriptions.csv\"\r\n",
        "url_TARIC_C4_descrptions =\"https://raw.githubusercontent.com/kazimianec/TARIC/master/DATA/TARIC_C4_descriptions.csv\"\r\n",
        "url_TARIC_C6_descrptions =\"https://raw.githubusercontent.com/kazimianec/TARIC/master/DATA/TARIC_C6_descriptions.csv\"\r\n",
        "url_TARIC_C246_descrptions = \"https://raw.githubusercontent.com/kazimianec/TARIC/master/DATA/TARIC_C246_descriptions_CONCAT.csv\"\r\n"
      ],
      "execution_count": 52,
      "outputs": []
    },
    {
      "cell_type": "code",
      "metadata": {
        "id": "JhqP_RJ9_7wT"
      },
      "source": [
        "import pandas as pd \r\n",
        "import io \r\n",
        "  \r\n",
        "df_C2_descriptions = pd.read_csv(url_TARIC_C2_descrptions) \r\n",
        "df_C4_descriptions = pd.read_csv(url_TARIC_C4_descrptions)\r\n",
        "df_C6_descriptions = pd.read_csv(url_TARIC_C6_descrptions)\r\n",
        "df_C246_descriptions = pd.read_csv(url_TARIC_C246_descrptions)"
      ],
      "execution_count": 53,
      "outputs": []
    },
    {
      "cell_type": "code",
      "metadata": {
        "colab": {
          "base_uri": "https://localhost:8080/"
        },
        "id": "pbs9ZsjKhB-L",
        "outputId": "d9449a56-48a6-4293-96cf-7841e43e4d70"
      },
      "source": [
        "for col in df_C246_descriptions.columns: \r\n",
        "    print(col)"
      ],
      "execution_count": 54,
      "outputs": [
        {
          "output_type": "stream",
          "text": [
            "CODE_2\n",
            "CODE_4\n",
            "CODE_6\n",
            "goods_CODE_6\n",
            "Description_46\n",
            "Description_246\n",
            "Description_46_concat\n",
            "Description_246_concat\n"
          ],
          "name": "stdout"
        }
      ]
    },
    {
      "cell_type": "code",
      "metadata": {
        "id": "zWRhD_7I_73_"
      },
      "source": [
        "#sentences = df['CLASS_Description'].tolist()\r\n",
        "\r\n",
        "sentences_C2 = df_C2_descriptions['Description_2'].tolist()\r\n",
        "sentences_C4 = df_C4_descriptions['Description_4'].tolist()\r\n",
        "sentences_C6 = df_C6_descriptions['Description_6'].tolist()\r\n",
        "\r\n",
        "sentences_C246 = df_C246_descriptions['Description_246'].tolist()\r\n",
        "sentences_C46 = df_C246_descriptions['Description_46'].tolist()\r\n",
        "\r\n",
        "sentences_C246_concat = df_C246_descriptions['Description_246_concat'].tolist()\r\n",
        "sentences_C46_concat = df_C246_descriptions['Description_46_concat'].tolist()\r\n",
        "\r\n",
        "sentences = sentences_C2\r\n"
      ],
      "execution_count": 56,
      "outputs": []
    },
    {
      "cell_type": "markdown",
      "metadata": {
        "id": "DqqFxU_IXdjT"
      },
      "source": [
        "**GENERATE**"
      ]
    },
    {
      "cell_type": "code",
      "metadata": {
        "id": "pDtUqoGuYdJq",
        "outputId": "d98e6920-eb2d-41af-8a5f-d156642757f7",
        "colab": {
          "base_uri": "https://localhost:8080/"
        }
      },
      "source": [
        "!pip install transformers"
      ],
      "execution_count": 57,
      "outputs": [
        {
          "output_type": "stream",
          "text": [
            "Requirement already satisfied: transformers in /usr/local/lib/python3.6/dist-packages (4.2.2)\n",
            "Requirement already satisfied: numpy in /usr/local/lib/python3.6/dist-packages (from transformers) (1.19.5)\n",
            "Requirement already satisfied: regex!=2019.12.17 in /usr/local/lib/python3.6/dist-packages (from transformers) (2019.12.20)\n",
            "Requirement already satisfied: packaging in /usr/local/lib/python3.6/dist-packages (from transformers) (20.8)\n",
            "Requirement already satisfied: tqdm>=4.27 in /usr/local/lib/python3.6/dist-packages (from transformers) (4.41.1)\n",
            "Requirement already satisfied: tokenizers==0.9.4 in /usr/local/lib/python3.6/dist-packages (from transformers) (0.9.4)\n",
            "Requirement already satisfied: requests in /usr/local/lib/python3.6/dist-packages (from transformers) (2.23.0)\n",
            "Requirement already satisfied: importlib-metadata; python_version < \"3.8\" in /usr/local/lib/python3.6/dist-packages (from transformers) (3.4.0)\n",
            "Requirement already satisfied: filelock in /usr/local/lib/python3.6/dist-packages (from transformers) (3.0.12)\n",
            "Requirement already satisfied: sacremoses in /usr/local/lib/python3.6/dist-packages (from transformers) (0.0.43)\n",
            "Requirement already satisfied: dataclasses; python_version < \"3.7\" in /usr/local/lib/python3.6/dist-packages (from transformers) (0.8)\n",
            "Requirement already satisfied: pyparsing>=2.0.2 in /usr/local/lib/python3.6/dist-packages (from packaging->transformers) (2.4.7)\n",
            "Requirement already satisfied: chardet<4,>=3.0.2 in /usr/local/lib/python3.6/dist-packages (from requests->transformers) (3.0.4)\n",
            "Requirement already satisfied: idna<3,>=2.5 in /usr/local/lib/python3.6/dist-packages (from requests->transformers) (2.10)\n",
            "Requirement already satisfied: certifi>=2017.4.17 in /usr/local/lib/python3.6/dist-packages (from requests->transformers) (2020.12.5)\n",
            "Requirement already satisfied: urllib3!=1.25.0,!=1.25.1,<1.26,>=1.21.1 in /usr/local/lib/python3.6/dist-packages (from requests->transformers) (1.24.3)\n",
            "Requirement already satisfied: typing-extensions>=3.6.4; python_version < \"3.8\" in /usr/local/lib/python3.6/dist-packages (from importlib-metadata; python_version < \"3.8\"->transformers) (3.7.4.3)\n",
            "Requirement already satisfied: zipp>=0.5 in /usr/local/lib/python3.6/dist-packages (from importlib-metadata; python_version < \"3.8\"->transformers) (3.4.0)\n",
            "Requirement already satisfied: joblib in /usr/local/lib/python3.6/dist-packages (from sacremoses->transformers) (1.0.0)\n",
            "Requirement already satisfied: click in /usr/local/lib/python3.6/dist-packages (from sacremoses->transformers) (7.1.2)\n",
            "Requirement already satisfied: six in /usr/local/lib/python3.6/dist-packages (from sacremoses->transformers) (1.15.0)\n"
          ],
          "name": "stdout"
        }
      ]
    },
    {
      "cell_type": "code",
      "metadata": {
        "id": "0O64EZmOXbk-"
      },
      "source": [
        "from transformers import pipeline, set_seed"
      ],
      "execution_count": 58,
      "outputs": []
    },
    {
      "cell_type": "code",
      "metadata": {
        "id": "PgoQxs6pXb0Y",
        "outputId": "26c59fc9-75ce-4da9-f687-441bc143eca5",
        "colab": {
          "base_uri": "https://localhost:8080/"
        }
      },
      "source": [
        "generator = pipeline('text-generation', model='gpt2')"
      ],
      "execution_count": 59,
      "outputs": [
        {
          "output_type": "stream",
          "text": [
            "Some weights of GPT2Model were not initialized from the model checkpoint at gpt2 and are newly initialized: ['h.0.attn.masked_bias', 'h.1.attn.masked_bias', 'h.2.attn.masked_bias', 'h.3.attn.masked_bias', 'h.4.attn.masked_bias', 'h.5.attn.masked_bias', 'h.6.attn.masked_bias', 'h.7.attn.masked_bias', 'h.8.attn.masked_bias', 'h.9.attn.masked_bias', 'h.10.attn.masked_bias', 'h.11.attn.masked_bias']\n",
            "You should probably TRAIN this model on a down-stream task to be able to use it for predictions and inference.\n"
          ],
          "name": "stderr"
        }
      ]
    },
    {
      "cell_type": "code",
      "metadata": {
        "id": "RUmNsCRMXb8S",
        "outputId": "b63f2800-17d6-45f4-cbff-74e464ea8db2",
        "colab": {
          "base_uri": "https://localhost:8080/",
          "height": 35
        }
      },
      "source": [
        "sentences[1682]"
      ],
      "execution_count": 32,
      "outputs": [
        {
          "output_type": "execute_result",
          "data": {
            "application/vnd.google.colaboratory.intrinsic+json": {
              "type": "string"
            },
            "text/plain": [
              "'Urea, whether or not in aqueous solution'"
            ]
          },
          "metadata": {
            "tags": []
          },
          "execution_count": 32
        }
      ]
    },
    {
      "cell_type": "code",
      "metadata": {
        "id": "3O-aYRl2X4c7",
        "outputId": "efac39d9-1c4e-4852-8c87-a807f0f3fac5",
        "colab": {
          "base_uri": "https://localhost:8080/"
        }
      },
      "source": [
        "from transformers import GPT2Tokenizer, GPT2Model\r\n",
        "tokenizer = GPT2Tokenizer.from_pretrained('gpt2')\r\n",
        "model = GPT2Model.from_pretrained('gpt2')\r\n",
        "text = sentences[1682]\r\n",
        "encoded_input = tokenizer(text, return_tensors='pt')"
      ],
      "execution_count": 33,
      "outputs": [
        {
          "output_type": "stream",
          "text": [
            "Some weights of GPT2Model were not initialized from the model checkpoint at gpt2 and are newly initialized: ['h.0.attn.masked_bias', 'h.1.attn.masked_bias', 'h.2.attn.masked_bias', 'h.3.attn.masked_bias', 'h.4.attn.masked_bias', 'h.5.attn.masked_bias', 'h.6.attn.masked_bias', 'h.7.attn.masked_bias', 'h.8.attn.masked_bias', 'h.9.attn.masked_bias', 'h.10.attn.masked_bias', 'h.11.attn.masked_bias']\n",
            "You should probably TRAIN this model on a down-stream task to be able to use it for predictions and inference.\n"
          ],
          "name": "stderr"
        }
      ]
    },
    {
      "cell_type": "code",
      "metadata": {
        "id": "gxxumbDsXcCM"
      },
      "source": [
        "output = model(**encoded_input)\r\n",
        "print(output)"
      ],
      "execution_count": null,
      "outputs": []
    },
    {
      "cell_type": "code",
      "metadata": {
        "id": "U7NIOGHeZOk2",
        "outputId": "c2a2e478-7042-4178-83bf-5d6f160d1e2c",
        "colab": {
          "base_uri": "https://localhost:8080/"
        }
      },
      "source": [
        "set_seed(42)\r\n",
        "length = len(text)+1\r\n",
        "generator(\"manicure\", max_length=15 , num_return_sequences=10)"
      ],
      "execution_count": 45,
      "outputs": [
        {
          "output_type": "stream",
          "text": [
            "Setting `pad_token_id` to `eos_token_id`:50256 for open-end generation.\n"
          ],
          "name": "stderr"
        },
        {
          "output_type": "execute_result",
          "data": {
            "text/plain": [
              "[{'generated_text': 'manicure has to be one of them, with the fact that the'},\n",
              " {'generated_text': 'manicure has been the case for centuries. But it comes as no'},\n",
              " {'generated_text': 'manicure in the first place.] The reason that the Roman language uses'},\n",
              " {'generated_text': 'manicure.org\\n\\nP.C@Bridgewater-'},\n",
              " {'generated_text': 'manicure. If you go out with your pants on – say,'},\n",
              " {'generated_text': 'manicure.\" In this respect, the second law of the Roman republic'},\n",
              " {'generated_text': 'manicure.com). You will also need to have a valid credit'},\n",
              " {'generated_text': 'manicure. And on September 16, 2001, the United Kingdom withdrew'},\n",
              " {'generated_text': 'manicure in the United States and the West has been a focus of'},\n",
              " {'generated_text': 'manicure.\\n\\nThe results of the new study were described in'}]"
            ]
          },
          "metadata": {
            "tags": []
          },
          "execution_count": 45
        }
      ]
    },
    {
      "cell_type": "code",
      "metadata": {
        "colab": {
          "base_uri": "https://localhost:8080/"
        },
        "id": "YD4uev3CNWDt",
        "outputId": "0123ede7-00f2-4d6d-d2ed-ab924c957127"
      },
      "source": [
        "!pip install sentence_transformers"
      ],
      "execution_count": 60,
      "outputs": [
        {
          "output_type": "stream",
          "text": [
            "Requirement already satisfied: sentence_transformers in /usr/local/lib/python3.6/dist-packages (0.4.1.2)\n",
            "Requirement already satisfied: sentencepiece in /usr/local/lib/python3.6/dist-packages (from sentence_transformers) (0.1.95)\n",
            "Requirement already satisfied: transformers<5.0.0,>=3.1.0 in /usr/local/lib/python3.6/dist-packages (from sentence_transformers) (4.2.2)\n",
            "Requirement already satisfied: scipy in /usr/local/lib/python3.6/dist-packages (from sentence_transformers) (1.4.1)\n",
            "Requirement already satisfied: nltk in /usr/local/lib/python3.6/dist-packages (from sentence_transformers) (3.2.5)\n",
            "Requirement already satisfied: tqdm in /usr/local/lib/python3.6/dist-packages (from sentence_transformers) (4.41.1)\n",
            "Requirement already satisfied: torch>=1.6.0 in /usr/local/lib/python3.6/dist-packages (from sentence_transformers) (1.7.0+cu101)\n",
            "Requirement already satisfied: scikit-learn in /usr/local/lib/python3.6/dist-packages (from sentence_transformers) (0.22.2.post1)\n",
            "Requirement already satisfied: numpy in /usr/local/lib/python3.6/dist-packages (from sentence_transformers) (1.19.5)\n",
            "Requirement already satisfied: regex!=2019.12.17 in /usr/local/lib/python3.6/dist-packages (from transformers<5.0.0,>=3.1.0->sentence_transformers) (2019.12.20)\n",
            "Requirement already satisfied: requests in /usr/local/lib/python3.6/dist-packages (from transformers<5.0.0,>=3.1.0->sentence_transformers) (2.23.0)\n",
            "Requirement already satisfied: filelock in /usr/local/lib/python3.6/dist-packages (from transformers<5.0.0,>=3.1.0->sentence_transformers) (3.0.12)\n",
            "Requirement already satisfied: sacremoses in /usr/local/lib/python3.6/dist-packages (from transformers<5.0.0,>=3.1.0->sentence_transformers) (0.0.43)\n",
            "Requirement already satisfied: tokenizers==0.9.4 in /usr/local/lib/python3.6/dist-packages (from transformers<5.0.0,>=3.1.0->sentence_transformers) (0.9.4)\n",
            "Requirement already satisfied: packaging in /usr/local/lib/python3.6/dist-packages (from transformers<5.0.0,>=3.1.0->sentence_transformers) (20.8)\n",
            "Requirement already satisfied: importlib-metadata; python_version < \"3.8\" in /usr/local/lib/python3.6/dist-packages (from transformers<5.0.0,>=3.1.0->sentence_transformers) (3.4.0)\n",
            "Requirement already satisfied: dataclasses; python_version < \"3.7\" in /usr/local/lib/python3.6/dist-packages (from transformers<5.0.0,>=3.1.0->sentence_transformers) (0.8)\n",
            "Requirement already satisfied: six in /usr/local/lib/python3.6/dist-packages (from nltk->sentence_transformers) (1.15.0)\n",
            "Requirement already satisfied: future in /usr/local/lib/python3.6/dist-packages (from torch>=1.6.0->sentence_transformers) (0.16.0)\n",
            "Requirement already satisfied: typing-extensions in /usr/local/lib/python3.6/dist-packages (from torch>=1.6.0->sentence_transformers) (3.7.4.3)\n",
            "Requirement already satisfied: joblib>=0.11 in /usr/local/lib/python3.6/dist-packages (from scikit-learn->sentence_transformers) (1.0.0)\n",
            "Requirement already satisfied: idna<3,>=2.5 in /usr/local/lib/python3.6/dist-packages (from requests->transformers<5.0.0,>=3.1.0->sentence_transformers) (2.10)\n",
            "Requirement already satisfied: chardet<4,>=3.0.2 in /usr/local/lib/python3.6/dist-packages (from requests->transformers<5.0.0,>=3.1.0->sentence_transformers) (3.0.4)\n",
            "Requirement already satisfied: certifi>=2017.4.17 in /usr/local/lib/python3.6/dist-packages (from requests->transformers<5.0.0,>=3.1.0->sentence_transformers) (2020.12.5)\n",
            "Requirement already satisfied: urllib3!=1.25.0,!=1.25.1,<1.26,>=1.21.1 in /usr/local/lib/python3.6/dist-packages (from requests->transformers<5.0.0,>=3.1.0->sentence_transformers) (1.24.3)\n",
            "Requirement already satisfied: click in /usr/local/lib/python3.6/dist-packages (from sacremoses->transformers<5.0.0,>=3.1.0->sentence_transformers) (7.1.2)\n",
            "Requirement already satisfied: pyparsing>=2.0.2 in /usr/local/lib/python3.6/dist-packages (from packaging->transformers<5.0.0,>=3.1.0->sentence_transformers) (2.4.7)\n",
            "Requirement already satisfied: zipp>=0.5 in /usr/local/lib/python3.6/dist-packages (from importlib-metadata; python_version < \"3.8\"->transformers<5.0.0,>=3.1.0->sentence_transformers) (3.4.0)\n"
          ],
          "name": "stdout"
        }
      ]
    },
    {
      "cell_type": "code",
      "metadata": {
        "id": "hrtOe4jJN7Ms"
      },
      "source": [
        "from sentence_transformers import SentenceTransformer, util\r\n"
      ],
      "execution_count": 61,
      "outputs": []
    },
    {
      "cell_type": "markdown",
      "metadata": {
        "id": "tsQeoOjNT90h"
      },
      "source": [
        "**SBERT**\r\n",
        "Models can be loaded from SBERT , full list:\r\n",
        "https://docs.google.com/spreadsheets/d/14QplCdTCDwEmTqrn1LH4yrbKvdogK4oQvYO1K1aPR5M/edit#gid=0\r\n"
      ]
    },
    {
      "cell_type": "code",
      "metadata": {
        "id": "fceDy7GtTAhS",
        "colab": {
          "base_uri": "https://localhost:8080/"
        },
        "outputId": "2c01e750-491f-4b78-c49c-05fc6f591647"
      },
      "source": [
        "#model = SentenceTransformer('average_word_embeddings_glove.840B.300d')\r\n",
        "#model = SentenceTransformer('paraphrase-distilroberta-base-v1') --no\r\n",
        "#model= SentenceTransformer('msmarco-distilroberta-base-v2') --no\r\n",
        "#model = SentenceTransformer('stsb-bert-large')  ##maybe\r\n",
        "##model = SentenceTransformer('stsb-roberta-large') --no\r\n",
        "#model= SentenceTransformer('paraphrase-xlm-r-multilingual-v1')\r\n",
        "model= SentenceTransformer('LaBSE')  # interesting\r\n",
        "#model = SentenceTransformer('quora-distilbert-multilingual') ## not ok\r\n",
        "\r\n",
        "#model = SentenceTransformer('average_word_embeddings_glove.840B.300d')"
      ],
      "execution_count": 62,
      "outputs": [
        {
          "output_type": "stream",
          "text": [
            "100%|██████████| 1.75G/1.75G [02:02<00:00, 14.4MB/s]\n"
          ],
          "name": "stderr"
        }
      ]
    },
    {
      "cell_type": "code",
      "metadata": {
        "id": "BCoScJ--kCJQ"
      },
      "source": [
        "sentences = sentences_C2\r\n",
        "sentences = [element.lower() for element in sentences]\r\n",
        "\r\n",
        "#sentences[1682]+=' nail polishing makeup'\r\n",
        "#print(sentences[1682])"
      ],
      "execution_count": 65,
      "outputs": []
    },
    {
      "cell_type": "code",
      "metadata": {
        "id": "t6p8yyOnOIB0"
      },
      "source": [
        "\r\n",
        "embeddings = model.encode(sentences, convert_to_tensor=True)\r\n",
        "#embeddings_246_concat = model.encode(sentences_246_concat, convert_to_tensor=True)\r\n",
        "#embeddings_46_concat = model.encode(sentences_46_concat, convert_to_tensor=True)\r\n",
        "#embeddings_246 = model.encode(sentences_246, convert_to_tensor=True)\r\n",
        "#embeddings_46 = model.encode(sentences_46, convert_to_tensor=True)"
      ],
      "execution_count": 66,
      "outputs": []
    },
    {
      "cell_type": "code",
      "metadata": {
        "id": "vD8YLLtdDdeO",
        "colab": {
          "base_uri": "https://localhost:8080/"
        },
        "outputId": "f063c11d-9569-4bd6-b99b-28b3fc56f2fd"
      },
      "source": [
        "TAROC_cosine_scores = util.pytorch_cos_sim(embeddings, embeddings)\r\n",
        "print(TAROC_cosine_scores.shape)\r\n",
        "\r\n",
        "top_k=5\r\n",
        "top_results = torch.topk(TAROC_cosine_scores, k=top_k)\r\n",
        "print(TAROC_cosine_scores.shape)\r\n",
        "print(TAROC_cosine_scores)\r\n",
        "print(top_results.values)\r\n",
        "#print(top_results.indices)\r\n",
        "#print(sentences[0])\r\n",
        "#print(sentences[40])\r\n",
        "#y = torch.ones(TAROC_cosine_scores.shape)*0.8\r\n",
        "#torch.where(TAROC_cosine_scores > y, TAROC_cosine_scores, 0)"
      ],
      "execution_count": 67,
      "outputs": [
        {
          "output_type": "stream",
          "text": [
            "torch.Size([98, 98])\n",
            "torch.Size([98, 98])\n",
            "tensor([[1.0000, 0.4592, 0.4360,  ..., 0.2701, 0.3058, 0.2344],\n",
            "        [0.4592, 1.0000, 0.5399,  ..., 0.4340, 0.3907, 0.3388],\n",
            "        [0.4360, 0.5399, 1.0000,  ..., 0.5498, 0.6736, 0.4370],\n",
            "        ...,\n",
            "        [0.2701, 0.4340, 0.5498,  ..., 1.0000, 0.7009, 0.4628],\n",
            "        [0.3058, 0.3907, 0.6736,  ..., 0.7009, 1.0000, 0.2981],\n",
            "        [0.2344, 0.3388, 0.4370,  ..., 0.4628, 0.2981, 1.0000]])\n",
            "tensor([[1.0000, 0.4592, 0.4384, 0.4360, 0.4350],\n",
            "        [1.0000, 0.5861, 0.5707, 0.5566, 0.5478],\n",
            "        [1.0000, 0.7968, 0.6736, 0.6350, 0.6256],\n",
            "        [1.0000, 0.6411, 0.6201, 0.5829, 0.5458],\n",
            "        [1.0000, 0.6411, 0.5293, 0.5007, 0.4950],\n",
            "        [1.0000, 0.6789, 0.5728, 0.5371, 0.4308],\n",
            "        [1.0000, 0.6915, 0.6419, 0.6041, 0.5865],\n",
            "        [1.0000, 0.7124, 0.6066, 0.5962, 0.5821],\n",
            "        [1.0000, 0.6014, 0.5923, 0.5612, 0.5594],\n",
            "        [1.0000, 0.6585, 0.6162, 0.5829, 0.5813],\n",
            "        [1.0000, 0.7850, 0.7182, 0.6870, 0.6607],\n",
            "        [1.0000, 0.7016, 0.6762, 0.6401, 0.6375],\n",
            "        [1.0000, 0.7553, 0.6598, 0.6414, 0.6203],\n",
            "        [1.0000, 0.7850, 0.7205, 0.7124, 0.6968],\n",
            "        [1.0000, 0.6201, 0.5992, 0.5716, 0.5421],\n",
            "        [1.0000, 0.7259, 0.6968, 0.6687, 0.6536],\n",
            "        [1.0000, 0.7277, 0.6669, 0.6568, 0.6468],\n",
            "        [1.0000, 0.7968, 0.7461, 0.6815, 0.6401],\n",
            "        [1.0000, 0.7104, 0.6687, 0.6138, 0.6118],\n",
            "        [1.0000, 0.7553, 0.7277, 0.5763, 0.5375],\n",
            "        [1.0000, 0.6733, 0.5849, 0.5829, 0.5710],\n",
            "        [1.0000, 0.6733, 0.6580, 0.5923, 0.5662],\n",
            "        [1.0000, 0.6915, 0.6669, 0.6657, 0.6561],\n",
            "        [1.0000, 0.7182, 0.6762, 0.6478, 0.6409],\n",
            "        [1.0000, 0.6478, 0.6296, 0.6256, 0.6222],\n",
            "        [1.0000, 0.7182, 0.5757, 0.5440, 0.5051],\n",
            "        [1.0000, 0.6870, 0.6512, 0.6460, 0.6341],\n",
            "        [1.0000, 0.7092, 0.7004, 0.6849, 0.6761],\n",
            "        [1.0000, 0.6899, 0.5824, 0.5473, 0.5444],\n",
            "        [1.0000, 0.6789, 0.5019, 0.4985, 0.4267],\n",
            "        [1.0000, 0.6542, 0.6375, 0.6244, 0.6178],\n",
            "        [1.0000, 0.7461, 0.7016, 0.6657, 0.6409],\n",
            "        [1.0000, 0.7252, 0.6632, 0.6372, 0.6252],\n",
            "        [1.0000, 0.7528, 0.7252, 0.6849, 0.6688],\n",
            "        [1.0000, 0.6563, 0.6536, 0.6116, 0.6098],\n",
            "        [1.0000, 0.6542, 0.5883, 0.5573, 0.5475],\n",
            "        [1.0000, 0.6419, 0.6067, 0.5839, 0.5525],\n",
            "        [1.0000, 0.7259, 0.6138, 0.5839, 0.5774],\n",
            "        [1.0000, 0.6029, 0.5763, 0.5284, 0.5190],\n",
            "        [1.0000, 0.7182, 0.7030, 0.6955, 0.6899],\n",
            "        [1.0000, 0.6688, 0.6402, 0.5917, 0.5799],\n",
            "        [1.0000, 0.7620, 0.5371, 0.4946, 0.4143],\n",
            "        [1.0000, 0.6967, 0.6954, 0.6689, 0.6676],\n",
            "        [1.0000, 0.7620, 0.5728, 0.4869, 0.4488],\n",
            "        [1.0000, 0.7584, 0.7528, 0.7393, 0.7004],\n",
            "        [1.0000, 0.6685, 0.6622, 0.5444, 0.5415],\n",
            "        [1.0000, 0.9269, 0.8975, 0.8645, 0.8528],\n",
            "        [1.0000, 0.8915, 0.8885, 0.8528, 0.8518],\n",
            "        [1.0000, 0.9287, 0.9269, 0.8915, 0.8757],\n",
            "        [1.0000, 0.6854, 0.6740, 0.6407, 0.5996],\n",
            "        [1.0000, 0.7030, 0.5824, 0.5757, 0.5649],\n",
            "        [1.0000, 0.6615, 0.6491, 0.6328, 0.5981],\n",
            "        [1.0000, 0.6740, 0.6702, 0.6468, 0.6467],\n",
            "        [1.0000, 0.6854, 0.6705, 0.6222, 0.5750],\n",
            "        [1.0000, 0.7393, 0.7082, 0.7051, 0.7005],\n",
            "        [1.0000, 0.6236, 0.5171, 0.4948, 0.4851],\n",
            "        [1.0000, 0.7104, 0.6207, 0.6085, 0.5912],\n",
            "        [1.0000, 0.7505, 0.6251, 0.5992, 0.5981],\n",
            "        [1.0000, 0.6663, 0.6588, 0.6467, 0.6207],\n",
            "        [1.0000, 0.7477, 0.6896, 0.6734, 0.6550],\n",
            "        [1.0000, 0.6352, 0.6302, 0.6025, 0.5911],\n",
            "        [1.0000, 0.8342, 0.8045, 0.7609, 0.7324],\n",
            "        [1.0000, 0.7601, 0.7477, 0.6850, 0.6367],\n",
            "        [1.0000, 0.6461, 0.6284, 0.6127, 0.5999],\n",
            "        [1.0000, 0.6879, 0.6061, 0.5900, 0.5763],\n",
            "        [1.0000, 0.9149, 0.6879, 0.6638, 0.6112],\n",
            "        [1.0000, 0.9149, 0.6350, 0.6216, 0.5900],\n",
            "        [1.0000, 0.7505, 0.6222, 0.6221, 0.6116],\n",
            "        [1.0000, 0.7601, 0.7584, 0.7092, 0.7005],\n",
            "        [1.0000, 0.7649, 0.6884, 0.6811, 0.6445],\n",
            "        [1.0000, 0.8757, 0.8734, 0.8645, 0.8342],\n",
            "        [1.0000, 0.7999, 0.7431, 0.7045, 0.7007],\n",
            "        [1.0000, 0.5785, 0.5723, 0.5370, 0.5224],\n",
            "        [1.0000, 0.7205, 0.7051, 0.6967, 0.6750],\n",
            "        [1.0000, 0.6585, 0.5843, 0.5633, 0.5584],\n",
            "        [1.0000, 0.6533, 0.6052, 0.5666, 0.5605],\n",
            "        [1.0000, 0.6848, 0.6550, 0.6533, 0.6191],\n",
            "        [1.0000, 0.9287, 0.8975, 0.8885, 0.8734],\n",
            "        [1.0000, 0.6976, 0.6651, 0.6588, 0.6551],\n",
            "        [1.0000, 0.7082, 0.6750, 0.6671, 0.6052],\n",
            "        [1.0000, 0.6671, 0.6407, 0.6171, 0.6066],\n",
            "        [1.0000, 0.8518, 0.8475, 0.8414, 0.8217],\n",
            "        [1.0000, 0.8256, 0.8139, 0.7950, 0.7913],\n",
            "        [1.0000, 0.7766, 0.7631, 0.7591, 0.7545],\n",
            "        [1.0000, 0.6974, 0.6939, 0.6796, 0.6780],\n",
            "        [1.0000, 0.8005, 0.7649, 0.7430, 0.6780],\n",
            "        [1.0000, 0.8094, 0.8005, 0.7037, 0.6939],\n",
            "        [1.0000, 0.6259, 0.6123, 0.6005, 0.5821],\n",
            "        [1.0000, 0.8094, 0.7430, 0.6884, 0.6515],\n",
            "        [1.0000, 0.6955, 0.6705, 0.6685, 0.5608],\n",
            "        [1.0000, 0.5478, 0.5257, 0.5199, 0.5153],\n",
            "        [1.0000, 0.4020, 0.3961, 0.3957, 0.3573],\n",
            "        [1.0000, 0.3924, 0.3750, 0.3582, 0.3545],\n",
            "        [1.0000, 0.7520, 0.6976, 0.6156, 0.5936],\n",
            "        [1.0000, 0.7520, 0.6492, 0.6391, 0.6216],\n",
            "        [1.0000, 0.7037, 0.7009, 0.6796, 0.6494],\n",
            "        [1.0000, 0.7009, 0.6736, 0.5482, 0.5454],\n",
            "        [1.0000, 0.6651, 0.5962, 0.5951, 0.5856]])\n"
          ],
          "name": "stdout"
        }
      ]
    },
    {
      "cell_type": "code",
      "metadata": {
        "id": "EfncxXQtmIOw"
      },
      "source": [
        "import numpy as np\r\n",
        "from sklearn import manifold\r\n",
        "A = np.matrix(TAROC_cosine_scores)\r\n",
        "#A = 1.-A\r\n",
        "model = manifold.TSNE(metric=\"precomputed\")\r\n",
        "Y = model.fit_transform(A) "
      ],
      "execution_count": 71,
      "outputs": []
    },
    {
      "cell_type": "code",
      "metadata": {
        "id": "9_5Iv_XxOiBd"
      },
      "source": [
        "description = [\"Vyriškos kelnės\"]\r\n",
        "\r\n",
        "description = [\"Мужские джинсы\"]\r\n",
        "description = [\"Beef fillet\"]\r\n",
        "\r\n",
        "description = [\"Jautienos filė\"]\r\n",
        "\r\n",
        "description = [\"Лак для маникюра\"]\r\n",
        "\r\n",
        "description = [\"Nail polish\"]\r\n",
        "\r\n",
        "description = [\"Кресла офисные\"]\r\n",
        "\r\n",
        "description = [\"Astro Pneumatic 1716 Deluxe Air Blow Gun with 20-Inch Long Angled Nozzle and 1/2-Inch Removable Rubber Tip\"]\r\n",
        "\r\n",
        "description = [\"Astro Pneumatic 1716 Deluxe Air Blow Gun with 20-Inch Long Angled Nozzle and 1/2-Inch Removable Rubber Tip\"]\r\n",
        "description = [\"I Love Makeup - Nail Polish\"]\r\n",
        "description = [\"Astro Pneumatic 1716 Deluxe Air Blow Gun with 20-Inch Long Angled Nozzle and 1/2-Inch Removable Rubber Tip\"]\r\n",
        "\r\n",
        "\r\n",
        "\r\n",
        "description = [\"папиросы\"]\r\n",
        "description = [\"I Love Makeup  - Nail Polish\"]\r\n",
        "description = [\"Astro Pneumatic 1716 Deluxe Air Blow Gun with 20-Inch Long Angled Nozzle and 1/2-Inch Removable Rubber Tip\"]\r\n",
        "description = [\"Beef fillet\"]\r\n",
        "description = [\"Гoвядина филе морож\"]\r\n",
        "description = [\"Мужские джинсы\"]\r\n",
        "description = [\"Фанера\"]\r\n",
        "description = [\"Astro Pneumatic 1716 Deluxe Air Blow Gun with 20-Inch Long Angled Nozzle and 1/2-Inch Removable Rubber Tip\"]\r\n",
        "description = [\"Vineer on kihiline materjal, mis valmistatakse õhukeste puitlehtede – spoonide – kokkuliimimise teel.\"] \r\n",
        "description = [\"офисные стулья деревянные дубовые\"] \r\n",
        "description = [\"Astro Pneumatic 1716 Deluxe Air Blow Gun with 20-Inch Long Angled Nozzle and 1/2-Inch Removable Rubber Tip\"]\r\n",
        "description = [\"Fosmon Apple iPhone 4 / iPhone 4G USB Sync Charge Data Cable with USB Auto Car Charger and USB Home Travel Charger\"] #SUPER matches S3\r\n",
        "description = [\"Astro Pneumatic 1716 Deluxe Air Blow Gun with 20-Inch Long Angled Nozzle and 1/2-Inch Removable Rubber Tip\"] # not\r\n",
        "description = [\"HTC HD7 Crowned Heart Phone Protector Cover Case\"] ## bullshit is both cases - bert and S3\r\n",
        "description = [\"Jolly Jumper Pashmama Nursing Cover - Tan\"]\r\n",
        "description = [\"HTC HD7 Crowned Heart Phone Protector Cover Case\"]\r\n",
        "description = [\"Astro Pneumatic 1716 Deluxe Air Blow Gun with 20-Inch Long Angled Nozzle and 1/2-Inch Removable Rubber Tip\"]\r\n",
        "description = [\"I Love Makeup  - Nail Polish\"]\r\n",
        "description = [\"Astro Pneumatic 1716 Deluxe Air Blow Gun with 20-Inch Long Angled Nozzle and 1/2-Inch Removable Rubber Tip\"]\r\n",
        "description = [\"HTC HD7 Crowned Heart Phone Protector Cover Case\"]\r\n",
        "\r\n",
        "\r\n",
        "description = [\"Astro Pneumatic 1716 Deluxe Air Blow Gun with 20-Inch Long Angled Nozzle and 1/2-Inch Removable Rubber Tip\"]\r\n",
        "description = [\"Beef fillet\"]\r\n",
        "description = [\"Astro Pneumatic 1716 Deluxe Air Blow Gun with 20-Inch Long Angled Nozzle and 1/2-Inch Removable Rubber Tip\"]\r\n",
        "description = [\"Phone Protector Cover Case\"]\r\n",
        "description = [\"I Love Makeup  - Nail Polish\"]\r\n",
        "description = [\"Я люблю макияж - полировка для ногтей\"]\r\n",
        "description = [\"Аš myliu makijažą - nagų poliravimas \"]\r\n",
        "description = [\"Amo el maquillaje - Esmalte de uñas\"]\r\n",
        "\r\n",
        "embeddings_description = model.encode(description, convert_to_tensor=True )"
      ],
      "execution_count": null,
      "outputs": []
    },
    {
      "cell_type": "code",
      "metadata": {
        "colab": {
          "base_uri": "https://localhost:8080/"
        },
        "id": "Hld1Nn7kO2Gw",
        "outputId": "0b944ecc-3cdf-44c6-cc64-c235f403f385"
      },
      "source": [
        "cosine_scores = util.pytorch_cos_sim(embeddings, embeddings_description)\r\n",
        "cosine_scores.shape\r\n",
        "values,indices = torch.transpose(cosine_scores,0,1).topk(10)\r\n",
        "print(values, indices)\r\n",
        "indices.numpy()[0][0]\r\n",
        "\r\n",
        "print(values.numpy()[0][0], sentences[indices.numpy()[0][0]])\r\n",
        "print(values.numpy()[0][1], sentences[indices.numpy()[0][1]])\r\n",
        "print(values.numpy()[0][2], sentences[indices.numpy()[0][2]])\r\n",
        "print(values.numpy()[0][3], sentences[indices.numpy()[0][3]])\r\n",
        "print(values.numpy()[0][4], sentences[indices.numpy()[0][4]])\r\n",
        "\r\n",
        "print(sentences[1682])\r\n",
        "\r\n",
        "\r\n"
      ],
      "execution_count": null,
      "outputs": [
        {
          "output_type": "stream",
          "text": [
            "tensor([[0.4128, 0.4085, 0.4078, 0.3805, 0.3766, 0.3638, 0.3494, 0.3488, 0.3460,\n",
            "         0.3428]]) tensor([[1682, 1681, 1680, 1684, 1683, 1687, 1689, 1690, 3830, 1686]])\n",
            "0.41282755 essential oils and resinoids; perfumery, cosmetic or toilet preparations; beauty or make-up preparations and preparations for the care of the skin (other than medicaments), including sunscreen or suntan preparations; manicure or pedicure preparations; manicure or pedicure preparations nail polishing makeup\n",
            "0.40854198 essential oils and resinoids; perfumery, cosmetic or toilet preparations; beauty or make-up preparations and preparations for the care of the skin (other than medicaments), including sunscreen or suntan preparations; manicure or pedicure preparations; eye make-up preparations\n",
            "0.40784284 essential oils and resinoids; perfumery, cosmetic or toilet preparations; beauty or make-up preparations and preparations for the care of the skin (other than medicaments), including sunscreen or suntan preparations; manicure or pedicure preparations; lip make-up preparations\n",
            "0.38048697 essential oils and resinoids; perfumery, cosmetic or toilet preparations; beauty or make-up preparations and preparations for the care of the skin (other than medicaments), including sunscreen or suntan preparations; manicure or pedicure preparations; other;other\n",
            "0.37661064 essential oils and resinoids; perfumery, cosmetic or toilet preparations; beauty or make-up preparations and preparations for the care of the skin (other than medicaments), including sunscreen or suntan preparations; manicure or pedicure preparations; other;powders, whether or not compressed\n",
            "essential oils and resinoids; perfumery, cosmetic or toilet preparations; beauty or make-up preparations and preparations for the care of the skin (other than medicaments), including sunscreen or suntan preparations; manicure or pedicure preparations; manicure or pedicure preparations nail polishing makeup\n"
          ],
          "name": "stdout"
        }
      ]
    },
    {
      "cell_type": "code",
      "metadata": {
        "id": "G908HpwvUj1S",
        "colab": {
          "base_uri": "https://localhost:8080/",
          "height": 511
        },
        "outputId": "bde051a9-1dd0-4510-f690-52960b3530d4"
      },
      "source": [
        "df_C246_descriptions.iloc[indices.numpy()[0],:]"
      ],
      "execution_count": null,
      "outputs": [
        {
          "output_type": "execute_result",
          "data": {
            "text/html": [
              "<div>\n",
              "<style scoped>\n",
              "    .dataframe tbody tr th:only-of-type {\n",
              "        vertical-align: middle;\n",
              "    }\n",
              "\n",
              "    .dataframe tbody tr th {\n",
              "        vertical-align: top;\n",
              "    }\n",
              "\n",
              "    .dataframe thead th {\n",
              "        text-align: right;\n",
              "    }\n",
              "</style>\n",
              "<table border=\"1\" class=\"dataframe\">\n",
              "  <thead>\n",
              "    <tr style=\"text-align: right;\">\n",
              "      <th></th>\n",
              "      <th>CODE_2</th>\n",
              "      <th>CODE_4</th>\n",
              "      <th>CODE_6</th>\n",
              "      <th>goods_CODE_6</th>\n",
              "      <th>Description_46</th>\n",
              "      <th>Description_246</th>\n",
              "      <th>Description_46_concat</th>\n",
              "      <th>Description_246_concat</th>\n",
              "    </tr>\n",
              "  </thead>\n",
              "  <tbody>\n",
              "    <tr>\n",
              "      <th>1713</th>\n",
              "      <td>34</td>\n",
              "      <td>4</td>\n",
              "      <td>90</td>\n",
              "      <td>3404900000 80</td>\n",
              "      <td>Artificial waxes and prepared waxes; Other</td>\n",
              "      <td>SOAP, ORGANIC SURFACE-ACTIVE AGENTS, WASHING P...</td>\n",
              "      <td>Artificial waxes and prepared waxes; Other</td>\n",
              "      <td>SOAP, ORGANIC SURFACE-ACTIVE AGENTS, WASHING P...</td>\n",
              "    </tr>\n",
              "    <tr>\n",
              "      <th>1680</th>\n",
              "      <td>33</td>\n",
              "      <td>4</td>\n",
              "      <td>10</td>\n",
              "      <td>3304100000 80</td>\n",
              "      <td>Beauty or make-up preparations and preparation...</td>\n",
              "      <td>ESSENTIAL OILS AND RESINOIDS; PERFUMERY, COSME...</td>\n",
              "      <td>Beauty or make-up preparations and preparation...</td>\n",
              "      <td>ESSENTIAL OILS AND RESINOIDS; PERFUMERY, COSME...</td>\n",
              "    </tr>\n",
              "    <tr>\n",
              "      <th>1712</th>\n",
              "      <td>34</td>\n",
              "      <td>4</td>\n",
              "      <td>20</td>\n",
              "      <td>3404200000 80</td>\n",
              "      <td>Artificial waxes and prepared waxes; Of poly(o...</td>\n",
              "      <td>SOAP, ORGANIC SURFACE-ACTIVE AGENTS, WASHING P...</td>\n",
              "      <td>Artificial waxes and prepared waxes; Of poly(o...</td>\n",
              "      <td>SOAP, ORGANIC SURFACE-ACTIVE AGENTS, WASHING P...</td>\n",
              "    </tr>\n",
              "    <tr>\n",
              "      <th>1681</th>\n",
              "      <td>33</td>\n",
              "      <td>4</td>\n",
              "      <td>20</td>\n",
              "      <td>3304200000 80</td>\n",
              "      <td>Beauty or make-up preparations and preparation...</td>\n",
              "      <td>ESSENTIAL OILS AND RESINOIDS; PERFUMERY, COSME...</td>\n",
              "      <td>Beauty or make-up preparations and preparation...</td>\n",
              "      <td>ESSENTIAL OILS AND RESINOIDS; PERFUMERY, COSME...</td>\n",
              "    </tr>\n",
              "    <tr>\n",
              "      <th>1682</th>\n",
              "      <td>33</td>\n",
              "      <td>4</td>\n",
              "      <td>30</td>\n",
              "      <td>3304300000 80</td>\n",
              "      <td>Beauty or make-up preparations and preparation...</td>\n",
              "      <td>ESSENTIAL OILS AND RESINOIDS; PERFUMERY, COSME...</td>\n",
              "      <td>Beauty or make-up preparations and preparation...</td>\n",
              "      <td>ESSENTIAL OILS AND RESINOIDS; PERFUMERY, COSME...</td>\n",
              "    </tr>\n",
              "    <tr>\n",
              "      <th>1684</th>\n",
              "      <td>33</td>\n",
              "      <td>4</td>\n",
              "      <td>91</td>\n",
              "      <td>3304990000 80</td>\n",
              "      <td>Beauty or make-up preparations and preparation...</td>\n",
              "      <td>ESSENTIAL OILS AND RESINOIDS; PERFUMERY, COSME...</td>\n",
              "      <td>Beauty or make-up preparations and preparation...</td>\n",
              "      <td>ESSENTIAL OILS AND RESINOIDS; PERFUMERY, COSME...</td>\n",
              "    </tr>\n",
              "    <tr>\n",
              "      <th>1701</th>\n",
              "      <td>34</td>\n",
              "      <td>1</td>\n",
              "      <td>30</td>\n",
              "      <td>3401300000 80</td>\n",
              "      <td>Soap; organic surface-active products and prep...</td>\n",
              "      <td>SOAP, ORGANIC SURFACE-ACTIVE AGENTS, WASHING P...</td>\n",
              "      <td>Soap; organic surface-active products and prep...</td>\n",
              "      <td>SOAP, ORGANIC SURFACE-ACTIVE AGENTS, WASHING P...</td>\n",
              "    </tr>\n",
              "    <tr>\n",
              "      <th>1699</th>\n",
              "      <td>34</td>\n",
              "      <td>1</td>\n",
              "      <td>11</td>\n",
              "      <td>3401190000 80</td>\n",
              "      <td>Soap; organic surface-active products and prep...</td>\n",
              "      <td>SOAP, ORGANIC SURFACE-ACTIVE AGENTS, WASHING P...</td>\n",
              "      <td>Soap; organic surface-active products and prep...</td>\n",
              "      <td>SOAP, ORGANIC SURFACE-ACTIVE AGENTS, WASHING P...</td>\n",
              "    </tr>\n",
              "    <tr>\n",
              "      <th>1700</th>\n",
              "      <td>34</td>\n",
              "      <td>1</td>\n",
              "      <td>20</td>\n",
              "      <td>3401200000 80</td>\n",
              "      <td>Soap; organic surface-active products and prep...</td>\n",
              "      <td>SOAP, ORGANIC SURFACE-ACTIVE AGENTS, WASHING P...</td>\n",
              "      <td>Soap; organic surface-active products and prep...</td>\n",
              "      <td>SOAP, ORGANIC SURFACE-ACTIVE AGENTS, WASHING P...</td>\n",
              "    </tr>\n",
              "    <tr>\n",
              "      <th>1698</th>\n",
              "      <td>34</td>\n",
              "      <td>1</td>\n",
              "      <td>11</td>\n",
              "      <td>3401110000 80</td>\n",
              "      <td>Soap; organic surface-active products and prep...</td>\n",
              "      <td>SOAP, ORGANIC SURFACE-ACTIVE AGENTS, WASHING P...</td>\n",
              "      <td>Soap; organic surface-active products and prep...</td>\n",
              "      <td>SOAP, ORGANIC SURFACE-ACTIVE AGENTS, WASHING P...</td>\n",
              "    </tr>\n",
              "  </tbody>\n",
              "</table>\n",
              "</div>"
            ],
            "text/plain": [
              "      CODE_2  ...                             Description_246_concat\n",
              "1713      34  ...  SOAP, ORGANIC SURFACE-ACTIVE AGENTS, WASHING P...\n",
              "1680      33  ...  ESSENTIAL OILS AND RESINOIDS; PERFUMERY, COSME...\n",
              "1712      34  ...  SOAP, ORGANIC SURFACE-ACTIVE AGENTS, WASHING P...\n",
              "1681      33  ...  ESSENTIAL OILS AND RESINOIDS; PERFUMERY, COSME...\n",
              "1682      33  ...  ESSENTIAL OILS AND RESINOIDS; PERFUMERY, COSME...\n",
              "1684      33  ...  ESSENTIAL OILS AND RESINOIDS; PERFUMERY, COSME...\n",
              "1701      34  ...  SOAP, ORGANIC SURFACE-ACTIVE AGENTS, WASHING P...\n",
              "1699      34  ...  SOAP, ORGANIC SURFACE-ACTIVE AGENTS, WASHING P...\n",
              "1700      34  ...  SOAP, ORGANIC SURFACE-ACTIVE AGENTS, WASHING P...\n",
              "1698      34  ...  SOAP, ORGANIC SURFACE-ACTIVE AGENTS, WASHING P...\n",
              "\n",
              "[10 rows x 8 columns]"
            ]
          },
          "metadata": {
            "tags": []
          },
          "execution_count": 33
        }
      ]
    },
    {
      "cell_type": "markdown",
      "metadata": {
        "id": "C55VEYqOoQXw"
      },
      "source": [
        "**TRAINING**"
      ]
    },
    {
      "cell_type": "code",
      "metadata": {
        "colab": {
          "base_uri": "https://localhost:8080/",
          "height": 114,
          "referenced_widgets": [
            "f1fb04d3d4bb423aa5ad621a45dc80e1",
            "5eabfe5f3b5241e0b3f08aa9c3a185e4",
            "65bf9b3c74314f909da24f89ad67fef9",
            "657d8f660fb34cdd9c834540797c3c48",
            "696006353f834c29acc1bb2f881c99d7",
            "1a2bb301ee8f4b4f8463d81bea04532a",
            "58c673febd52418dbc035165c1ea6944",
            "e8c9fef104d04534a51054d4cbfd6bf1",
            "4aecb698eb704e578a041eb40aa7e2ca",
            "0ec0be28f98046c78010ab62be6001a8",
            "fa96ceb7ebed48c398c24fd1631a0f9b",
            "0feef150471f4223968c7bda3c463c8f",
            "d3770452f99549c1b02f22afe1432c5e",
            "0b419c8d07b94135bc581cfa6ea85fb6",
            "e713247a1e4242e19409e64c0fbe0c33",
            "0a5cce5bb2094f9abbb92bacdc9ef76e"
          ]
        },
        "id": "tP5O_-HqVpfo",
        "outputId": "b3720637-4007-441d-8286-5142780810a6"
      },
      "source": [
        "from sentence_transformers import SentenceTransformer, InputExample, losses\r\n",
        "from torch.utils.data import DataLoader\r\n",
        "\r\n",
        "#Define the model. Either from scratch of by loading a pre-trained model\r\n",
        "t_model = model\r\n",
        "\r\n",
        "#Define your train examples. You need more than just two examples...\r\n",
        "#train_examples = [\r\n",
        "#                  InputExample(texts=['Nail polish makeup', 'manicure or pedicure preparations'], label=1.),\r\n",
        "#                  InputExample(texts=['Nail polish makeup', 'essential oils and resinoids; perfumery, cosmetic or toilet preparations'], label=1.),\r\n",
        "#                  InputExample(texts=['Nail polish makeup', 'soap, organic surface-active agents, washing preparations, lubricating preparations, artificial waxes, prepared waxes, polishing or scouring preparations, candles and similar articles, modelling pastes'], label=0.)]\r\n",
        "\r\n",
        "train_examples = [\r\n",
        "                  InputExample(texts=['Nail polish makeup', 'manicure or pedicure preparations'], label=1.),\r\n",
        "                  #InputExample(texts=['Nail polish makeup', 'essential oils and resinoids; perfumery, cosmetic or toilet preparations'], label=1.),\r\n",
        "                  InputExample(texts=['Nail polish makeup', 'waxes'], label=0.),\r\n",
        "                  InputExample(texts=['Nail polish makeup', 'lips'], label=0.),\r\n",
        "                  InputExample(texts=['Nail polish makeup', 'eye'], label=0.)]\r\n",
        "\r\n",
        "\r\n",
        "\r\n",
        "#Define your train dataset, the dataloader and the train loss\r\n",
        "train_dataloader = DataLoader(train_examples, shuffle=True, batch_size=1)\r\n",
        "train_loss = losses.CosineSimilarityLoss(model)\r\n",
        "\r\n",
        "#Tune the model\r\n",
        "t_model.fit(train_objectives=[(train_dataloader, train_loss)], epochs=1, warmup_steps=100)"
      ],
      "execution_count": null,
      "outputs": [
        {
          "output_type": "display_data",
          "data": {
            "application/vnd.jupyter.widget-view+json": {
              "model_id": "f1fb04d3d4bb423aa5ad621a45dc80e1",
              "version_minor": 0,
              "version_major": 2
            },
            "text/plain": [
              "HBox(children=(FloatProgress(value=0.0, description='Epoch', max=1.0, style=ProgressStyle(description_width='i…"
            ]
          },
          "metadata": {
            "tags": []
          }
        },
        {
          "output_type": "display_data",
          "data": {
            "application/vnd.jupyter.widget-view+json": {
              "model_id": "4aecb698eb704e578a041eb40aa7e2ca",
              "version_minor": 0,
              "version_major": 2
            },
            "text/plain": [
              "HBox(children=(FloatProgress(value=0.0, description='Iteration', max=4.0, style=ProgressStyle(description_widt…"
            ]
          },
          "metadata": {
            "tags": []
          }
        },
        {
          "output_type": "stream",
          "text": [
            "\n",
            "\n"
          ],
          "name": "stdout"
        }
      ]
    },
    {
      "cell_type": "code",
      "metadata": {
        "id": "YwlvPjOTY23N"
      },
      "source": [
        "t_embeddings = t_model.encode(sentences, convert_to_tensor=True)"
      ],
      "execution_count": null,
      "outputs": []
    },
    {
      "cell_type": "code",
      "metadata": {
        "colab": {
          "base_uri": "https://localhost:8080/"
        },
        "id": "mC2BcWA4ZJUm",
        "outputId": "9f737c94-ea1d-4e14-81fc-c0bb0d31ec3f"
      },
      "source": [
        "t_embeddings_description = t_model.encode(description, convert_to_tensor=True )\r\n",
        "\r\n",
        "cosine_scores = util.pytorch_cos_sim(t_embeddings, t_embeddings_description)\r\n",
        "cosine_scores.shape\r\n",
        "values,indices = torch.transpose(cosine_scores,0,1).topk(10)\r\n",
        "print(values, indices)\r\n",
        "indices.numpy()[0][0]\r\n",
        "\r\n",
        "print(values.numpy()[0][0], sentences[indices.numpy()[0][0]])\r\n",
        "print(values.numpy()[0][1], sentences[indices.numpy()[0][1]])\r\n",
        "print(values.numpy()[0][2], sentences[indices.numpy()[0][2]])\r\n",
        "print(values.numpy()[0][3], sentences[indices.numpy()[0][3]])\r\n",
        "print(values.numpy()[0][4], sentences[indices.numpy()[0][4]])\r\n",
        "\r\n"
      ],
      "execution_count": null,
      "outputs": [
        {
          "output_type": "stream",
          "text": [
            "tensor([[0.5126, 0.5063, 0.4814, 0.4687, 0.4474, 0.4382, 0.4359, 0.4089, 0.4089,\n",
            "         0.4089]]) tensor([[1713, 1680, 1712, 1681, 1682, 1684, 1707, 1699, 1701, 1700]])\n",
            "0.51262975 soap, organic surface-active agents, washing preparations, lubricating preparations, artificial waxes, prepared waxes, polishing or scouring preparations, candles and similar articles, modelling pastes, 'dental waxes' and dental preparations with a basis of plaster; artificial waxes and prepared waxes; other \n",
            "0.5063278 essential oils and resinoids; perfumery, cosmetic or toilet preparations; beauty or make-up preparations and preparations for the care of the skin (other than medicaments), including sunscreen or suntan preparations; manicure or pedicure preparations; lip make-up preparations \n",
            "0.48139337 soap, organic surface-active agents, washing preparations, lubricating preparations, artificial waxes, prepared waxes, polishing or scouring preparations, candles and similar articles, modelling pastes, 'dental waxes' and dental preparations with a basis of plaster; artificial waxes and prepared waxes; of poly(oxyethylene) (polyethylene glycol) \n",
            "0.4686848 essential oils and resinoids; perfumery, cosmetic or toilet preparations; beauty or make-up preparations and preparations for the care of the skin (other than medicaments), including sunscreen or suntan preparations; manicure or pedicure preparations; eye make-up preparations \n",
            "0.44741055 essential oils and resinoids; perfumery, cosmetic or toilet preparations; beauty or make-up preparations and preparations for the care of the skin (other than medicaments), including sunscreen or suntan preparations; manicure or pedicure preparations; manicure or pedicure preparations \n"
          ],
          "name": "stdout"
        }
      ]
    },
    {
      "cell_type": "markdown",
      "metadata": {
        "id": "-m1iTY6yaSF8"
      },
      "source": [
        ""
      ]
    }
  ]
}