{
  "nbformat": 4,
  "nbformat_minor": 0,
  "metadata": {
    "colab": {
      "name": "Training TRCtransformersSBERT.ipynb",
      "provenance": [],
      "collapsed_sections": [],
      "authorship_tag": "ABX9TyN8QBRWNCbQFi3gOWxtQ9Kj",
      "include_colab_link": true
    },
    "kernelspec": {
      "display_name": "Python 3",
      "name": "python3"
    },
    "widgets": {
      "application/vnd.jupyter.widget-state+json": {
        "f1fb04d3d4bb423aa5ad621a45dc80e1": {
          "model_module": "@jupyter-widgets/controls",
          "model_name": "HBoxModel",
          "state": {
            "_view_name": "HBoxView",
            "_dom_classes": [],
            "_model_name": "HBoxModel",
            "_view_module": "@jupyter-widgets/controls",
            "_model_module_version": "1.5.0",
            "_view_count": null,
            "_view_module_version": "1.5.0",
            "box_style": "",
            "layout": "IPY_MODEL_5eabfe5f3b5241e0b3f08aa9c3a185e4",
            "_model_module": "@jupyter-widgets/controls",
            "children": [
              "IPY_MODEL_65bf9b3c74314f909da24f89ad67fef9",
              "IPY_MODEL_657d8f660fb34cdd9c834540797c3c48"
            ]
          }
        },
        "5eabfe5f3b5241e0b3f08aa9c3a185e4": {
          "model_module": "@jupyter-widgets/base",
          "model_name": "LayoutModel",
          "state": {
            "_view_name": "LayoutView",
            "grid_template_rows": null,
            "right": null,
            "justify_content": null,
            "_view_module": "@jupyter-widgets/base",
            "overflow": null,
            "_model_module_version": "1.2.0",
            "_view_count": null,
            "flex_flow": null,
            "width": null,
            "min_width": null,
            "border": null,
            "align_items": null,
            "bottom": null,
            "_model_module": "@jupyter-widgets/base",
            "top": null,
            "grid_column": null,
            "overflow_y": null,
            "overflow_x": null,
            "grid_auto_flow": null,
            "grid_area": null,
            "grid_template_columns": null,
            "flex": null,
            "_model_name": "LayoutModel",
            "justify_items": null,
            "grid_row": null,
            "max_height": null,
            "align_content": null,
            "visibility": null,
            "align_self": null,
            "height": null,
            "min_height": null,
            "padding": null,
            "grid_auto_rows": null,
            "grid_gap": null,
            "max_width": null,
            "order": null,
            "_view_module_version": "1.2.0",
            "grid_template_areas": null,
            "object_position": null,
            "object_fit": null,
            "grid_auto_columns": null,
            "margin": null,
            "display": null,
            "left": null
          }
        },
        "65bf9b3c74314f909da24f89ad67fef9": {
          "model_module": "@jupyter-widgets/controls",
          "model_name": "FloatProgressModel",
          "state": {
            "_view_name": "ProgressView",
            "style": "IPY_MODEL_696006353f834c29acc1bb2f881c99d7",
            "_dom_classes": [],
            "description": "Epoch: 100%",
            "_model_name": "FloatProgressModel",
            "bar_style": "success",
            "max": 1,
            "_view_module": "@jupyter-widgets/controls",
            "_model_module_version": "1.5.0",
            "value": 1,
            "_view_count": null,
            "_view_module_version": "1.5.0",
            "orientation": "horizontal",
            "min": 0,
            "description_tooltip": null,
            "_model_module": "@jupyter-widgets/controls",
            "layout": "IPY_MODEL_1a2bb301ee8f4b4f8463d81bea04532a"
          }
        },
        "657d8f660fb34cdd9c834540797c3c48": {
          "model_module": "@jupyter-widgets/controls",
          "model_name": "HTMLModel",
          "state": {
            "_view_name": "HTMLView",
            "style": "IPY_MODEL_58c673febd52418dbc035165c1ea6944",
            "_dom_classes": [],
            "description": "",
            "_model_name": "HTMLModel",
            "placeholder": "​",
            "_view_module": "@jupyter-widgets/controls",
            "_model_module_version": "1.5.0",
            "value": " 1/1 [00:26&lt;00:00, 26.94s/it]",
            "_view_count": null,
            "_view_module_version": "1.5.0",
            "description_tooltip": null,
            "_model_module": "@jupyter-widgets/controls",
            "layout": "IPY_MODEL_e8c9fef104d04534a51054d4cbfd6bf1"
          }
        },
        "696006353f834c29acc1bb2f881c99d7": {
          "model_module": "@jupyter-widgets/controls",
          "model_name": "ProgressStyleModel",
          "state": {
            "_view_name": "StyleView",
            "_model_name": "ProgressStyleModel",
            "description_width": "initial",
            "_view_module": "@jupyter-widgets/base",
            "_model_module_version": "1.5.0",
            "_view_count": null,
            "_view_module_version": "1.2.0",
            "bar_color": null,
            "_model_module": "@jupyter-widgets/controls"
          }
        },
        "1a2bb301ee8f4b4f8463d81bea04532a": {
          "model_module": "@jupyter-widgets/base",
          "model_name": "LayoutModel",
          "state": {
            "_view_name": "LayoutView",
            "grid_template_rows": null,
            "right": null,
            "justify_content": null,
            "_view_module": "@jupyter-widgets/base",
            "overflow": null,
            "_model_module_version": "1.2.0",
            "_view_count": null,
            "flex_flow": null,
            "width": null,
            "min_width": null,
            "border": null,
            "align_items": null,
            "bottom": null,
            "_model_module": "@jupyter-widgets/base",
            "top": null,
            "grid_column": null,
            "overflow_y": null,
            "overflow_x": null,
            "grid_auto_flow": null,
            "grid_area": null,
            "grid_template_columns": null,
            "flex": null,
            "_model_name": "LayoutModel",
            "justify_items": null,
            "grid_row": null,
            "max_height": null,
            "align_content": null,
            "visibility": null,
            "align_self": null,
            "height": null,
            "min_height": null,
            "padding": null,
            "grid_auto_rows": null,
            "grid_gap": null,
            "max_width": null,
            "order": null,
            "_view_module_version": "1.2.0",
            "grid_template_areas": null,
            "object_position": null,
            "object_fit": null,
            "grid_auto_columns": null,
            "margin": null,
            "display": null,
            "left": null
          }
        },
        "58c673febd52418dbc035165c1ea6944": {
          "model_module": "@jupyter-widgets/controls",
          "model_name": "DescriptionStyleModel",
          "state": {
            "_view_name": "StyleView",
            "_model_name": "DescriptionStyleModel",
            "description_width": "",
            "_view_module": "@jupyter-widgets/base",
            "_model_module_version": "1.5.0",
            "_view_count": null,
            "_view_module_version": "1.2.0",
            "_model_module": "@jupyter-widgets/controls"
          }
        },
        "e8c9fef104d04534a51054d4cbfd6bf1": {
          "model_module": "@jupyter-widgets/base",
          "model_name": "LayoutModel",
          "state": {
            "_view_name": "LayoutView",
            "grid_template_rows": null,
            "right": null,
            "justify_content": null,
            "_view_module": "@jupyter-widgets/base",
            "overflow": null,
            "_model_module_version": "1.2.0",
            "_view_count": null,
            "flex_flow": null,
            "width": null,
            "min_width": null,
            "border": null,
            "align_items": null,
            "bottom": null,
            "_model_module": "@jupyter-widgets/base",
            "top": null,
            "grid_column": null,
            "overflow_y": null,
            "overflow_x": null,
            "grid_auto_flow": null,
            "grid_area": null,
            "grid_template_columns": null,
            "flex": null,
            "_model_name": "LayoutModel",
            "justify_items": null,
            "grid_row": null,
            "max_height": null,
            "align_content": null,
            "visibility": null,
            "align_self": null,
            "height": null,
            "min_height": null,
            "padding": null,
            "grid_auto_rows": null,
            "grid_gap": null,
            "max_width": null,
            "order": null,
            "_view_module_version": "1.2.0",
            "grid_template_areas": null,
            "object_position": null,
            "object_fit": null,
            "grid_auto_columns": null,
            "margin": null,
            "display": null,
            "left": null
          }
        },
        "4aecb698eb704e578a041eb40aa7e2ca": {
          "model_module": "@jupyter-widgets/controls",
          "model_name": "HBoxModel",
          "state": {
            "_view_name": "HBoxView",
            "_dom_classes": [],
            "_model_name": "HBoxModel",
            "_view_module": "@jupyter-widgets/controls",
            "_model_module_version": "1.5.0",
            "_view_count": null,
            "_view_module_version": "1.5.0",
            "box_style": "",
            "layout": "IPY_MODEL_0ec0be28f98046c78010ab62be6001a8",
            "_model_module": "@jupyter-widgets/controls",
            "children": [
              "IPY_MODEL_fa96ceb7ebed48c398c24fd1631a0f9b",
              "IPY_MODEL_0feef150471f4223968c7bda3c463c8f"
            ]
          }
        },
        "0ec0be28f98046c78010ab62be6001a8": {
          "model_module": "@jupyter-widgets/base",
          "model_name": "LayoutModel",
          "state": {
            "_view_name": "LayoutView",
            "grid_template_rows": null,
            "right": null,
            "justify_content": null,
            "_view_module": "@jupyter-widgets/base",
            "overflow": null,
            "_model_module_version": "1.2.0",
            "_view_count": null,
            "flex_flow": null,
            "width": null,
            "min_width": null,
            "border": null,
            "align_items": null,
            "bottom": null,
            "_model_module": "@jupyter-widgets/base",
            "top": null,
            "grid_column": null,
            "overflow_y": null,
            "overflow_x": null,
            "grid_auto_flow": null,
            "grid_area": null,
            "grid_template_columns": null,
            "flex": null,
            "_model_name": "LayoutModel",
            "justify_items": null,
            "grid_row": null,
            "max_height": null,
            "align_content": null,
            "visibility": null,
            "align_self": null,
            "height": null,
            "min_height": null,
            "padding": null,
            "grid_auto_rows": null,
            "grid_gap": null,
            "max_width": null,
            "order": null,
            "_view_module_version": "1.2.0",
            "grid_template_areas": null,
            "object_position": null,
            "object_fit": null,
            "grid_auto_columns": null,
            "margin": null,
            "display": null,
            "left": null
          }
        },
        "fa96ceb7ebed48c398c24fd1631a0f9b": {
          "model_module": "@jupyter-widgets/controls",
          "model_name": "FloatProgressModel",
          "state": {
            "_view_name": "ProgressView",
            "style": "IPY_MODEL_d3770452f99549c1b02f22afe1432c5e",
            "_dom_classes": [],
            "description": "Iteration: 100%",
            "_model_name": "FloatProgressModel",
            "bar_style": "success",
            "max": 4,
            "_view_module": "@jupyter-widgets/controls",
            "_model_module_version": "1.5.0",
            "value": 4,
            "_view_count": null,
            "_view_module_version": "1.5.0",
            "orientation": "horizontal",
            "min": 0,
            "description_tooltip": null,
            "_model_module": "@jupyter-widgets/controls",
            "layout": "IPY_MODEL_0b419c8d07b94135bc581cfa6ea85fb6"
          }
        },
        "0feef150471f4223968c7bda3c463c8f": {
          "model_module": "@jupyter-widgets/controls",
          "model_name": "HTMLModel",
          "state": {
            "_view_name": "HTMLView",
            "style": "IPY_MODEL_e713247a1e4242e19409e64c0fbe0c33",
            "_dom_classes": [],
            "description": "",
            "_model_name": "HTMLModel",
            "placeholder": "​",
            "_view_module": "@jupyter-widgets/controls",
            "_model_module_version": "1.5.0",
            "value": " 4/4 [00:26&lt;00:00,  6.72s/it]",
            "_view_count": null,
            "_view_module_version": "1.5.0",
            "description_tooltip": null,
            "_model_module": "@jupyter-widgets/controls",
            "layout": "IPY_MODEL_0a5cce5bb2094f9abbb92bacdc9ef76e"
          }
        },
        "d3770452f99549c1b02f22afe1432c5e": {
          "model_module": "@jupyter-widgets/controls",
          "model_name": "ProgressStyleModel",
          "state": {
            "_view_name": "StyleView",
            "_model_name": "ProgressStyleModel",
            "description_width": "initial",
            "_view_module": "@jupyter-widgets/base",
            "_model_module_version": "1.5.0",
            "_view_count": null,
            "_view_module_version": "1.2.0",
            "bar_color": null,
            "_model_module": "@jupyter-widgets/controls"
          }
        },
        "0b419c8d07b94135bc581cfa6ea85fb6": {
          "model_module": "@jupyter-widgets/base",
          "model_name": "LayoutModel",
          "state": {
            "_view_name": "LayoutView",
            "grid_template_rows": null,
            "right": null,
            "justify_content": null,
            "_view_module": "@jupyter-widgets/base",
            "overflow": null,
            "_model_module_version": "1.2.0",
            "_view_count": null,
            "flex_flow": null,
            "width": null,
            "min_width": null,
            "border": null,
            "align_items": null,
            "bottom": null,
            "_model_module": "@jupyter-widgets/base",
            "top": null,
            "grid_column": null,
            "overflow_y": null,
            "overflow_x": null,
            "grid_auto_flow": null,
            "grid_area": null,
            "grid_template_columns": null,
            "flex": null,
            "_model_name": "LayoutModel",
            "justify_items": null,
            "grid_row": null,
            "max_height": null,
            "align_content": null,
            "visibility": null,
            "align_self": null,
            "height": null,
            "min_height": null,
            "padding": null,
            "grid_auto_rows": null,
            "grid_gap": null,
            "max_width": null,
            "order": null,
            "_view_module_version": "1.2.0",
            "grid_template_areas": null,
            "object_position": null,
            "object_fit": null,
            "grid_auto_columns": null,
            "margin": null,
            "display": null,
            "left": null
          }
        },
        "e713247a1e4242e19409e64c0fbe0c33": {
          "model_module": "@jupyter-widgets/controls",
          "model_name": "DescriptionStyleModel",
          "state": {
            "_view_name": "StyleView",
            "_model_name": "DescriptionStyleModel",
            "description_width": "",
            "_view_module": "@jupyter-widgets/base",
            "_model_module_version": "1.5.0",
            "_view_count": null,
            "_view_module_version": "1.2.0",
            "_model_module": "@jupyter-widgets/controls"
          }
        },
        "0a5cce5bb2094f9abbb92bacdc9ef76e": {
          "model_module": "@jupyter-widgets/base",
          "model_name": "LayoutModel",
          "state": {
            "_view_name": "LayoutView",
            "grid_template_rows": null,
            "right": null,
            "justify_content": null,
            "_view_module": "@jupyter-widgets/base",
            "overflow": null,
            "_model_module_version": "1.2.0",
            "_view_count": null,
            "flex_flow": null,
            "width": null,
            "min_width": null,
            "border": null,
            "align_items": null,
            "bottom": null,
            "_model_module": "@jupyter-widgets/base",
            "top": null,
            "grid_column": null,
            "overflow_y": null,
            "overflow_x": null,
            "grid_auto_flow": null,
            "grid_area": null,
            "grid_template_columns": null,
            "flex": null,
            "_model_name": "LayoutModel",
            "justify_items": null,
            "grid_row": null,
            "max_height": null,
            "align_content": null,
            "visibility": null,
            "align_self": null,
            "height": null,
            "min_height": null,
            "padding": null,
            "grid_auto_rows": null,
            "grid_gap": null,
            "max_width": null,
            "order": null,
            "_view_module_version": "1.2.0",
            "grid_template_areas": null,
            "object_position": null,
            "object_fit": null,
            "grid_auto_columns": null,
            "margin": null,
            "display": null,
            "left": null
          }
        }
      }
    },
    "accelerator": "GPU"
  },
  "cells": [
    {
      "cell_type": "markdown",
      "metadata": {
        "id": "view-in-github",
        "colab_type": "text"
      },
      "source": [
        "<a href=\"https://colab.research.google.com/github/kazimianec/TARIC/blob/master/Training_TRCtransformersSBERT.ipynb\" target=\"_parent\"><img src=\"https://colab.research.google.com/assets/colab-badge.svg\" alt=\"Open In Colab\"/></a>"
      ]
    },
    {
      "cell_type": "code",
      "metadata": {
        "id": "2Wqp3ygUmMHm"
      },
      "source": [
        "import torch\r\n"
      ],
      "execution_count": 1,
      "outputs": []
    },
    {
      "cell_type": "code",
      "metadata": {
        "id": "31bjoeeFzmID"
      },
      "source": [
        "import numpy as np\r\n",
        "import pandas as pd\r\n",
        "import os"
      ],
      "execution_count": 2,
      "outputs": []
    },
    {
      "cell_type": "code",
      "metadata": {
        "id": "FnIfWAsWm0ih",
        "colab": {
          "base_uri": "https://localhost:8080/"
        },
        "outputId": "de4b1b5c-f076-4bfa-ac83-b975f149caee"
      },
      "source": [
        "print(torch.cuda.device_count())"
      ],
      "execution_count": 3,
      "outputs": [
        {
          "output_type": "stream",
          "text": [
            "1\n"
          ],
          "name": "stdout"
        }
      ]
    },
    {
      "cell_type": "code",
      "metadata": {
        "id": "ohMfpE86NGaA"
      },
      "source": [
        "url_TARIC_C2_descrptions = \"https://raw.githubusercontent.com/kazimianec/TARIC/master/DATA/TARIC_C2_descriptions.csv\"\r\n",
        "url_TARIC_C4_descrptions =\"https://raw.githubusercontent.com/kazimianec/TARIC/master/DATA/TARIC_C4_descriptions.csv\"\r\n",
        "url_TARIC_C6_descrptions =\"https://raw.githubusercontent.com/kazimianec/TARIC/master/DATA/TARIC_C6_descriptions.csv\"\r\n",
        "url_TARIC_C246_descrptions = \"https://raw.githubusercontent.com/kazimianec/TARIC/master/DATA/TARIC_C246_descriptions_CONCAT.csv\"\r\n"
      ],
      "execution_count": 4,
      "outputs": []
    },
    {
      "cell_type": "code",
      "metadata": {
        "id": "JhqP_RJ9_7wT"
      },
      "source": [
        "import pandas as pd \r\n",
        "import io \r\n",
        "  \r\n",
        "df_C2_descriptions = pd.read_csv(url_TARIC_C2_descrptions) \r\n",
        "df_C4_descriptions = pd.read_csv(url_TARIC_C4_descrptions)\r\n",
        "df_C6_descriptions = pd.read_csv(url_TARIC_C6_descrptions)\r\n",
        "df_C246_descriptions = pd.read_csv(url_TARIC_C246_descrptions)"
      ],
      "execution_count": 5,
      "outputs": []
    },
    {
      "cell_type": "code",
      "metadata": {
        "colab": {
          "base_uri": "https://localhost:8080/"
        },
        "id": "pbs9ZsjKhB-L",
        "outputId": "7c3cddba-5fc9-44cd-8ace-55367caa7ef6"
      },
      "source": [
        "for col in df_C246_descriptions.columns: \r\n",
        "    print(col)"
      ],
      "execution_count": 6,
      "outputs": [
        {
          "output_type": "stream",
          "text": [
            "CODE_2\n",
            "CODE_4\n",
            "CODE_6\n",
            "goods_CODE_6\n",
            "Description_46\n",
            "Description_246\n",
            "Description_46_concat\n",
            "Description_246_concat\n"
          ],
          "name": "stdout"
        }
      ]
    },
    {
      "cell_type": "code",
      "metadata": {
        "id": "zWRhD_7I_73_"
      },
      "source": [
        "#sentences = df['CLASS_Description'].tolist()\r\n",
        "\r\n",
        "sentences_C2 = df_C2_descriptions['Description_2'].tolist()\r\n",
        "sentences_C4 = df_C4_descriptions['Description_4'].tolist()\r\n",
        "sentences_C6 = df_C6_descriptions['Description_6'].tolist()\r\n",
        "\r\n",
        "sentences_C246 = df_C246_descriptions['Description_246'].tolist()\r\n",
        "sentences_C46 = df_C246_descriptions['Description_46'].tolist()\r\n",
        "\r\n",
        "sentences_C246_concat = df_C246_descriptions['Description_246_concat'].tolist()\r\n",
        "sentences_C46_concat = df_C246_descriptions['Description_46_concat'].tolist()\r\n",
        "\r\n",
        "sentences = sentences_C2\r\n"
      ],
      "execution_count": 22,
      "outputs": []
    },
    {
      "cell_type": "markdown",
      "metadata": {
        "id": "DqqFxU_IXdjT"
      },
      "source": [
        "**GENERATE**"
      ]
    },
    {
      "cell_type": "code",
      "metadata": {
        "id": "pDtUqoGuYdJq",
        "colab": {
          "base_uri": "https://localhost:8080/"
        },
        "outputId": "2f6616ba-948d-473d-d734-b142ecdd50c6"
      },
      "source": [
        "!pip install transformers"
      ],
      "execution_count": 23,
      "outputs": [
        {
          "output_type": "stream",
          "text": [
            "Requirement already satisfied: transformers in /usr/local/lib/python3.6/dist-packages (4.2.2)\n",
            "Requirement already satisfied: tokenizers==0.9.4 in /usr/local/lib/python3.6/dist-packages (from transformers) (0.9.4)\n",
            "Requirement already satisfied: filelock in /usr/local/lib/python3.6/dist-packages (from transformers) (3.0.12)\n",
            "Requirement already satisfied: requests in /usr/local/lib/python3.6/dist-packages (from transformers) (2.23.0)\n",
            "Requirement already satisfied: regex!=2019.12.17 in /usr/local/lib/python3.6/dist-packages (from transformers) (2019.12.20)\n",
            "Requirement already satisfied: packaging in /usr/local/lib/python3.6/dist-packages (from transformers) (20.9)\n",
            "Requirement already satisfied: dataclasses; python_version < \"3.7\" in /usr/local/lib/python3.6/dist-packages (from transformers) (0.8)\n",
            "Requirement already satisfied: importlib-metadata; python_version < \"3.8\" in /usr/local/lib/python3.6/dist-packages (from transformers) (3.4.0)\n",
            "Requirement already satisfied: sacremoses in /usr/local/lib/python3.6/dist-packages (from transformers) (0.0.43)\n",
            "Requirement already satisfied: tqdm>=4.27 in /usr/local/lib/python3.6/dist-packages (from transformers) (4.41.1)\n",
            "Requirement already satisfied: numpy in /usr/local/lib/python3.6/dist-packages (from transformers) (1.19.5)\n",
            "Requirement already satisfied: urllib3!=1.25.0,!=1.25.1,<1.26,>=1.21.1 in /usr/local/lib/python3.6/dist-packages (from requests->transformers) (1.24.3)\n",
            "Requirement already satisfied: chardet<4,>=3.0.2 in /usr/local/lib/python3.6/dist-packages (from requests->transformers) (3.0.4)\n",
            "Requirement already satisfied: certifi>=2017.4.17 in /usr/local/lib/python3.6/dist-packages (from requests->transformers) (2020.12.5)\n",
            "Requirement already satisfied: idna<3,>=2.5 in /usr/local/lib/python3.6/dist-packages (from requests->transformers) (2.10)\n",
            "Requirement already satisfied: pyparsing>=2.0.2 in /usr/local/lib/python3.6/dist-packages (from packaging->transformers) (2.4.7)\n",
            "Requirement already satisfied: typing-extensions>=3.6.4; python_version < \"3.8\" in /usr/local/lib/python3.6/dist-packages (from importlib-metadata; python_version < \"3.8\"->transformers) (3.7.4.3)\n",
            "Requirement already satisfied: zipp>=0.5 in /usr/local/lib/python3.6/dist-packages (from importlib-metadata; python_version < \"3.8\"->transformers) (3.4.0)\n",
            "Requirement already satisfied: joblib in /usr/local/lib/python3.6/dist-packages (from sacremoses->transformers) (1.0.0)\n",
            "Requirement already satisfied: six in /usr/local/lib/python3.6/dist-packages (from sacremoses->transformers) (1.15.0)\n",
            "Requirement already satisfied: click in /usr/local/lib/python3.6/dist-packages (from sacremoses->transformers) (7.1.2)\n"
          ],
          "name": "stdout"
        }
      ]
    },
    {
      "cell_type": "code",
      "metadata": {
        "id": "0O64EZmOXbk-",
        "outputId": "3b51eb6d-0008-47cd-98bf-72a2be933d8f",
        "colab": {
          "base_uri": "https://localhost:8080/",
          "height": 296
        }
      },
      "source": [
        "from transformers import pipeline, set_seed"
      ],
      "execution_count": 8,
      "outputs": [
        {
          "output_type": "error",
          "ename": "ModuleNotFoundError",
          "evalue": "ignored",
          "traceback": [
            "\u001b[0;31m---------------------------------------------------------------------------\u001b[0m",
            "\u001b[0;31mModuleNotFoundError\u001b[0m                       Traceback (most recent call last)",
            "\u001b[0;32m<ipython-input-8-442704d3eb32>\u001b[0m in \u001b[0;36m<module>\u001b[0;34m()\u001b[0m\n\u001b[0;32m----> 1\u001b[0;31m \u001b[0;32mfrom\u001b[0m \u001b[0mtransformers\u001b[0m \u001b[0;32mimport\u001b[0m \u001b[0mpipeline\u001b[0m\u001b[0;34m,\u001b[0m \u001b[0mset_seed\u001b[0m\u001b[0;34m\u001b[0m\u001b[0;34m\u001b[0m\u001b[0m\n\u001b[0m",
            "\u001b[0;31mModuleNotFoundError\u001b[0m: No module named 'transformers'",
            "",
            "\u001b[0;31m---------------------------------------------------------------------------\u001b[0;32m\nNOTE: If your import is failing due to a missing package, you can\nmanually install dependencies using either !pip or !apt.\n\nTo view examples of installing some common dependencies, click the\n\"Open Examples\" button below.\n\u001b[0;31m---------------------------------------------------------------------------\u001b[0m\n"
          ]
        }
      ]
    },
    {
      "cell_type": "code",
      "metadata": {
        "id": "PgoQxs6pXb0Y",
        "colab": {
          "base_uri": "https://localhost:8080/"
        },
        "outputId": "26c59fc9-75ce-4da9-f687-441bc143eca5"
      },
      "source": [
        "generator = pipeline('text-generation', model='gpt2')"
      ],
      "execution_count": null,
      "outputs": [
        {
          "output_type": "stream",
          "text": [
            "Some weights of GPT2Model were not initialized from the model checkpoint at gpt2 and are newly initialized: ['h.0.attn.masked_bias', 'h.1.attn.masked_bias', 'h.2.attn.masked_bias', 'h.3.attn.masked_bias', 'h.4.attn.masked_bias', 'h.5.attn.masked_bias', 'h.6.attn.masked_bias', 'h.7.attn.masked_bias', 'h.8.attn.masked_bias', 'h.9.attn.masked_bias', 'h.10.attn.masked_bias', 'h.11.attn.masked_bias']\n",
            "You should probably TRAIN this model on a down-stream task to be able to use it for predictions and inference.\n"
          ],
          "name": "stderr"
        }
      ]
    },
    {
      "cell_type": "code",
      "metadata": {
        "id": "RUmNsCRMXb8S",
        "colab": {
          "base_uri": "https://localhost:8080/",
          "height": 35
        },
        "outputId": "b63f2800-17d6-45f4-cbff-74e464ea8db2"
      },
      "source": [
        "sentences[1682]"
      ],
      "execution_count": null,
      "outputs": [
        {
          "output_type": "execute_result",
          "data": {
            "application/vnd.google.colaboratory.intrinsic+json": {
              "type": "string"
            },
            "text/plain": [
              "'Urea, whether or not in aqueous solution'"
            ]
          },
          "metadata": {
            "tags": []
          },
          "execution_count": 32
        }
      ]
    },
    {
      "cell_type": "code",
      "metadata": {
        "id": "3O-aYRl2X4c7",
        "colab": {
          "base_uri": "https://localhost:8080/"
        },
        "outputId": "efac39d9-1c4e-4852-8c87-a807f0f3fac5"
      },
      "source": [
        "from transformers import GPT2Tokenizer, GPT2Model\r\n",
        "tokenizer = GPT2Tokenizer.from_pretrained('gpt2')\r\n",
        "model = GPT2Model.from_pretrained('gpt2')\r\n",
        "text = sentences[1682]\r\n",
        "encoded_input = tokenizer(text, return_tensors='pt')"
      ],
      "execution_count": null,
      "outputs": [
        {
          "output_type": "stream",
          "text": [
            "Some weights of GPT2Model were not initialized from the model checkpoint at gpt2 and are newly initialized: ['h.0.attn.masked_bias', 'h.1.attn.masked_bias', 'h.2.attn.masked_bias', 'h.3.attn.masked_bias', 'h.4.attn.masked_bias', 'h.5.attn.masked_bias', 'h.6.attn.masked_bias', 'h.7.attn.masked_bias', 'h.8.attn.masked_bias', 'h.9.attn.masked_bias', 'h.10.attn.masked_bias', 'h.11.attn.masked_bias']\n",
            "You should probably TRAIN this model on a down-stream task to be able to use it for predictions and inference.\n"
          ],
          "name": "stderr"
        }
      ]
    },
    {
      "cell_type": "code",
      "metadata": {
        "id": "gxxumbDsXcCM"
      },
      "source": [
        "output = model(**encoded_input)\r\n",
        "print(output)"
      ],
      "execution_count": null,
      "outputs": []
    },
    {
      "cell_type": "code",
      "metadata": {
        "id": "U7NIOGHeZOk2",
        "colab": {
          "base_uri": "https://localhost:8080/"
        },
        "outputId": "c2a2e478-7042-4178-83bf-5d6f160d1e2c"
      },
      "source": [
        "set_seed(42)\r\n",
        "length = len(text)+1\r\n",
        "generator(\"manicure\", max_length=15 , num_return_sequences=10)"
      ],
      "execution_count": null,
      "outputs": [
        {
          "output_type": "stream",
          "text": [
            "Setting `pad_token_id` to `eos_token_id`:50256 for open-end generation.\n"
          ],
          "name": "stderr"
        },
        {
          "output_type": "execute_result",
          "data": {
            "text/plain": [
              "[{'generated_text': 'manicure has to be one of them, with the fact that the'},\n",
              " {'generated_text': 'manicure has been the case for centuries. But it comes as no'},\n",
              " {'generated_text': 'manicure in the first place.] The reason that the Roman language uses'},\n",
              " {'generated_text': 'manicure.org\\n\\nP.C@Bridgewater-'},\n",
              " {'generated_text': 'manicure. If you go out with your pants on – say,'},\n",
              " {'generated_text': 'manicure.\" In this respect, the second law of the Roman republic'},\n",
              " {'generated_text': 'manicure.com). You will also need to have a valid credit'},\n",
              " {'generated_text': 'manicure. And on September 16, 2001, the United Kingdom withdrew'},\n",
              " {'generated_text': 'manicure in the United States and the West has been a focus of'},\n",
              " {'generated_text': 'manicure.\\n\\nThe results of the new study were described in'}]"
            ]
          },
          "metadata": {
            "tags": []
          },
          "execution_count": 45
        }
      ]
    },
    {
      "cell_type": "code",
      "metadata": {
        "colab": {
          "base_uri": "https://localhost:8080/"
        },
        "id": "YD4uev3CNWDt",
        "outputId": "b770bba1-9341-4c59-e3ac-32456e6e6320"
      },
      "source": [
        "!pip install sentence_transformers"
      ],
      "execution_count": 9,
      "outputs": [
        {
          "output_type": "stream",
          "text": [
            "Collecting sentence_transformers\n",
            "\u001b[?25l  Downloading https://files.pythonhosted.org/packages/6a/e2/84d6acfcee2d83164149778a33b6bdd1a74e1bcb59b2b2cd1b861359b339/sentence-transformers-0.4.1.2.tar.gz (64kB)\n",
            "\u001b[K     |████████████████████████████████| 71kB 8.4MB/s \n",
            "\u001b[?25hCollecting transformers<5.0.0,>=3.1.0\n",
            "\u001b[?25l  Downloading https://files.pythonhosted.org/packages/88/b1/41130a228dd656a1a31ba281598a968320283f48d42782845f6ba567f00b/transformers-4.2.2-py3-none-any.whl (1.8MB)\n",
            "\u001b[K     |████████████████████████████████| 1.8MB 25.0MB/s \n",
            "\u001b[?25hRequirement already satisfied: tqdm in /usr/local/lib/python3.6/dist-packages (from sentence_transformers) (4.41.1)\n",
            "Requirement already satisfied: torch>=1.6.0 in /usr/local/lib/python3.6/dist-packages (from sentence_transformers) (1.7.0+cu101)\n",
            "Requirement already satisfied: numpy in /usr/local/lib/python3.6/dist-packages (from sentence_transformers) (1.19.5)\n",
            "Requirement already satisfied: scikit-learn in /usr/local/lib/python3.6/dist-packages (from sentence_transformers) (0.22.2.post1)\n",
            "Requirement already satisfied: scipy in /usr/local/lib/python3.6/dist-packages (from sentence_transformers) (1.4.1)\n",
            "Requirement already satisfied: nltk in /usr/local/lib/python3.6/dist-packages (from sentence_transformers) (3.2.5)\n",
            "Collecting sentencepiece\n",
            "\u001b[?25l  Downloading https://files.pythonhosted.org/packages/14/67/e42bd1181472c95c8cda79305df848264f2a7f62740995a46945d9797b67/sentencepiece-0.1.95-cp36-cp36m-manylinux2014_x86_64.whl (1.2MB)\n",
            "\u001b[K     |████████████████████████████████| 1.2MB 60.3MB/s \n",
            "\u001b[?25hRequirement already satisfied: regex!=2019.12.17 in /usr/local/lib/python3.6/dist-packages (from transformers<5.0.0,>=3.1.0->sentence_transformers) (2019.12.20)\n",
            "Requirement already satisfied: filelock in /usr/local/lib/python3.6/dist-packages (from transformers<5.0.0,>=3.1.0->sentence_transformers) (3.0.12)\n",
            "Requirement already satisfied: importlib-metadata; python_version < \"3.8\" in /usr/local/lib/python3.6/dist-packages (from transformers<5.0.0,>=3.1.0->sentence_transformers) (3.4.0)\n",
            "Collecting tokenizers==0.9.4\n",
            "\u001b[?25l  Downloading https://files.pythonhosted.org/packages/0f/1c/e789a8b12e28be5bc1ce2156cf87cb522b379be9cadc7ad8091a4cc107c4/tokenizers-0.9.4-cp36-cp36m-manylinux2010_x86_64.whl (2.9MB)\n",
            "\u001b[K     |████████████████████████████████| 2.9MB 49.3MB/s \n",
            "\u001b[?25hRequirement already satisfied: packaging in /usr/local/lib/python3.6/dist-packages (from transformers<5.0.0,>=3.1.0->sentence_transformers) (20.9)\n",
            "Requirement already satisfied: requests in /usr/local/lib/python3.6/dist-packages (from transformers<5.0.0,>=3.1.0->sentence_transformers) (2.23.0)\n",
            "Requirement already satisfied: dataclasses; python_version < \"3.7\" in /usr/local/lib/python3.6/dist-packages (from transformers<5.0.0,>=3.1.0->sentence_transformers) (0.8)\n",
            "Collecting sacremoses\n",
            "\u001b[?25l  Downloading https://files.pythonhosted.org/packages/7d/34/09d19aff26edcc8eb2a01bed8e98f13a1537005d31e95233fd48216eed10/sacremoses-0.0.43.tar.gz (883kB)\n",
            "\u001b[K     |████████████████████████████████| 890kB 56.3MB/s \n",
            "\u001b[?25hRequirement already satisfied: future in /usr/local/lib/python3.6/dist-packages (from torch>=1.6.0->sentence_transformers) (0.16.0)\n",
            "Requirement already satisfied: typing-extensions in /usr/local/lib/python3.6/dist-packages (from torch>=1.6.0->sentence_transformers) (3.7.4.3)\n",
            "Requirement already satisfied: joblib>=0.11 in /usr/local/lib/python3.6/dist-packages (from scikit-learn->sentence_transformers) (1.0.0)\n",
            "Requirement already satisfied: six in /usr/local/lib/python3.6/dist-packages (from nltk->sentence_transformers) (1.15.0)\n",
            "Requirement already satisfied: zipp>=0.5 in /usr/local/lib/python3.6/dist-packages (from importlib-metadata; python_version < \"3.8\"->transformers<5.0.0,>=3.1.0->sentence_transformers) (3.4.0)\n",
            "Requirement already satisfied: pyparsing>=2.0.2 in /usr/local/lib/python3.6/dist-packages (from packaging->transformers<5.0.0,>=3.1.0->sentence_transformers) (2.4.7)\n",
            "Requirement already satisfied: chardet<4,>=3.0.2 in /usr/local/lib/python3.6/dist-packages (from requests->transformers<5.0.0,>=3.1.0->sentence_transformers) (3.0.4)\n",
            "Requirement already satisfied: idna<3,>=2.5 in /usr/local/lib/python3.6/dist-packages (from requests->transformers<5.0.0,>=3.1.0->sentence_transformers) (2.10)\n",
            "Requirement already satisfied: urllib3!=1.25.0,!=1.25.1,<1.26,>=1.21.1 in /usr/local/lib/python3.6/dist-packages (from requests->transformers<5.0.0,>=3.1.0->sentence_transformers) (1.24.3)\n",
            "Requirement already satisfied: certifi>=2017.4.17 in /usr/local/lib/python3.6/dist-packages (from requests->transformers<5.0.0,>=3.1.0->sentence_transformers) (2020.12.5)\n",
            "Requirement already satisfied: click in /usr/local/lib/python3.6/dist-packages (from sacremoses->transformers<5.0.0,>=3.1.0->sentence_transformers) (7.1.2)\n",
            "Building wheels for collected packages: sentence-transformers, sacremoses\n",
            "  Building wheel for sentence-transformers (setup.py) ... \u001b[?25l\u001b[?25hdone\n",
            "  Created wheel for sentence-transformers: filename=sentence_transformers-0.4.1.2-cp36-none-any.whl size=103068 sha256=fe96224a33151b6cd672ca70e13aa041f1b791c7389819cef30e38e1b027cf4f\n",
            "  Stored in directory: /root/.cache/pip/wheels/3d/33/d1/5703dd56199c09d4a1b41e0c07fb4e7765a84d787cbdc48ac3\n",
            "  Building wheel for sacremoses (setup.py) ... \u001b[?25l\u001b[?25hdone\n",
            "  Created wheel for sacremoses: filename=sacremoses-0.0.43-cp36-none-any.whl size=893261 sha256=2b73398ab4975681e2a0cdefa74b5b603969be2b30e8d8ab073d62d4f3c4b8be\n",
            "  Stored in directory: /root/.cache/pip/wheels/29/3c/fd/7ce5c3f0666dab31a50123635e6fb5e19ceb42ce38d4e58f45\n",
            "Successfully built sentence-transformers sacremoses\n",
            "Installing collected packages: tokenizers, sacremoses, transformers, sentencepiece, sentence-transformers\n",
            "Successfully installed sacremoses-0.0.43 sentence-transformers-0.4.1.2 sentencepiece-0.1.95 tokenizers-0.9.4 transformers-4.2.2\n"
          ],
          "name": "stdout"
        }
      ]
    },
    {
      "cell_type": "code",
      "metadata": {
        "id": "hrtOe4jJN7Ms"
      },
      "source": [
        "from sentence_transformers import SentenceTransformer, util\r\n"
      ],
      "execution_count": 10,
      "outputs": []
    },
    {
      "cell_type": "markdown",
      "metadata": {
        "id": "tsQeoOjNT90h"
      },
      "source": [
        "**SBERT**\r\n",
        "Models can be loaded from SBERT , full list:\r\n",
        "https://docs.google.com/spreadsheets/d/14QplCdTCDwEmTqrn1LH4yrbKvdogK4oQvYO1K1aPR5M/edit#gid=0\r\n"
      ]
    },
    {
      "cell_type": "code",
      "metadata": {
        "id": "fceDy7GtTAhS",
        "outputId": "0a5c8f51-ba12-486a-a959-3bfd30f4e33a",
        "colab": {
          "base_uri": "https://localhost:8080/"
        }
      },
      "source": [
        "#model = SentenceTransformer('average_word_embeddings_glove.840B.300d')\r\n",
        "#model = SentenceTransformer('paraphrase-distilroberta-base-v1') --no\r\n",
        "#model= SentenceTransformer('msmarco-distilroberta-base-v2') --no\r\n",
        "#model = SentenceTransformer('stsb-bert-large')  ##maybe\r\n",
        "##model = SentenceTransformer('stsb-roberta-large') --no\r\n",
        "#model= SentenceTransformer('paraphrase-xlm-r-multilingual-v1')\r\n",
        "#model= SentenceTransformer('LaBSE')  # interesting\r\n",
        "#model = SentenceTransformer('quora-distilbert-multilingual') ## not ok\r\n",
        "\r\n",
        "model = SentenceTransformer('average_word_embeddings_glove.6B.300d')"
      ],
      "execution_count": 11,
      "outputs": [
        {
          "output_type": "stream",
          "text": [
            "100%|██████████| 441M/441M [00:16<00:00, 27.6MB/s]\n"
          ],
          "name": "stderr"
        }
      ]
    },
    {
      "cell_type": "code",
      "metadata": {
        "id": "BCoScJ--kCJQ"
      },
      "source": [
        "sentences = sentences_C4\r\n",
        "sentences = [element.lower() for element in sentences]\r\n",
        "\r\n",
        "#sentences[1682]+=' nail polishing makeup'\r\n",
        "#print(sentences[1682])"
      ],
      "execution_count": 41,
      "outputs": []
    },
    {
      "cell_type": "code",
      "metadata": {
        "id": "t6p8yyOnOIB0"
      },
      "source": [
        "\r\n",
        "embeddings = model.encode(sentences, convert_to_tensor=True)\r\n",
        "#embeddings_246_concat = model.encode(sentences_246_concat, convert_to_tensor=True)\r\n",
        "#embeddings_46_concat = model.encode(sentences_46_concat, convert_to_tensor=True)\r\n",
        "#embeddings_246 = model.encode(sentences_246, convert_to_tensor=True)\r\n",
        "#embeddings_46 = model.encode(sentences_46, convert_to_tensor=True)"
      ],
      "execution_count": 42,
      "outputs": []
    },
    {
      "cell_type": "code",
      "metadata": {
        "id": "vD8YLLtdDdeO",
        "colab": {
          "base_uri": "https://localhost:8080/"
        },
        "outputId": "9e975466-0380-4f8b-f708-6f34703194bb"
      },
      "source": [
        "TAROC_cosine_scores = util.pytorch_cos_sim(embeddings, embeddings)\r\n",
        "print(TAROC_cosine_scores.shape)\r\n",
        "\r\n",
        "top_k=5\r\n",
        "top_results = torch.topk(TAROC_cosine_scores, k=top_k)\r\n",
        "print(TAROC_cosine_scores.shape)\r\n",
        "print(TAROC_cosine_scores)\r\n",
        "print(top_results.values)\r\n",
        "#print(top_results.indices)\r\n",
        "#print(sentences[0])\r\n",
        "#print(sentences[40])\r\n",
        "#y = torch.ones(TAROC_cosine_scores.shape)*0.8\r\n",
        "#torch.where(TAROC_cosine_scores > y, TAROC_cosine_scores, 0)"
      ],
      "execution_count": 43,
      "outputs": [
        {
          "output_type": "stream",
          "text": [
            "torch.Size([1262, 1262])\n",
            "torch.Size([1262, 1262])\n",
            "tensor([[1.0000, 0.5776, 0.4561,  ..., 0.1574, 0.1939, 0.2108],\n",
            "        [0.5776, 1.0000, 0.6742,  ..., 0.2578, 0.2413, 0.3303],\n",
            "        [0.4561, 0.6742, 1.0000,  ..., 0.1226, 0.2232, 0.2369],\n",
            "        ...,\n",
            "        [0.1574, 0.2578, 0.1226,  ..., 1.0000, 0.5381, 0.5877],\n",
            "        [0.1939, 0.2413, 0.2232,  ..., 0.5381, 1.0000, 0.6899],\n",
            "        [0.2108, 0.3303, 0.2369,  ..., 0.5877, 0.6899, 1.0000]])\n",
            "tensor([[1.0000, 0.6877, 0.6643, 0.6494, 0.6336],\n",
            "        [1.0000, 0.8575, 0.8015, 0.7989, 0.7319],\n",
            "        [1.0000, 0.6872, 0.6742, 0.5884, 0.5870],\n",
            "        ...,\n",
            "        [1.0000, 0.6519, 0.6443, 0.6227, 0.6116],\n",
            "        [1.0000, 0.7102, 0.7095, 0.6991, 0.6967],\n",
            "        [1.0000, 0.6899, 0.6837, 0.6799, 0.6735]])\n"
          ],
          "name": "stdout"
        }
      ]
    },
    {
      "cell_type": "code",
      "metadata": {
        "id": "EfncxXQtmIOw"
      },
      "source": [
        "import numpy as np\r\n",
        "from sklearn import manifold\r\n",
        "A = np.matrix(TAROC_cosine_scores)*0.9\r\n",
        "A = 1.-A\r\n",
        "modelTSNE = manifold.TSNE(metric=\"precomputed\")\r\n",
        "Y = modelTSNE.fit_transform(A) "
      ],
      "execution_count": 30,
      "outputs": []
    },
    {
      "cell_type": "code",
      "metadata": {
        "id": "L0GrZBKjpgQK"
      },
      "source": [
        "import numpy as np\r\n",
        "from sklearn.datasets import load_digits\r\n",
        "from scipy.spatial.distance import pdist\r\n",
        "from sklearn.manifold.t_sne import _joint_probabilities\r\n",
        "from scipy import linalg\r\n",
        "from sklearn.metrics import pairwise_distances\r\n",
        "from scipy.spatial.distance import squareform\r\n",
        "from sklearn.manifold import TSNE\r\n",
        "from matplotlib import pyplot as plt\r\n",
        "import seaborn as sns\r\n",
        "sns.set(rc={'figure.figsize':(11.7,8.27)})\r\n",
        "palette = sns.color_palette(\"bright\", 10)"
      ],
      "execution_count": 31,
      "outputs": []
    },
    {
      "cell_type": "code",
      "metadata": {
        "id": "3Q5nW_iQru5M"
      },
      "source": [
        "tsne = TSNE()\r\n",
        "Y = tsne.fit_transform(TAROC_cosine_scores)"
      ],
      "execution_count": 44,
      "outputs": []
    },
    {
      "cell_type": "code",
      "metadata": {
        "id": "V35R6s20oiw8",
        "outputId": "af3c80b2-77ac-40d5-d10d-763842ad224e",
        "colab": {
          "base_uri": "https://localhost:8080/",
          "height": 570
        }
      },
      "source": [
        "sns.scatterplot(Y[:,0], Y[:,1], legend='full', palette=palette) #, hue=y, legend='full', palette=palette)"
      ],
      "execution_count": 45,
      "outputs": [
        {
          "output_type": "stream",
          "text": [
            "/usr/local/lib/python3.6/dist-packages/seaborn/_decorators.py:43: FutureWarning: Pass the following variables as keyword args: x, y. From version 0.12, the only valid positional argument will be `data`, and passing other arguments without an explicit keyword will result in an error or misinterpretation.\n",
            "  FutureWarning\n"
          ],
          "name": "stderr"
        },
        {
          "output_type": "execute_result",
          "data": {
            "text/plain": [
              "<matplotlib.axes._subplots.AxesSubplot at 0x7f8007dd0e48>"
            ]
          },
          "metadata": {
            "tags": []
          },
          "execution_count": 45
        },
        {
          "output_type": "display_data",
          "data": {
            "image/png": "[encoded data removed]",
            "text/plain": [
              "<Figure size 842.4x595.44 with 1 Axes>"
            ]
          },
          "metadata": {
            "tags": []
          }
        }
      ]
    },
    {
      "cell_type": "code",
      "metadata": {
        "id": "9_5Iv_XxOiBd"
      },
      "source": [
        "description = [\"Vyriškos kelnės\"]\r\n",
        "\r\n",
        "description = [\"Мужские джинсы\"]\r\n",
        "description = [\"Beef fillet\"]\r\n",
        "\r\n",
        "description = [\"Jautienos filė\"]\r\n",
        "\r\n",
        "description = [\"Лак для маникюра\"]\r\n",
        "\r\n",
        "description = [\"Nail polish\"]\r\n",
        "\r\n",
        "description = [\"Кресла офисные\"]\r\n",
        "\r\n",
        "description = [\"Astro Pneumatic 1716 Deluxe Air Blow Gun with 20-Inch Long Angled Nozzle and 1/2-Inch Removable Rubber Tip\"]\r\n",
        "\r\n",
        "description = [\"Astro Pneumatic 1716 Deluxe Air Blow Gun with 20-Inch Long Angled Nozzle and 1/2-Inch Removable Rubber Tip\"]\r\n",
        "description = [\"I Love Makeup - Nail Polish\"]\r\n",
        "description = [\"Astro Pneumatic 1716 Deluxe Air Blow Gun with 20-Inch Long Angled Nozzle and 1/2-Inch Removable Rubber Tip\"]\r\n",
        "\r\n",
        "\r\n",
        "\r\n",
        "description = [\"папиросы\"]\r\n",
        "description = [\"I Love Makeup  - Nail Polish\"]\r\n",
        "description = [\"Astro Pneumatic 1716 Deluxe Air Blow Gun with 20-Inch Long Angled Nozzle and 1/2-Inch Removable Rubber Tip\"]\r\n",
        "description = [\"Beef fillet\"]\r\n",
        "description = [\"Гoвядина филе морож\"]\r\n",
        "description = [\"Мужские джинсы\"]\r\n",
        "description = [\"Фанера\"]\r\n",
        "description = [\"Astro Pneumatic 1716 Deluxe Air Blow Gun with 20-Inch Long Angled Nozzle and 1/2-Inch Removable Rubber Tip\"]\r\n",
        "description = [\"Vineer on kihiline materjal, mis valmistatakse õhukeste puitlehtede – spoonide – kokkuliimimise teel.\"] \r\n",
        "description = [\"офисные стулья деревянные дубовые\"] \r\n",
        "description = [\"Astro Pneumatic 1716 Deluxe Air Blow Gun with 20-Inch Long Angled Nozzle and 1/2-Inch Removable Rubber Tip\"]\r\n",
        "description = [\"Fosmon Apple iPhone 4 / iPhone 4G USB Sync Charge Data Cable with USB Auto Car Charger and USB Home Travel Charger\"] #SUPER matches S3\r\n",
        "description = [\"Astro Pneumatic 1716 Deluxe Air Blow Gun with 20-Inch Long Angled Nozzle and 1/2-Inch Removable Rubber Tip\"] # not\r\n",
        "description = [\"HTC HD7 Crowned Heart Phone Protector Cover Case\"] ## bullshit is both cases - bert and S3\r\n",
        "description = [\"Jolly Jumper Pashmama Nursing Cover - Tan\"]\r\n",
        "description = [\"HTC HD7 Crowned Heart Phone Protector Cover Case\"]\r\n",
        "description = [\"Astro Pneumatic 1716 Deluxe Air Blow Gun with 20-Inch Long Angled Nozzle and 1/2-Inch Removable Rubber Tip\"]\r\n",
        "description = [\"I Love Makeup  - Nail Polish\"]\r\n",
        "description = [\"Astro Pneumatic 1716 Deluxe Air Blow Gun with 20-Inch Long Angled Nozzle and 1/2-Inch Removable Rubber Tip\"]\r\n",
        "description = [\"HTC HD7 Crowned Heart Phone Protector Cover Case\"]\r\n",
        "\r\n",
        "\r\n",
        "description = [\"Astro Pneumatic 1716 Deluxe Air Blow Gun with 20-Inch Long Angled Nozzle and 1/2-Inch Removable Rubber Tip\"]\r\n",
        "description = [\"Beef fillet\"]\r\n",
        "description = [\"Astro Pneumatic 1716 Deluxe Air Blow Gun with 20-Inch Long Angled Nozzle and 1/2-Inch Removable Rubber Tip\"]\r\n",
        "description = [\"Phone Protector Cover Case\"]\r\n",
        "description = [\"I Love Makeup  - Nail Polish\"]\r\n",
        "description = [\"Я люблю макияж - полировка для ногтей\"]\r\n",
        "description = [\"Аš myliu makijažą - nagų poliravimas \"]\r\n",
        "description = [\"Amo el maquillaje - Esmalte de uñas\"]\r\n",
        "\r\n",
        "#\r\n",
        "description = [\"TWS Bluetooth 5.0 Earphones 2200mAh Charging Box Wireless Headphone 9D Stereo Sports Waterproof Earbuds Headsets With Microphone\"]\r\n",
        "#https://www.aliexpress.com/item/4000539506338.html?spm=a2g01.12617084.fdpcl001.1.7fb7Er8hEr8hk8&gps-id=5547572&scm=1007.19201.130907.0&scm_id=1007.19201.130907.0&scm-url=1007.19201.130907.0&pvid=5b859c98-45fa-401b-93f9-b5b29f926246\r\n",
        "#\r\n",
        "\r\n",
        "#\r\n",
        "description = [\"FINETOO V Waist Cotton Panties Women M-4XL Underpants Female Underwear Sexy Low-Rise Girl Briefs Comfort Panties Ladies Lingerie\"]\r\n",
        "#https://www.aliexpress.com/item/4001256055038.html?spm=a2g01.12617084.fdpcl001.7.7fb7Er8hEr8hk8&gps-id=5547572&scm=1007.19201.130907.0&scm_id=1007.19201.130907.0&scm-url=1007.19201.130907.0&pvid=5b859c98-45fa-401b-93f9-b5b29f926246\r\n",
        "#\r\n",
        "\r\n",
        "embeddings_description = model.encode(description, convert_to_tensor=True )"
      ],
      "execution_count": null,
      "outputs": []
    },
    {
      "cell_type": "code",
      "metadata": {
        "colab": {
          "base_uri": "https://localhost:8080/"
        },
        "id": "Hld1Nn7kO2Gw",
        "outputId": "8710c5a0-645d-4e1e-b93a-7b7e31241d9c"
      },
      "source": [
        "cosine_scores = util.pytorch_cos_sim(embeddings, embeddings_description)\r\n",
        "cosine_scores.shape\r\n",
        "values,indices = torch.transpose(cosine_scores,0,1).topk(10)\r\n",
        "print(values, indices)\r\n",
        "indices.numpy()[0][0]\r\n",
        "\r\n",
        "print(values.numpy()[0][0], sentences[indices.numpy()[0][0]])\r\n",
        "print(values.numpy()[0][1], sentences[indices.numpy()[0][1]])\r\n",
        "print(values.numpy()[0][2], sentences[indices.numpy()[0][2]])\r\n",
        "print(values.numpy()[0][3], sentences[indices.numpy()[0][3]])\r\n",
        "print(values.numpy()[0][4], sentences[indices.numpy()[0][4]])\r\n",
        "\r\n",
        "#print(sentences[1682])\r\n",
        "\r\n",
        "\r\n"
      ],
      "execution_count": null,
      "outputs": [
        {
          "output_type": "stream",
          "text": [
            "tensor([[0.3965, 0.3398, 0.3275, 0.3223, 0.3215, 0.3145, 0.3051, 0.2964, 0.2932,\n",
            "         0.2899]]) tensor([[841, 785, 839, 787, 783, 794, 840, 838, 782, 843]])\n",
            "0.3964877 women's or girls' blouses, shirts and shirt-blouses\n",
            "0.3397647 women's or girls' blouses, shirts and shirt-blouses, knitted or crocheted\n",
            "0.32752764 women's or girls' suits, ensembles, jackets, blazers, dresses, skirts, divided skirts, trousers, bib and brace overalls, breeches and shorts (other than swimwear)\n",
            "0.3222776 women's or girls' slips, petticoats, briefs, panties, nightdresses, pyjamas, négligés, bathrobes, dressing gowns and similar articles, knitted or crocheted\n",
            "0.32152882 women's or girls' suits, ensembles, jackets, blazers, dresses, skirts, divided skirts, trousers, bib and brace overalls, breeches and shorts (other than swimwear), knitted or crocheted\n"
          ],
          "name": "stdout"
        }
      ]
    },
    {
      "cell_type": "code",
      "metadata": {
        "id": "G908HpwvUj1S",
        "colab": {
          "base_uri": "https://localhost:8080/",
          "height": 343
        },
        "outputId": "3194408c-9ca2-4e23-90ab-7c6b72c3b3f2"
      },
      "source": [
        "#df_C246_descriptions.iloc[indices.numpy()[0],:]\r\n",
        "df_C4_descriptions.iloc[indices.numpy()[0],:]"
      ],
      "execution_count": null,
      "outputs": [
        {
          "output_type": "execute_result",
          "data": {
            "text/html": [
              "<div>\n",
              "<style scoped>\n",
              "    .dataframe tbody tr th:only-of-type {\n",
              "        vertical-align: middle;\n",
              "    }\n",
              "\n",
              "    .dataframe tbody tr th {\n",
              "        vertical-align: top;\n",
              "    }\n",
              "\n",
              "    .dataframe thead th {\n",
              "        text-align: right;\n",
              "    }\n",
              "</style>\n",
              "<table border=\"1\" class=\"dataframe\">\n",
              "  <thead>\n",
              "    <tr style=\"text-align: right;\">\n",
              "      <th></th>\n",
              "      <th>goods_code_4</th>\n",
              "      <th>Description_4</th>\n",
              "      <th>indent</th>\n",
              "      <th>CODE_2</th>\n",
              "      <th>CODE_4</th>\n",
              "      <th>CODE_6</th>\n",
              "      <th>CODE_8</th>\n",
              "      <th>CODE_10</th>\n",
              "      <th>CODE_14</th>\n",
              "    </tr>\n",
              "  </thead>\n",
              "  <tbody>\n",
              "    <tr>\n",
              "      <th>841</th>\n",
              "      <td>6206000000 80</td>\n",
              "      <td>Women's or girls' blouses, shirts and shirt-bl...</td>\n",
              "      <td>NaN</td>\n",
              "      <td>62</td>\n",
              "      <td>6</td>\n",
              "      <td>0</td>\n",
              "      <td>0</td>\n",
              "      <td>0</td>\n",
              "      <td>80</td>\n",
              "    </tr>\n",
              "    <tr>\n",
              "      <th>785</th>\n",
              "      <td>6106000000 80</td>\n",
              "      <td>Women's or girls' blouses, shirts and shirt-bl...</td>\n",
              "      <td>NaN</td>\n",
              "      <td>61</td>\n",
              "      <td>6</td>\n",
              "      <td>0</td>\n",
              "      <td>0</td>\n",
              "      <td>0</td>\n",
              "      <td>80</td>\n",
              "    </tr>\n",
              "    <tr>\n",
              "      <th>839</th>\n",
              "      <td>6204000000 80</td>\n",
              "      <td>Women's or girls' suits, ensembles, jackets, b...</td>\n",
              "      <td>NaN</td>\n",
              "      <td>62</td>\n",
              "      <td>4</td>\n",
              "      <td>0</td>\n",
              "      <td>0</td>\n",
              "      <td>0</td>\n",
              "      <td>80</td>\n",
              "    </tr>\n",
              "    <tr>\n",
              "      <th>787</th>\n",
              "      <td>6108000000 80</td>\n",
              "      <td>Women's or girls' slips, petticoats, briefs, p...</td>\n",
              "      <td>NaN</td>\n",
              "      <td>61</td>\n",
              "      <td>8</td>\n",
              "      <td>0</td>\n",
              "      <td>0</td>\n",
              "      <td>0</td>\n",
              "      <td>80</td>\n",
              "    </tr>\n",
              "    <tr>\n",
              "      <th>783</th>\n",
              "      <td>6104000000 80</td>\n",
              "      <td>Women's or girls' suits, ensembles, jackets, b...</td>\n",
              "      <td>NaN</td>\n",
              "      <td>61</td>\n",
              "      <td>4</td>\n",
              "      <td>0</td>\n",
              "      <td>0</td>\n",
              "      <td>0</td>\n",
              "      <td>80</td>\n",
              "    </tr>\n",
              "    <tr>\n",
              "      <th>794</th>\n",
              "      <td>6115000000 80</td>\n",
              "      <td>Pantyhose, tights, stockings, socks and other ...</td>\n",
              "      <td>NaN</td>\n",
              "      <td>61</td>\n",
              "      <td>15</td>\n",
              "      <td>0</td>\n",
              "      <td>0</td>\n",
              "      <td>0</td>\n",
              "      <td>80</td>\n",
              "    </tr>\n",
              "    <tr>\n",
              "      <th>840</th>\n",
              "      <td>6205000000 80</td>\n",
              "      <td>Men's or boys' shirts</td>\n",
              "      <td>NaN</td>\n",
              "      <td>62</td>\n",
              "      <td>5</td>\n",
              "      <td>0</td>\n",
              "      <td>0</td>\n",
              "      <td>0</td>\n",
              "      <td>80</td>\n",
              "    </tr>\n",
              "    <tr>\n",
              "      <th>838</th>\n",
              "      <td>6203000000 80</td>\n",
              "      <td>Men's or boys' suits, ensembles, jackets, blaz...</td>\n",
              "      <td>NaN</td>\n",
              "      <td>62</td>\n",
              "      <td>3</td>\n",
              "      <td>0</td>\n",
              "      <td>0</td>\n",
              "      <td>0</td>\n",
              "      <td>80</td>\n",
              "    </tr>\n",
              "    <tr>\n",
              "      <th>782</th>\n",
              "      <td>6103000000 80</td>\n",
              "      <td>Men's or boys' suits, ensembles, jackets, blaz...</td>\n",
              "      <td>NaN</td>\n",
              "      <td>61</td>\n",
              "      <td>3</td>\n",
              "      <td>0</td>\n",
              "      <td>0</td>\n",
              "      <td>0</td>\n",
              "      <td>80</td>\n",
              "    </tr>\n",
              "    <tr>\n",
              "      <th>843</th>\n",
              "      <td>6208000000 80</td>\n",
              "      <td>Women's or girls' singlets and other vests, sl...</td>\n",
              "      <td>NaN</td>\n",
              "      <td>62</td>\n",
              "      <td>8</td>\n",
              "      <td>0</td>\n",
              "      <td>0</td>\n",
              "      <td>0</td>\n",
              "      <td>80</td>\n",
              "    </tr>\n",
              "  </tbody>\n",
              "</table>\n",
              "</div>"
            ],
            "text/plain": [
              "      goods_code_4  ... CODE_14\n",
              "841  6206000000 80  ...      80\n",
              "785  6106000000 80  ...      80\n",
              "839  6204000000 80  ...      80\n",
              "787  6108000000 80  ...      80\n",
              "783  6104000000 80  ...      80\n",
              "794  6115000000 80  ...      80\n",
              "840  6205000000 80  ...      80\n",
              "838  6203000000 80  ...      80\n",
              "782  6103000000 80  ...      80\n",
              "843  6208000000 80  ...      80\n",
              "\n",
              "[10 rows x 9 columns]"
            ]
          },
          "metadata": {
            "tags": []
          },
          "execution_count": 48
        }
      ]
    },
    {
      "cell_type": "code",
      "metadata": {
        "colab": {
          "base_uri": "https://localhost:8080/"
        },
        "id": "1kSH8qxAY-Rt",
        "outputId": "cfaa4a79-d815-41d9-fa3d-cf3468f4296b"
      },
      "source": [
        "cosine_neighbours = util.pytorch_cos_sim(embeddings[indices.numpy()[0][0]], embeddings[indices.numpy()[0][9]])\r\n",
        "print(cosine_neighbours)"
      ],
      "execution_count": null,
      "outputs": [
        {
          "output_type": "stream",
          "text": [
            "tensor([[0.7505]])\n"
          ],
          "name": "stdout"
        }
      ]
    },
    {
      "cell_type": "markdown",
      "metadata": {
        "id": "C55VEYqOoQXw"
      },
      "source": [
        "**TRAINING**"
      ]
    },
    {
      "cell_type": "code",
      "metadata": {
        "colab": {
          "base_uri": "https://localhost:8080/",
          "height": 114,
          "referenced_widgets": [
            "f1fb04d3d4bb423aa5ad621a45dc80e1",
            "5eabfe5f3b5241e0b3f08aa9c3a185e4",
            "65bf9b3c74314f909da24f89ad67fef9",
            "657d8f660fb34cdd9c834540797c3c48",
            "696006353f834c29acc1bb2f881c99d7",
            "1a2bb301ee8f4b4f8463d81bea04532a",
            "58c673febd52418dbc035165c1ea6944",
            "e8c9fef104d04534a51054d4cbfd6bf1",
            "4aecb698eb704e578a041eb40aa7e2ca",
            "0ec0be28f98046c78010ab62be6001a8",
            "fa96ceb7ebed48c398c24fd1631a0f9b",
            "0feef150471f4223968c7bda3c463c8f",
            "d3770452f99549c1b02f22afe1432c5e",
            "0b419c8d07b94135bc581cfa6ea85fb6",
            "e713247a1e4242e19409e64c0fbe0c33",
            "0a5cce5bb2094f9abbb92bacdc9ef76e"
          ]
        },
        "id": "tP5O_-HqVpfo",
        "outputId": "b3720637-4007-441d-8286-5142780810a6"
      },
      "source": [
        "from sentence_transformers import SentenceTransformer, InputExample, losses\r\n",
        "from torch.utils.data import DataLoader\r\n",
        "\r\n",
        "#Define the model. Either from scratch of by loading a pre-trained model\r\n",
        "t_model = model\r\n",
        "\r\n",
        "#Define your train examples. You need more than just two examples...\r\n",
        "#train_examples = [\r\n",
        "#                  InputExample(texts=['Nail polish makeup', 'manicure or pedicure preparations'], label=1.),\r\n",
        "#                  InputExample(texts=['Nail polish makeup', 'essential oils and resinoids; perfumery, cosmetic or toilet preparations'], label=1.),\r\n",
        "#                  InputExample(texts=['Nail polish makeup', 'soap, organic surface-active agents, washing preparations, lubricating preparations, artificial waxes, prepared waxes, polishing or scouring preparations, candles and similar articles, modelling pastes'], label=0.)]\r\n",
        "\r\n",
        "train_examples = [\r\n",
        "                  InputExample(texts=['Nail polish makeup', 'manicure or pedicure preparations'], label=1.),\r\n",
        "                  #InputExample(texts=['Nail polish makeup', 'essential oils and resinoids; perfumery, cosmetic or toilet preparations'], label=1.),\r\n",
        "                  InputExample(texts=['Nail polish makeup', 'waxes'], label=0.),\r\n",
        "                  InputExample(texts=['Nail polish makeup', 'lips'], label=0.),\r\n",
        "                  InputExample(texts=['Nail polish makeup', 'eye'], label=0.)]\r\n",
        "\r\n",
        "\r\n",
        "\r\n",
        "#Define your train dataset, the dataloader and the train loss\r\n",
        "train_dataloader = DataLoader(train_examples, shuffle=True, batch_size=1)\r\n",
        "train_loss = losses.CosineSimilarityLoss(model)\r\n",
        "\r\n",
        "#Tune the model\r\n",
        "t_model.fit(train_objectives=[(train_dataloader, train_loss)], epochs=1, warmup_steps=100)"
      ],
      "execution_count": null,
      "outputs": [
        {
          "output_type": "display_data",
          "data": {
            "application/vnd.jupyter.widget-view+json": {
              "model_id": "f1fb04d3d4bb423aa5ad621a45dc80e1",
              "version_minor": 0,
              "version_major": 2
            },
            "text/plain": [
              "HBox(children=(FloatProgress(value=0.0, description='Epoch', max=1.0, style=ProgressStyle(description_width='i…"
            ]
          },
          "metadata": {
            "tags": []
          }
        },
        {
          "output_type": "display_data",
          "data": {
            "application/vnd.jupyter.widget-view+json": {
              "model_id": "4aecb698eb704e578a041eb40aa7e2ca",
              "version_minor": 0,
              "version_major": 2
            },
            "text/plain": [
              "HBox(children=(FloatProgress(value=0.0, description='Iteration', max=4.0, style=ProgressStyle(description_widt…"
            ]
          },
          "metadata": {
            "tags": []
          }
        },
        {
          "output_type": "stream",
          "text": [
            "\n",
            "\n"
          ],
          "name": "stdout"
        }
      ]
    },
    {
      "cell_type": "code",
      "metadata": {
        "id": "YwlvPjOTY23N"
      },
      "source": [
        "t_embeddings = t_model.encode(sentences, convert_to_tensor=True)"
      ],
      "execution_count": null,
      "outputs": []
    },
    {
      "cell_type": "code",
      "metadata": {
        "colab": {
          "base_uri": "https://localhost:8080/"
        },
        "id": "mC2BcWA4ZJUm",
        "outputId": "9f737c94-ea1d-4e14-81fc-c0bb0d31ec3f"
      },
      "source": [
        "t_embeddings_description = t_model.encode(description, convert_to_tensor=True )\r\n",
        "\r\n",
        "cosine_scores = util.pytorch_cos_sim(t_embeddings, t_embeddings_description)\r\n",
        "cosine_scores.shape\r\n",
        "values,indices = torch.transpose(cosine_scores,0,1).topk(10)\r\n",
        "print(values, indices)\r\n",
        "indices.numpy()[0][0]\r\n",
        "\r\n",
        "print(values.numpy()[0][0], sentences[indices.numpy()[0][0]])\r\n",
        "print(values.numpy()[0][1], sentences[indices.numpy()[0][1]])\r\n",
        "print(values.numpy()[0][2], sentences[indices.numpy()[0][2]])\r\n",
        "print(values.numpy()[0][3], sentences[indices.numpy()[0][3]])\r\n",
        "print(values.numpy()[0][4], sentences[indices.numpy()[0][4]])\r\n",
        "\r\n"
      ],
      "execution_count": null,
      "outputs": [
        {
          "output_type": "stream",
          "text": [
            "tensor([[0.5126, 0.5063, 0.4814, 0.4687, 0.4474, 0.4382, 0.4359, 0.4089, 0.4089,\n",
            "         0.4089]]) tensor([[1713, 1680, 1712, 1681, 1682, 1684, 1707, 1699, 1701, 1700]])\n",
            "0.51262975 soap, organic surface-active agents, washing preparations, lubricating preparations, artificial waxes, prepared waxes, polishing or scouring preparations, candles and similar articles, modelling pastes, 'dental waxes' and dental preparations with a basis of plaster; artificial waxes and prepared waxes; other \n",
            "0.5063278 essential oils and resinoids; perfumery, cosmetic or toilet preparations; beauty or make-up preparations and preparations for the care of the skin (other than medicaments), including sunscreen or suntan preparations; manicure or pedicure preparations; lip make-up preparations \n",
            "0.48139337 soap, organic surface-active agents, washing preparations, lubricating preparations, artificial waxes, prepared waxes, polishing or scouring preparations, candles and similar articles, modelling pastes, 'dental waxes' and dental preparations with a basis of plaster; artificial waxes and prepared waxes; of poly(oxyethylene) (polyethylene glycol) \n",
            "0.4686848 essential oils and resinoids; perfumery, cosmetic or toilet preparations; beauty or make-up preparations and preparations for the care of the skin (other than medicaments), including sunscreen or suntan preparations; manicure or pedicure preparations; eye make-up preparations \n",
            "0.44741055 essential oils and resinoids; perfumery, cosmetic or toilet preparations; beauty or make-up preparations and preparations for the care of the skin (other than medicaments), including sunscreen or suntan preparations; manicure or pedicure preparations; manicure or pedicure preparations \n"
          ],
          "name": "stdout"
        }
      ]
    },
    {
      "cell_type": "markdown",
      "metadata": {
        "id": "-m1iTY6yaSF8"
      },
      "source": [
        ""
      ]
    }
  ]
}