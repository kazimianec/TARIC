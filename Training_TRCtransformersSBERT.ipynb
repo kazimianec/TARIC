{
  "nbformat": 4,
  "nbformat_minor": 0,
  "metadata": {
    "colab": {
      "name": "Training TRCtransformersSBERT.ipynb",
      "provenance": [],
      "collapsed_sections": [],
      "authorship_tag": "ABX9TyMb/JadMxgq7b7fhLOZdt0s",
      "include_colab_link": true
    },
    "kernelspec": {
      "display_name": "Python 3",
      "name": "python3"
    },
    "widgets": {
      "application/vnd.jupyter.widget-state+json": {
        "f1fb04d3d4bb423aa5ad621a45dc80e1": {
          "model_module": "@jupyter-widgets/controls",
          "model_name": "HBoxModel",
          "state": {
            "_view_name": "HBoxView",
            "_dom_classes": [],
            "_model_name": "HBoxModel",
            "_view_module": "@jupyter-widgets/controls",
            "_model_module_version": "1.5.0",
            "_view_count": null,
            "_view_module_version": "1.5.0",
            "box_style": "",
            "layout": "IPY_MODEL_5eabfe5f3b5241e0b3f08aa9c3a185e4",
            "_model_module": "@jupyter-widgets/controls",
            "children": [
              "IPY_MODEL_65bf9b3c74314f909da24f89ad67fef9",
              "IPY_MODEL_657d8f660fb34cdd9c834540797c3c48"
            ]
          }
        },
        "5eabfe5f3b5241e0b3f08aa9c3a185e4": {
          "model_module": "@jupyter-widgets/base",
          "model_name": "LayoutModel",
          "state": {
            "_view_name": "LayoutView",
            "grid_template_rows": null,
            "right": null,
            "justify_content": null,
            "_view_module": "@jupyter-widgets/base",
            "overflow": null,
            "_model_module_version": "1.2.0",
            "_view_count": null,
            "flex_flow": null,
            "width": null,
            "min_width": null,
            "border": null,
            "align_items": null,
            "bottom": null,
            "_model_module": "@jupyter-widgets/base",
            "top": null,
            "grid_column": null,
            "overflow_y": null,
            "overflow_x": null,
            "grid_auto_flow": null,
            "grid_area": null,
            "grid_template_columns": null,
            "flex": null,
            "_model_name": "LayoutModel",
            "justify_items": null,
            "grid_row": null,
            "max_height": null,
            "align_content": null,
            "visibility": null,
            "align_self": null,
            "height": null,
            "min_height": null,
            "padding": null,
            "grid_auto_rows": null,
            "grid_gap": null,
            "max_width": null,
            "order": null,
            "_view_module_version": "1.2.0",
            "grid_template_areas": null,
            "object_position": null,
            "object_fit": null,
            "grid_auto_columns": null,
            "margin": null,
            "display": null,
            "left": null
          }
        },
        "65bf9b3c74314f909da24f89ad67fef9": {
          "model_module": "@jupyter-widgets/controls",
          "model_name": "FloatProgressModel",
          "state": {
            "_view_name": "ProgressView",
            "style": "IPY_MODEL_696006353f834c29acc1bb2f881c99d7",
            "_dom_classes": [],
            "description": "Epoch: 100%",
            "_model_name": "FloatProgressModel",
            "bar_style": "success",
            "max": 1,
            "_view_module": "@jupyter-widgets/controls",
            "_model_module_version": "1.5.0",
            "value": 1,
            "_view_count": null,
            "_view_module_version": "1.5.0",
            "orientation": "horizontal",
            "min": 0,
            "description_tooltip": null,
            "_model_module": "@jupyter-widgets/controls",
            "layout": "IPY_MODEL_1a2bb301ee8f4b4f8463d81bea04532a"
          }
        },
        "657d8f660fb34cdd9c834540797c3c48": {
          "model_module": "@jupyter-widgets/controls",
          "model_name": "HTMLModel",
          "state": {
            "_view_name": "HTMLView",
            "style": "IPY_MODEL_58c673febd52418dbc035165c1ea6944",
            "_dom_classes": [],
            "description": "",
            "_model_name": "HTMLModel",
            "placeholder": "​",
            "_view_module": "@jupyter-widgets/controls",
            "_model_module_version": "1.5.0",
            "value": " 1/1 [00:26&lt;00:00, 26.94s/it]",
            "_view_count": null,
            "_view_module_version": "1.5.0",
            "description_tooltip": null,
            "_model_module": "@jupyter-widgets/controls",
            "layout": "IPY_MODEL_e8c9fef104d04534a51054d4cbfd6bf1"
          }
        },
        "696006353f834c29acc1bb2f881c99d7": {
          "model_module": "@jupyter-widgets/controls",
          "model_name": "ProgressStyleModel",
          "state": {
            "_view_name": "StyleView",
            "_model_name": "ProgressStyleModel",
            "description_width": "initial",
            "_view_module": "@jupyter-widgets/base",
            "_model_module_version": "1.5.0",
            "_view_count": null,
            "_view_module_version": "1.2.0",
            "bar_color": null,
            "_model_module": "@jupyter-widgets/controls"
          }
        },
        "1a2bb301ee8f4b4f8463d81bea04532a": {
          "model_module": "@jupyter-widgets/base",
          "model_name": "LayoutModel",
          "state": {
            "_view_name": "LayoutView",
            "grid_template_rows": null,
            "right": null,
            "justify_content": null,
            "_view_module": "@jupyter-widgets/base",
            "overflow": null,
            "_model_module_version": "1.2.0",
            "_view_count": null,
            "flex_flow": null,
            "width": null,
            "min_width": null,
            "border": null,
            "align_items": null,
            "bottom": null,
            "_model_module": "@jupyter-widgets/base",
            "top": null,
            "grid_column": null,
            "overflow_y": null,
            "overflow_x": null,
            "grid_auto_flow": null,
            "grid_area": null,
            "grid_template_columns": null,
            "flex": null,
            "_model_name": "LayoutModel",
            "justify_items": null,
            "grid_row": null,
            "max_height": null,
            "align_content": null,
            "visibility": null,
            "align_self": null,
            "height": null,
            "min_height": null,
            "padding": null,
            "grid_auto_rows": null,
            "grid_gap": null,
            "max_width": null,
            "order": null,
            "_view_module_version": "1.2.0",
            "grid_template_areas": null,
            "object_position": null,
            "object_fit": null,
            "grid_auto_columns": null,
            "margin": null,
            "display": null,
            "left": null
          }
        },
        "58c673febd52418dbc035165c1ea6944": {
          "model_module": "@jupyter-widgets/controls",
          "model_name": "DescriptionStyleModel",
          "state": {
            "_view_name": "StyleView",
            "_model_name": "DescriptionStyleModel",
            "description_width": "",
            "_view_module": "@jupyter-widgets/base",
            "_model_module_version": "1.5.0",
            "_view_count": null,
            "_view_module_version": "1.2.0",
            "_model_module": "@jupyter-widgets/controls"
          }
        },
        "e8c9fef104d04534a51054d4cbfd6bf1": {
          "model_module": "@jupyter-widgets/base",
          "model_name": "LayoutModel",
          "state": {
            "_view_name": "LayoutView",
            "grid_template_rows": null,
            "right": null,
            "justify_content": null,
            "_view_module": "@jupyter-widgets/base",
            "overflow": null,
            "_model_module_version": "1.2.0",
            "_view_count": null,
            "flex_flow": null,
            "width": null,
            "min_width": null,
            "border": null,
            "align_items": null,
            "bottom": null,
            "_model_module": "@jupyter-widgets/base",
            "top": null,
            "grid_column": null,
            "overflow_y": null,
            "overflow_x": null,
            "grid_auto_flow": null,
            "grid_area": null,
            "grid_template_columns": null,
            "flex": null,
            "_model_name": "LayoutModel",
            "justify_items": null,
            "grid_row": null,
            "max_height": null,
            "align_content": null,
            "visibility": null,
            "align_self": null,
            "height": null,
            "min_height": null,
            "padding": null,
            "grid_auto_rows": null,
            "grid_gap": null,
            "max_width": null,
            "order": null,
            "_view_module_version": "1.2.0",
            "grid_template_areas": null,
            "object_position": null,
            "object_fit": null,
            "grid_auto_columns": null,
            "margin": null,
            "display": null,
            "left": null
          }
        },
        "4aecb698eb704e578a041eb40aa7e2ca": {
          "model_module": "@jupyter-widgets/controls",
          "model_name": "HBoxModel",
          "state": {
            "_view_name": "HBoxView",
            "_dom_classes": [],
            "_model_name": "HBoxModel",
            "_view_module": "@jupyter-widgets/controls",
            "_model_module_version": "1.5.0",
            "_view_count": null,
            "_view_module_version": "1.5.0",
            "box_style": "",
            "layout": "IPY_MODEL_0ec0be28f98046c78010ab62be6001a8",
            "_model_module": "@jupyter-widgets/controls",
            "children": [
              "IPY_MODEL_fa96ceb7ebed48c398c24fd1631a0f9b",
              "IPY_MODEL_0feef150471f4223968c7bda3c463c8f"
            ]
          }
        },
        "0ec0be28f98046c78010ab62be6001a8": {
          "model_module": "@jupyter-widgets/base",
          "model_name": "LayoutModel",
          "state": {
            "_view_name": "LayoutView",
            "grid_template_rows": null,
            "right": null,
            "justify_content": null,
            "_view_module": "@jupyter-widgets/base",
            "overflow": null,
            "_model_module_version": "1.2.0",
            "_view_count": null,
            "flex_flow": null,
            "width": null,
            "min_width": null,
            "border": null,
            "align_items": null,
            "bottom": null,
            "_model_module": "@jupyter-widgets/base",
            "top": null,
            "grid_column": null,
            "overflow_y": null,
            "overflow_x": null,
            "grid_auto_flow": null,
            "grid_area": null,
            "grid_template_columns": null,
            "flex": null,
            "_model_name": "LayoutModel",
            "justify_items": null,
            "grid_row": null,
            "max_height": null,
            "align_content": null,
            "visibility": null,
            "align_self": null,
            "height": null,
            "min_height": null,
            "padding": null,
            "grid_auto_rows": null,
            "grid_gap": null,
            "max_width": null,
            "order": null,
            "_view_module_version": "1.2.0",
            "grid_template_areas": null,
            "object_position": null,
            "object_fit": null,
            "grid_auto_columns": null,
            "margin": null,
            "display": null,
            "left": null
          }
        },
        "fa96ceb7ebed48c398c24fd1631a0f9b": {
          "model_module": "@jupyter-widgets/controls",
          "model_name": "FloatProgressModel",
          "state": {
            "_view_name": "ProgressView",
            "style": "IPY_MODEL_d3770452f99549c1b02f22afe1432c5e",
            "_dom_classes": [],
            "description": "Iteration: 100%",
            "_model_name": "FloatProgressModel",
            "bar_style": "success",
            "max": 4,
            "_view_module": "@jupyter-widgets/controls",
            "_model_module_version": "1.5.0",
            "value": 4,
            "_view_count": null,
            "_view_module_version": "1.5.0",
            "orientation": "horizontal",
            "min": 0,
            "description_tooltip": null,
            "_model_module": "@jupyter-widgets/controls",
            "layout": "IPY_MODEL_0b419c8d07b94135bc581cfa6ea85fb6"
          }
        },
        "0feef150471f4223968c7bda3c463c8f": {
          "model_module": "@jupyter-widgets/controls",
          "model_name": "HTMLModel",
          "state": {
            "_view_name": "HTMLView",
            "style": "IPY_MODEL_e713247a1e4242e19409e64c0fbe0c33",
            "_dom_classes": [],
            "description": "",
            "_model_name": "HTMLModel",
            "placeholder": "​",
            "_view_module": "@jupyter-widgets/controls",
            "_model_module_version": "1.5.0",
            "value": " 4/4 [00:26&lt;00:00,  6.72s/it]",
            "_view_count": null,
            "_view_module_version": "1.5.0",
            "description_tooltip": null,
            "_model_module": "@jupyter-widgets/controls",
            "layout": "IPY_MODEL_0a5cce5bb2094f9abbb92bacdc9ef76e"
          }
        },
        "d3770452f99549c1b02f22afe1432c5e": {
          "model_module": "@jupyter-widgets/controls",
          "model_name": "ProgressStyleModel",
          "state": {
            "_view_name": "StyleView",
            "_model_name": "ProgressStyleModel",
            "description_width": "initial",
            "_view_module": "@jupyter-widgets/base",
            "_model_module_version": "1.5.0",
            "_view_count": null,
            "_view_module_version": "1.2.0",
            "bar_color": null,
            "_model_module": "@jupyter-widgets/controls"
          }
        },
        "0b419c8d07b94135bc581cfa6ea85fb6": {
          "model_module": "@jupyter-widgets/base",
          "model_name": "LayoutModel",
          "state": {
            "_view_name": "LayoutView",
            "grid_template_rows": null,
            "right": null,
            "justify_content": null,
            "_view_module": "@jupyter-widgets/base",
            "overflow": null,
            "_model_module_version": "1.2.0",
            "_view_count": null,
            "flex_flow": null,
            "width": null,
            "min_width": null,
            "border": null,
            "align_items": null,
            "bottom": null,
            "_model_module": "@jupyter-widgets/base",
            "top": null,
            "grid_column": null,
            "overflow_y": null,
            "overflow_x": null,
            "grid_auto_flow": null,
            "grid_area": null,
            "grid_template_columns": null,
            "flex": null,
            "_model_name": "LayoutModel",
            "justify_items": null,
            "grid_row": null,
            "max_height": null,
            "align_content": null,
            "visibility": null,
            "align_self": null,
            "height": null,
            "min_height": null,
            "padding": null,
            "grid_auto_rows": null,
            "grid_gap": null,
            "max_width": null,
            "order": null,
            "_view_module_version": "1.2.0",
            "grid_template_areas": null,
            "object_position": null,
            "object_fit": null,
            "grid_auto_columns": null,
            "margin": null,
            "display": null,
            "left": null
          }
        },
        "e713247a1e4242e19409e64c0fbe0c33": {
          "model_module": "@jupyter-widgets/controls",
          "model_name": "DescriptionStyleModel",
          "state": {
            "_view_name": "StyleView",
            "_model_name": "DescriptionStyleModel",
            "description_width": "",
            "_view_module": "@jupyter-widgets/base",
            "_model_module_version": "1.5.0",
            "_view_count": null,
            "_view_module_version": "1.2.0",
            "_model_module": "@jupyter-widgets/controls"
          }
        },
        "0a5cce5bb2094f9abbb92bacdc9ef76e": {
          "model_module": "@jupyter-widgets/base",
          "model_name": "LayoutModel",
          "state": {
            "_view_name": "LayoutView",
            "grid_template_rows": null,
            "right": null,
            "justify_content": null,
            "_view_module": "@jupyter-widgets/base",
            "overflow": null,
            "_model_module_version": "1.2.0",
            "_view_count": null,
            "flex_flow": null,
            "width": null,
            "min_width": null,
            "border": null,
            "align_items": null,
            "bottom": null,
            "_model_module": "@jupyter-widgets/base",
            "top": null,
            "grid_column": null,
            "overflow_y": null,
            "overflow_x": null,
            "grid_auto_flow": null,
            "grid_area": null,
            "grid_template_columns": null,
            "flex": null,
            "_model_name": "LayoutModel",
            "justify_items": null,
            "grid_row": null,
            "max_height": null,
            "align_content": null,
            "visibility": null,
            "align_self": null,
            "height": null,
            "min_height": null,
            "padding": null,
            "grid_auto_rows": null,
            "grid_gap": null,
            "max_width": null,
            "order": null,
            "_view_module_version": "1.2.0",
            "grid_template_areas": null,
            "object_position": null,
            "object_fit": null,
            "grid_auto_columns": null,
            "margin": null,
            "display": null,
            "left": null
          }
        }
      }
    },
    "accelerator": "GPU"
  },
  "cells": [
    {
      "cell_type": "markdown",
      "metadata": {
        "id": "view-in-github",
        "colab_type": "text"
      },
      "source": [
        "<a href=\"https://colab.research.google.com/github/kazimianec/TARIC/blob/master/Training_TRCtransformersSBERT.ipynb\" target=\"_parent\"><img src=\"https://colab.research.google.com/assets/colab-badge.svg\" alt=\"Open In Colab\"/></a>"
      ]
    },
    {
      "cell_type": "code",
      "metadata": {
        "id": "2Wqp3ygUmMHm"
      },
      "source": [
        "import torch\r\n"
      ],
      "execution_count": 1,
      "outputs": []
    },
    {
      "cell_type": "code",
      "metadata": {
        "id": "31bjoeeFzmID"
      },
      "source": [
        "import numpy as np\r\n",
        "import pandas as pd\r\n",
        "import os"
      ],
      "execution_count": 2,
      "outputs": []
    },
    {
      "cell_type": "code",
      "metadata": {
        "id": "FnIfWAsWm0ih",
        "colab": {
          "base_uri": "https://localhost:8080/"
        },
        "outputId": "85d432dd-51c0-43df-8046-0699a3db8cba"
      },
      "source": [
        "print(torch.cuda.device_count())"
      ],
      "execution_count": 3,
      "outputs": [
        {
          "output_type": "stream",
          "text": [
            "1\n"
          ],
          "name": "stdout"
        }
      ]
    },
    {
      "cell_type": "code",
      "metadata": {
        "id": "ohMfpE86NGaA"
      },
      "source": [
        "url_TARIC_C2_descrptions = \"https://raw.githubusercontent.com/kazimianec/TARIC/master/DATA/TARIC_C2_descriptions.csv\"\r\n",
        "url_TARIC_C4_descrptions =\"https://raw.githubusercontent.com/kazimianec/TARIC/master/DATA/TARIC_C4_descriptions.csv\"\r\n",
        "url_TARIC_C6_descrptions =\"https://raw.githubusercontent.com/kazimianec/TARIC/master/DATA/TARIC_C6_descriptions.csv\"\r\n",
        "url_TARIC_C246_descrptions = \"https://raw.githubusercontent.com/kazimianec/TARIC/master/DATA/TARIC_C246_descriptions_CONCAT.csv\"\r\n"
      ],
      "execution_count": 4,
      "outputs": []
    },
    {
      "cell_type": "code",
      "metadata": {
        "id": "JhqP_RJ9_7wT"
      },
      "source": [
        "import pandas as pd \r\n",
        "import io \r\n",
        "  \r\n",
        "df_C2_descriptions = pd.read_csv(url_TARIC_C2_descrptions) \r\n",
        "df_C4_descriptions = pd.read_csv(url_TARIC_C4_descrptions)\r\n",
        "df_C6_descriptions = pd.read_csv(url_TARIC_C6_descrptions)\r\n",
        "df_C246_descriptions = pd.read_csv(url_TARIC_C246_descrptions)"
      ],
      "execution_count": 5,
      "outputs": []
    },
    {
      "cell_type": "code",
      "metadata": {
        "colab": {
          "base_uri": "https://localhost:8080/"
        },
        "id": "pbs9ZsjKhB-L",
        "outputId": "091da187-aaf8-4cc1-ccc2-34847d4ffb83"
      },
      "source": [
        "for col in df_C246_descriptions.columns: \r\n",
        "    print(col)"
      ],
      "execution_count": 6,
      "outputs": [
        {
          "output_type": "stream",
          "text": [
            "CODE_2\n",
            "CODE_4\n",
            "CODE_6\n",
            "goods_CODE_6\n",
            "Description_46\n",
            "Description_246\n",
            "Description_46_concat\n",
            "Description_246_concat\n"
          ],
          "name": "stdout"
        }
      ]
    },
    {
      "cell_type": "code",
      "metadata": {
        "id": "zWRhD_7I_73_"
      },
      "source": [
        "#sentences = df['CLASS_Description'].tolist()\r\n",
        "\r\n",
        "sentences_C2 = df_C2_descriptions['Description_2'].tolist()\r\n",
        "sentences_C4 = df_C4_descriptions['Description_4'].tolist()\r\n",
        "sentences_C6 = df_C6_descriptions['Description_6'].tolist()\r\n",
        "\r\n",
        "sentences_C246 = df_C246_descriptions['Description_246'].tolist()\r\n",
        "sentences_C46 = df_C246_descriptions['Description_46'].tolist()\r\n",
        "\r\n",
        "sentences_C246_concat = df_C246_descriptions['Description_246_concat'].tolist()\r\n",
        "sentences_C46_concat = df_C246_descriptions['Description_46_concat'].tolist()\r\n",
        "\r\n",
        "sentences = sentences_C246_concat\r\n"
      ],
      "execution_count": 7,
      "outputs": []
    },
    {
      "cell_type": "markdown",
      "metadata": {
        "id": "DqqFxU_IXdjT"
      },
      "source": [
        "**GENERATE**"
      ]
    },
    {
      "cell_type": "code",
      "metadata": {
        "id": "pDtUqoGuYdJq",
        "colab": {
          "base_uri": "https://localhost:8080/"
        },
        "outputId": "2f6616ba-948d-473d-d734-b142ecdd50c6"
      },
      "source": [
        "!pip install transformers"
      ],
      "execution_count": null,
      "outputs": [
        {
          "output_type": "stream",
          "text": [
            "Requirement already satisfied: transformers in /usr/local/lib/python3.6/dist-packages (4.2.2)\n",
            "Requirement already satisfied: tokenizers==0.9.4 in /usr/local/lib/python3.6/dist-packages (from transformers) (0.9.4)\n",
            "Requirement already satisfied: filelock in /usr/local/lib/python3.6/dist-packages (from transformers) (3.0.12)\n",
            "Requirement already satisfied: requests in /usr/local/lib/python3.6/dist-packages (from transformers) (2.23.0)\n",
            "Requirement already satisfied: regex!=2019.12.17 in /usr/local/lib/python3.6/dist-packages (from transformers) (2019.12.20)\n",
            "Requirement already satisfied: packaging in /usr/local/lib/python3.6/dist-packages (from transformers) (20.9)\n",
            "Requirement already satisfied: dataclasses; python_version < \"3.7\" in /usr/local/lib/python3.6/dist-packages (from transformers) (0.8)\n",
            "Requirement already satisfied: importlib-metadata; python_version < \"3.8\" in /usr/local/lib/python3.6/dist-packages (from transformers) (3.4.0)\n",
            "Requirement already satisfied: sacremoses in /usr/local/lib/python3.6/dist-packages (from transformers) (0.0.43)\n",
            "Requirement already satisfied: tqdm>=4.27 in /usr/local/lib/python3.6/dist-packages (from transformers) (4.41.1)\n",
            "Requirement already satisfied: numpy in /usr/local/lib/python3.6/dist-packages (from transformers) (1.19.5)\n",
            "Requirement already satisfied: urllib3!=1.25.0,!=1.25.1,<1.26,>=1.21.1 in /usr/local/lib/python3.6/dist-packages (from requests->transformers) (1.24.3)\n",
            "Requirement already satisfied: chardet<4,>=3.0.2 in /usr/local/lib/python3.6/dist-packages (from requests->transformers) (3.0.4)\n",
            "Requirement already satisfied: certifi>=2017.4.17 in /usr/local/lib/python3.6/dist-packages (from requests->transformers) (2020.12.5)\n",
            "Requirement already satisfied: idna<3,>=2.5 in /usr/local/lib/python3.6/dist-packages (from requests->transformers) (2.10)\n",
            "Requirement already satisfied: pyparsing>=2.0.2 in /usr/local/lib/python3.6/dist-packages (from packaging->transformers) (2.4.7)\n",
            "Requirement already satisfied: typing-extensions>=3.6.4; python_version < \"3.8\" in /usr/local/lib/python3.6/dist-packages (from importlib-metadata; python_version < \"3.8\"->transformers) (3.7.4.3)\n",
            "Requirement already satisfied: zipp>=0.5 in /usr/local/lib/python3.6/dist-packages (from importlib-metadata; python_version < \"3.8\"->transformers) (3.4.0)\n",
            "Requirement already satisfied: joblib in /usr/local/lib/python3.6/dist-packages (from sacremoses->transformers) (1.0.0)\n",
            "Requirement already satisfied: six in /usr/local/lib/python3.6/dist-packages (from sacremoses->transformers) (1.15.0)\n",
            "Requirement already satisfied: click in /usr/local/lib/python3.6/dist-packages (from sacremoses->transformers) (7.1.2)\n"
          ],
          "name": "stdout"
        }
      ]
    },
    {
      "cell_type": "code",
      "metadata": {
        "id": "0O64EZmOXbk-",
        "colab": {
          "base_uri": "https://localhost:8080/",
          "height": 296
        },
        "outputId": "3b51eb6d-0008-47cd-98bf-72a2be933d8f"
      },
      "source": [
        "from transformers import pipeline, set_seed"
      ],
      "execution_count": null,
      "outputs": [
        {
          "output_type": "error",
          "ename": "ModuleNotFoundError",
          "evalue": "ignored",
          "traceback": [
            "\u001b[0;31m---------------------------------------------------------------------------\u001b[0m",
            "\u001b[0;31mModuleNotFoundError\u001b[0m                       Traceback (most recent call last)",
            "\u001b[0;32m<ipython-input-8-442704d3eb32>\u001b[0m in \u001b[0;36m<module>\u001b[0;34m()\u001b[0m\n\u001b[0;32m----> 1\u001b[0;31m \u001b[0;32mfrom\u001b[0m \u001b[0mtransformers\u001b[0m \u001b[0;32mimport\u001b[0m \u001b[0mpipeline\u001b[0m\u001b[0;34m,\u001b[0m \u001b[0mset_seed\u001b[0m\u001b[0;34m\u001b[0m\u001b[0;34m\u001b[0m\u001b[0m\n\u001b[0m",
            "\u001b[0;31mModuleNotFoundError\u001b[0m: No module named 'transformers'",
            "",
            "\u001b[0;31m---------------------------------------------------------------------------\u001b[0;32m\nNOTE: If your import is failing due to a missing package, you can\nmanually install dependencies using either !pip or !apt.\n\nTo view examples of installing some common dependencies, click the\n\"Open Examples\" button below.\n\u001b[0;31m---------------------------------------------------------------------------\u001b[0m\n"
          ]
        }
      ]
    },
    {
      "cell_type": "code",
      "metadata": {
        "id": "PgoQxs6pXb0Y",
        "colab": {
          "base_uri": "https://localhost:8080/"
        },
        "outputId": "26c59fc9-75ce-4da9-f687-441bc143eca5"
      },
      "source": [
        "generator = pipeline('text-generation', model='gpt2')"
      ],
      "execution_count": null,
      "outputs": [
        {
          "output_type": "stream",
          "text": [
            "Some weights of GPT2Model were not initialized from the model checkpoint at gpt2 and are newly initialized: ['h.0.attn.masked_bias', 'h.1.attn.masked_bias', 'h.2.attn.masked_bias', 'h.3.attn.masked_bias', 'h.4.attn.masked_bias', 'h.5.attn.masked_bias', 'h.6.attn.masked_bias', 'h.7.attn.masked_bias', 'h.8.attn.masked_bias', 'h.9.attn.masked_bias', 'h.10.attn.masked_bias', 'h.11.attn.masked_bias']\n",
            "You should probably TRAIN this model on a down-stream task to be able to use it for predictions and inference.\n"
          ],
          "name": "stderr"
        }
      ]
    },
    {
      "cell_type": "code",
      "metadata": {
        "id": "RUmNsCRMXb8S",
        "colab": {
          "base_uri": "https://localhost:8080/",
          "height": 35
        },
        "outputId": "b63f2800-17d6-45f4-cbff-74e464ea8db2"
      },
      "source": [
        "sentences[1682]"
      ],
      "execution_count": null,
      "outputs": [
        {
          "output_type": "execute_result",
          "data": {
            "application/vnd.google.colaboratory.intrinsic+json": {
              "type": "string"
            },
            "text/plain": [
              "'Urea, whether or not in aqueous solution'"
            ]
          },
          "metadata": {
            "tags": []
          },
          "execution_count": 32
        }
      ]
    },
    {
      "cell_type": "code",
      "metadata": {
        "id": "3O-aYRl2X4c7",
        "colab": {
          "base_uri": "https://localhost:8080/"
        },
        "outputId": "efac39d9-1c4e-4852-8c87-a807f0f3fac5"
      },
      "source": [
        "from transformers import GPT2Tokenizer, GPT2Model\r\n",
        "tokenizer = GPT2Tokenizer.from_pretrained('gpt2')\r\n",
        "model = GPT2Model.from_pretrained('gpt2')\r\n",
        "text = sentences[1682]\r\n",
        "encoded_input = tokenizer(text, return_tensors='pt')"
      ],
      "execution_count": null,
      "outputs": [
        {
          "output_type": "stream",
          "text": [
            "Some weights of GPT2Model were not initialized from the model checkpoint at gpt2 and are newly initialized: ['h.0.attn.masked_bias', 'h.1.attn.masked_bias', 'h.2.attn.masked_bias', 'h.3.attn.masked_bias', 'h.4.attn.masked_bias', 'h.5.attn.masked_bias', 'h.6.attn.masked_bias', 'h.7.attn.masked_bias', 'h.8.attn.masked_bias', 'h.9.attn.masked_bias', 'h.10.attn.masked_bias', 'h.11.attn.masked_bias']\n",
            "You should probably TRAIN this model on a down-stream task to be able to use it for predictions and inference.\n"
          ],
          "name": "stderr"
        }
      ]
    },
    {
      "cell_type": "code",
      "metadata": {
        "id": "gxxumbDsXcCM"
      },
      "source": [
        "output = model(**encoded_input)\r\n",
        "print(output)"
      ],
      "execution_count": null,
      "outputs": []
    },
    {
      "cell_type": "code",
      "metadata": {
        "id": "U7NIOGHeZOk2",
        "colab": {
          "base_uri": "https://localhost:8080/"
        },
        "outputId": "c2a2e478-7042-4178-83bf-5d6f160d1e2c"
      },
      "source": [
        "set_seed(42)\r\n",
        "length = len(text)+1\r\n",
        "generator(\"manicure\", max_length=15 , num_return_sequences=10)"
      ],
      "execution_count": null,
      "outputs": [
        {
          "output_type": "stream",
          "text": [
            "Setting `pad_token_id` to `eos_token_id`:50256 for open-end generation.\n"
          ],
          "name": "stderr"
        },
        {
          "output_type": "execute_result",
          "data": {
            "text/plain": [
              "[{'generated_text': 'manicure has to be one of them, with the fact that the'},\n",
              " {'generated_text': 'manicure has been the case for centuries. But it comes as no'},\n",
              " {'generated_text': 'manicure in the first place.] The reason that the Roman language uses'},\n",
              " {'generated_text': 'manicure.org\\n\\nP.C@Bridgewater-'},\n",
              " {'generated_text': 'manicure. If you go out with your pants on – say,'},\n",
              " {'generated_text': 'manicure.\" In this respect, the second law of the Roman republic'},\n",
              " {'generated_text': 'manicure.com). You will also need to have a valid credit'},\n",
              " {'generated_text': 'manicure. And on September 16, 2001, the United Kingdom withdrew'},\n",
              " {'generated_text': 'manicure in the United States and the West has been a focus of'},\n",
              " {'generated_text': 'manicure.\\n\\nThe results of the new study were described in'}]"
            ]
          },
          "metadata": {
            "tags": []
          },
          "execution_count": 45
        }
      ]
    },
    {
      "cell_type": "code",
      "metadata": {
        "colab": {
          "base_uri": "https://localhost:8080/"
        },
        "id": "YD4uev3CNWDt",
        "outputId": "656fb2b9-e829-4c4b-858a-06c41de6653b"
      },
      "source": [
        "!pip install sentence_transformers"
      ],
      "execution_count": 7,
      "outputs": [
        {
          "output_type": "stream",
          "text": [
            "Collecting sentence_transformers\n",
            "\u001b[?25l  Downloading https://files.pythonhosted.org/packages/6a/e2/84d6acfcee2d83164149778a33b6bdd1a74e1bcb59b2b2cd1b861359b339/sentence-transformers-0.4.1.2.tar.gz (64kB)\n",
            "\u001b[K     |████████████████████████████████| 71kB 3.8MB/s \n",
            "\u001b[?25hCollecting transformers<5.0.0,>=3.1.0\n",
            "\u001b[?25l  Downloading https://files.pythonhosted.org/packages/88/b1/41130a228dd656a1a31ba281598a968320283f48d42782845f6ba567f00b/transformers-4.2.2-py3-none-any.whl (1.8MB)\n",
            "\u001b[K     |████████████████████████████████| 1.8MB 7.6MB/s \n",
            "\u001b[?25hRequirement already satisfied: tqdm in /usr/local/lib/python3.6/dist-packages (from sentence_transformers) (4.41.1)\n",
            "Requirement already satisfied: torch>=1.6.0 in /usr/local/lib/python3.6/dist-packages (from sentence_transformers) (1.7.0+cu101)\n",
            "Requirement already satisfied: numpy in /usr/local/lib/python3.6/dist-packages (from sentence_transformers) (1.19.5)\n",
            "Requirement already satisfied: scikit-learn in /usr/local/lib/python3.6/dist-packages (from sentence_transformers) (0.22.2.post1)\n",
            "Requirement already satisfied: scipy in /usr/local/lib/python3.6/dist-packages (from sentence_transformers) (1.4.1)\n",
            "Requirement already satisfied: nltk in /usr/local/lib/python3.6/dist-packages (from sentence_transformers) (3.2.5)\n",
            "Collecting sentencepiece\n",
            "\u001b[?25l  Downloading https://files.pythonhosted.org/packages/14/67/e42bd1181472c95c8cda79305df848264f2a7f62740995a46945d9797b67/sentencepiece-0.1.95-cp36-cp36m-manylinux2014_x86_64.whl (1.2MB)\n",
            "\u001b[K     |████████████████████████████████| 1.2MB 55.2MB/s \n",
            "\u001b[?25hRequirement already satisfied: regex!=2019.12.17 in /usr/local/lib/python3.6/dist-packages (from transformers<5.0.0,>=3.1.0->sentence_transformers) (2019.12.20)\n",
            "Requirement already satisfied: importlib-metadata; python_version < \"3.8\" in /usr/local/lib/python3.6/dist-packages (from transformers<5.0.0,>=3.1.0->sentence_transformers) (3.4.0)\n",
            "Collecting sacremoses\n",
            "\u001b[?25l  Downloading https://files.pythonhosted.org/packages/7d/34/09d19aff26edcc8eb2a01bed8e98f13a1537005d31e95233fd48216eed10/sacremoses-0.0.43.tar.gz (883kB)\n",
            "\u001b[K     |████████████████████████████████| 890kB 59.8MB/s \n",
            "\u001b[?25hCollecting tokenizers==0.9.4\n",
            "\u001b[?25l  Downloading https://files.pythonhosted.org/packages/0f/1c/e789a8b12e28be5bc1ce2156cf87cb522b379be9cadc7ad8091a4cc107c4/tokenizers-0.9.4-cp36-cp36m-manylinux2010_x86_64.whl (2.9MB)\n",
            "\u001b[K     |████████████████████████████████| 2.9MB 49.6MB/s \n",
            "\u001b[?25hRequirement already satisfied: filelock in /usr/local/lib/python3.6/dist-packages (from transformers<5.0.0,>=3.1.0->sentence_transformers) (3.0.12)\n",
            "Requirement already satisfied: dataclasses; python_version < \"3.7\" in /usr/local/lib/python3.6/dist-packages (from transformers<5.0.0,>=3.1.0->sentence_transformers) (0.8)\n",
            "Requirement already satisfied: requests in /usr/local/lib/python3.6/dist-packages (from transformers<5.0.0,>=3.1.0->sentence_transformers) (2.23.0)\n",
            "Requirement already satisfied: packaging in /usr/local/lib/python3.6/dist-packages (from transformers<5.0.0,>=3.1.0->sentence_transformers) (20.9)\n",
            "Requirement already satisfied: typing-extensions in /usr/local/lib/python3.6/dist-packages (from torch>=1.6.0->sentence_transformers) (3.7.4.3)\n",
            "Requirement already satisfied: future in /usr/local/lib/python3.6/dist-packages (from torch>=1.6.0->sentence_transformers) (0.16.0)\n",
            "Requirement already satisfied: joblib>=0.11 in /usr/local/lib/python3.6/dist-packages (from scikit-learn->sentence_transformers) (1.0.0)\n",
            "Requirement already satisfied: six in /usr/local/lib/python3.6/dist-packages (from nltk->sentence_transformers) (1.15.0)\n",
            "Requirement already satisfied: zipp>=0.5 in /usr/local/lib/python3.6/dist-packages (from importlib-metadata; python_version < \"3.8\"->transformers<5.0.0,>=3.1.0->sentence_transformers) (3.4.0)\n",
            "Requirement already satisfied: click in /usr/local/lib/python3.6/dist-packages (from sacremoses->transformers<5.0.0,>=3.1.0->sentence_transformers) (7.1.2)\n",
            "Requirement already satisfied: certifi>=2017.4.17 in /usr/local/lib/python3.6/dist-packages (from requests->transformers<5.0.0,>=3.1.0->sentence_transformers) (2020.12.5)\n",
            "Requirement already satisfied: chardet<4,>=3.0.2 in /usr/local/lib/python3.6/dist-packages (from requests->transformers<5.0.0,>=3.1.0->sentence_transformers) (3.0.4)\n",
            "Requirement already satisfied: idna<3,>=2.5 in /usr/local/lib/python3.6/dist-packages (from requests->transformers<5.0.0,>=3.1.0->sentence_transformers) (2.10)\n",
            "Requirement already satisfied: urllib3!=1.25.0,!=1.25.1,<1.26,>=1.21.1 in /usr/local/lib/python3.6/dist-packages (from requests->transformers<5.0.0,>=3.1.0->sentence_transformers) (1.24.3)\n",
            "Requirement already satisfied: pyparsing>=2.0.2 in /usr/local/lib/python3.6/dist-packages (from packaging->transformers<5.0.0,>=3.1.0->sentence_transformers) (2.4.7)\n",
            "Building wheels for collected packages: sentence-transformers, sacremoses\n",
            "  Building wheel for sentence-transformers (setup.py) ... \u001b[?25l\u001b[?25hdone\n",
            "  Created wheel for sentence-transformers: filename=sentence_transformers-0.4.1.2-cp36-none-any.whl size=103068 sha256=1be9e6dcb6f46a246dae1b1682c5850a1750be2c891ae0b48837ff8483b7f4d6\n",
            "  Stored in directory: /root/.cache/pip/wheels/3d/33/d1/5703dd56199c09d4a1b41e0c07fb4e7765a84d787cbdc48ac3\n",
            "  Building wheel for sacremoses (setup.py) ... \u001b[?25l\u001b[?25hdone\n",
            "  Created wheel for sacremoses: filename=sacremoses-0.0.43-cp36-none-any.whl size=893261 sha256=fb22f697603a889b99e5ed32f33927d680965ae97ab7da695e290ef856149d70\n",
            "  Stored in directory: /root/.cache/pip/wheels/29/3c/fd/7ce5c3f0666dab31a50123635e6fb5e19ceb42ce38d4e58f45\n",
            "Successfully built sentence-transformers sacremoses\n",
            "Installing collected packages: sacremoses, tokenizers, transformers, sentencepiece, sentence-transformers\n",
            "Successfully installed sacremoses-0.0.43 sentence-transformers-0.4.1.2 sentencepiece-0.1.95 tokenizers-0.9.4 transformers-4.2.2\n"
          ],
          "name": "stdout"
        }
      ]
    },
    {
      "cell_type": "code",
      "metadata": {
        "id": "hrtOe4jJN7Ms"
      },
      "source": [
        "from sentence_transformers import SentenceTransformer, util\r\n"
      ],
      "execution_count": 8,
      "outputs": []
    },
    {
      "cell_type": "markdown",
      "metadata": {
        "id": "tsQeoOjNT90h"
      },
      "source": [
        "**SBERT**\r\n",
        "Models can be loaded from SBERT , full list:\r\n",
        "https://docs.google.com/spreadsheets/d/14QplCdTCDwEmTqrn1LH4yrbKvdogK4oQvYO1K1aPR5M/edit#gid=0\r\n"
      ]
    },
    {
      "cell_type": "code",
      "metadata": {
        "id": "fceDy7GtTAhS",
        "colab": {
          "base_uri": "https://localhost:8080/"
        },
        "outputId": "2c5755bd-d305-4181-b167-9447c24e869a"
      },
      "source": [
        "#model = SentenceTransformer('average_word_embeddings_glove.840B.300d')\r\n",
        "#model = SentenceTransformer('paraphrase-distilroberta-base-v1') --no\r\n",
        "#model= SentenceTransformer('msmarco-distilroberta-base-v2') --no\r\n",
        "#model = SentenceTransformer('stsb-bert-large')  ##maybe\r\n",
        "#model = SentenceTransformer('stsb-roberta-large') #--no\r\n",
        "#model= SentenceTransformer('paraphrase-xlm-r-multilingual-v1')\r\n",
        "#model= SentenceTransformer('LaBSE')  # interesting\r\n",
        "#model = SentenceTransformer('quora-distilbert-multilingual') ## not ok\r\n",
        "model= SentenceTransformer('nli-bert-large-cls-pooling') \r\n",
        "\r\n",
        "#model = SentenceTransformer('average_word_embeddings_glove.840B.300d')"
      ],
      "execution_count": 22,
      "outputs": [
        {
          "output_type": "stream",
          "text": [
            "100%|██████████| 1.24G/1.24G [01:56<00:00, 10.7MB/s]\n"
          ],
          "name": "stderr"
        }
      ]
    },
    {
      "cell_type": "code",
      "metadata": {
        "id": "BCoScJ--kCJQ"
      },
      "source": [
        "sentences = sentences_C246_concat\r\n",
        "sentences = [element.lower() for element in sentences]\r\n",
        "\r\n",
        "#sentences[1682]+=' nail polishing makeup'\r\n",
        "#print(sentences[1682])"
      ],
      "execution_count": 23,
      "outputs": []
    },
    {
      "cell_type": "code",
      "metadata": {
        "id": "t6p8yyOnOIB0"
      },
      "source": [
        "\r\n",
        "embeddings = model.encode(sentences, convert_to_tensor=True)\r\n",
        "#embeddings_246_concat = model.encode(sentences_246_concat, convert_to_tensor=True)\r\n",
        "#embeddings_46_concat = model.encode(sentences_46_concat, convert_to_tensor=True)\r\n",
        "#embeddings_246 = model.encode(sentences_246, convert_to_tensor=True)\r\n",
        "#embeddings_46 = model.encode(sentences_46, convert_to_tensor=True)\r\n",
        "\r\n",
        "embeddings = torch.nn.functional.normalize(embeddings)"
      ],
      "execution_count": 24,
      "outputs": []
    },
    {
      "cell_type": "code",
      "metadata": {
        "id": "vD8YLLtdDdeO",
        "colab": {
          "base_uri": "https://localhost:8080/"
        },
        "outputId": "3d21d3be-e3ee-4b9d-de13-61203c74c021"
      },
      "source": [
        "TAROC_cosine_scores = util.pytorch_cos_sim(embeddings, embeddings)\r\n",
        "print(TAROC_cosine_scores.shape)\r\n",
        "\r\n",
        "top_k=5\r\n",
        "top_results = torch.topk(TAROC_cosine_scores, k=top_k)\r\n",
        "print(TAROC_cosine_scores.shape)\r\n",
        "print(TAROC_cosine_scores)\r\n",
        "print(top_results.values)\r\n",
        "#print(top_results.indices)\r\n",
        "#print(sentences[0])\r\n",
        "#print(sentences[40])\r\n",
        "#y = torch.ones(TAROC_cosine_scores.shape)*0.8\r\n",
        "#torch.where(TAROC_cosine_scores > y, TAROC_cosine_scores, 0)"
      ],
      "execution_count": 25,
      "outputs": [
        {
          "output_type": "stream",
          "text": [
            "torch.Size([5209, 5209])\n",
            "torch.Size([5209, 5209])\n",
            "tensor([[1.0000, 0.9348, 0.9294,  ..., 0.3953, 0.3930, 0.3526],\n",
            "        [0.9348, 1.0000, 0.9734,  ..., 0.3906, 0.3891, 0.3861],\n",
            "        [0.9294, 0.9734, 1.0000,  ..., 0.3722, 0.3699, 0.3522],\n",
            "        ...,\n",
            "        [0.3953, 0.3906, 0.3722,  ..., 1.0000, 0.9226, 0.8999],\n",
            "        [0.3930, 0.3891, 0.3699,  ..., 0.9226, 1.0000, 0.9116],\n",
            "        [0.3526, 0.3861, 0.3522,  ..., 0.8999, 0.9116, 1.0000]])\n",
            "tensor([[1.0000, 0.9348, 0.9294, 0.9136, 0.9006],\n",
            "        [1.0000, 0.9865, 0.9734, 0.9348, 0.8253],\n",
            "        [1.0000, 0.9756, 0.9734, 0.9294, 0.8477],\n",
            "        ...,\n",
            "        [1.0000, 0.9226, 0.8999, 0.8166, 0.7311],\n",
            "        [1.0000, 0.9226, 0.9116, 0.7748, 0.7206],\n",
            "        [1.0000, 0.9116, 0.8999, 0.7923, 0.7920]])\n"
          ],
          "name": "stdout"
        }
      ]
    },
    {
      "cell_type": "code",
      "metadata": {
        "id": "EfncxXQtmIOw"
      },
      "source": [
        "import numpy as np\r\n",
        "from sklearn import manifold\r\n",
        "A = np.matrix(TAROC_cosine_scores)*0.9\r\n",
        "A = 1.-A\r\n",
        "modelTSNE = manifold.TSNE(metric=\"precomputed\")\r\n",
        "Y = modelTSNE.fit_transform(A) "
      ],
      "execution_count": null,
      "outputs": []
    },
    {
      "cell_type": "code",
      "metadata": {
        "id": "L0GrZBKjpgQK",
        "colab": {
          "base_uri": "https://localhost:8080/"
        },
        "outputId": "a7c7ac2b-f244-4996-808f-26c4e79d9a02"
      },
      "source": [
        "import numpy as np\r\n",
        "from sklearn.datasets import load_digits\r\n",
        "from scipy.spatial.distance import pdist\r\n",
        "from sklearn.manifold.t_sne import _joint_probabilities\r\n",
        "from scipy import linalg\r\n",
        "from sklearn.metrics import pairwise_distances\r\n",
        "from scipy.spatial.distance import squareform\r\n",
        "from sklearn.manifold import TSNE\r\n",
        "from matplotlib import pyplot as plt\r\n",
        "import seaborn as sns\r\n",
        "sns.set(rc={'figure.figsize':(11.7,8.27)})\r\n",
        "palette = sns.color_palette(\"bright\", 10)"
      ],
      "execution_count": 16,
      "outputs": [
        {
          "output_type": "stream",
          "text": [
            "/usr/local/lib/python3.6/dist-packages/sklearn/utils/deprecation.py:144: FutureWarning: The sklearn.manifold.t_sne module is  deprecated in version 0.22 and will be removed in version 0.24. The corresponding classes / functions should instead be imported from sklearn.manifold. Anything that cannot be imported from sklearn.manifold is now part of the private API.\n",
            "  warnings.warn(message, FutureWarning)\n"
          ],
          "name": "stderr"
        }
      ]
    },
    {
      "cell_type": "code",
      "metadata": {
        "id": "3Q5nW_iQru5M"
      },
      "source": [
        "tsne = TSNE()\r\n",
        "Y = tsne.fit_transform(TAROC_cosine_scores)"
      ],
      "execution_count": 17,
      "outputs": []
    },
    {
      "cell_type": "code",
      "metadata": {
        "id": "V35R6s20oiw8",
        "colab": {
          "base_uri": "https://localhost:8080/",
          "height": 570
        },
        "outputId": "18d92b42-3487-452e-d33c-2d4b52339bb1"
      },
      "source": [
        "sns.scatterplot(Y[:,0], Y[:,1], legend='full' , palette=palette) #, hue=y, legend='full', palette=palette)"
      ],
      "execution_count": 21,
      "outputs": [
        {
          "output_type": "stream",
          "text": [
            "/usr/local/lib/python3.6/dist-packages/seaborn/_decorators.py:43: FutureWarning: Pass the following variables as keyword args: x, y. From version 0.12, the only valid positional argument will be `data`, and passing other arguments without an explicit keyword will result in an error or misinterpretation.\n",
            "  FutureWarning\n"
          ],
          "name": "stderr"
        },
        {
          "output_type": "execute_result",
          "data": {
            "text/plain": [
              "<matplotlib.axes._subplots.AxesSubplot at 0x7f262586bcf8>"
            ]
          },
          "metadata": {
            "tags": []
          },
          "execution_count": 21
        },
        {
          "output_type": "display_data",
          "data": {
            "image/png": "[encoded data removed]",
            "text/plain": [
              "<Figure size 842.4x595.44 with 1 Axes>"
            ]
          },
          "metadata": {
            "tags": []
          }
        }
      ]
    },
    {
      "cell_type": "code",
      "metadata": {
        "id": "9_5Iv_XxOiBd"
      },
      "source": [
        "description = [\"Vyriškos kelnės\"]\r\n",
        "\r\n",
        "description = [\"Мужские джинсы\"]\r\n",
        "description = [\"Beef fillet\"]\r\n",
        "\r\n",
        "description = [\"Jautienos filė\"]\r\n",
        "\r\n",
        "description = [\"Лак для маникюра\"]\r\n",
        "\r\n",
        "description = [\"Nail polish\"]\r\n",
        "\r\n",
        "description = [\"Кресла офисные\"]\r\n",
        "\r\n",
        "description = [\"Astro Pneumatic 1716 Deluxe Air Blow Gun with 20-Inch Long Angled Nozzle and 1/2-Inch Removable Rubber Tip\"]\r\n",
        "\r\n",
        "description = [\"Astro Pneumatic 1716 Deluxe Air Blow Gun with 20-Inch Long Angled Nozzle and 1/2-Inch Removable Rubber Tip\"]\r\n",
        "description = [\"I Love Makeup - Nail Polish\"]\r\n",
        "description = [\"Astro Pneumatic 1716 Deluxe Air Blow Gun with 20-Inch Long Angled Nozzle and 1/2-Inch Removable Rubber Tip\"]\r\n",
        "\r\n",
        "\r\n",
        "\r\n",
        "description = [\"папиросы\"]\r\n",
        "description = [\"I Love Makeup  - Nail Polish\"]\r\n",
        "description = [\"Astro Pneumatic 1716 Deluxe Air Blow Gun with 20-Inch Long Angled Nozzle and 1/2-Inch Removable Rubber Tip\"]\r\n",
        "description = [\"Beef fillet\"]\r\n",
        "description = [\"Гoвядина филе морож\"]\r\n",
        "description = [\"Мужские джинсы\"]\r\n",
        "description = [\"Фанера\"]\r\n",
        "description = [\"Astro Pneumatic 1716 Deluxe Air Blow Gun with 20-Inch Long Angled Nozzle and 1/2-Inch Removable Rubber Tip\"]\r\n",
        "description = [\"Vineer on kihiline materjal, mis valmistatakse õhukeste puitlehtede – spoonide – kokkuliimimise teel.\"] \r\n",
        "description = [\"офисные стулья деревянные дубовые\"] \r\n",
        "description = [\"Astro Pneumatic 1716 Deluxe Air Blow Gun with 20-Inch Long Angled Nozzle and 1/2-Inch Removable Rubber Tip\"]\r\n",
        "description = [\"Fosmon Apple iPhone 4 / iPhone 4G USB Sync Charge Data Cable with USB Auto Car Charger and USB Home Travel Charger\"] #SUPER matches S3\r\n",
        "description = [\"Astro Pneumatic 1716 Deluxe Air Blow Gun with 20-Inch Long Angled Nozzle and 1/2-Inch Removable Rubber Tip\"] # not\r\n",
        "description = [\"HTC HD7 Crowned Heart Phone Protector Cover Case\"] ## bullshit is both cases - bert and S3\r\n",
        "description = [\"Jolly Jumper Pashmama Nursing Cover - Tan\"]\r\n",
        "description = [\"HTC HD7 Crowned Heart Phone Protector Cover Case\"]\r\n",
        "description = [\"Astro Pneumatic 1716 Deluxe Air Blow Gun with 20-Inch Long Angled Nozzle and 1/2-Inch Removable Rubber Tip\"]\r\n",
        "description = [\"I Love Makeup  - Nail Polish\"]\r\n",
        "description = [\"Astro Pneumatic 1716 Deluxe Air Blow Gun with 20-Inch Long Angled Nozzle and 1/2-Inch Removable Rubber Tip\"]\r\n",
        "description = [\"HTC HD7 Crowned Heart Phone Protector Cover Case\"]\r\n",
        "\r\n",
        "\r\n",
        "description = [\"Astro Pneumatic 1716 Deluxe Air Blow Gun with 20-Inch Long Angled Nozzle and 1/2-Inch Removable Rubber Tip\"]\r\n",
        "description = [\"Beef fillet\"]\r\n",
        "description = [\"Astro Pneumatic 1716 Deluxe Air Blow Gun with 20-Inch Long Angled Nozzle and 1/2-Inch Removable Rubber Tip\"]\r\n",
        "description = [\"Phone Protector Cover Case\"]\r\n",
        "description = [\"I Love Makeup  - Nail Polish\"]\r\n",
        "description = [\"Я люблю макияж - полировка для ногтей\"]\r\n",
        "description = [\"Аš myliu makijažą - nagų poliravimas \"]\r\n",
        "description = [\"Amo el maquillaje - Esmalte de uñas\"]\r\n",
        "\r\n",
        "\r\n",
        "\r\n",
        "#\r\n",
        "description = [\"FINETOO V Waist Cotton Panties Women M-4XL Underpants Female Underwear Sexy Low-Rise Girl Briefs Comfort Panties Ladies Lingerie\"]\r\n",
        "#https://www.aliexpress.com/item/4001256055038.html?spm=a2g01.12617084.fdpcl001.7.7fb7Er8hEr8hk8&gps-id=5547572&scm=1007.19201.130907.0&scm_id=1007.19201.130907.0&scm-url=1007.19201.130907.0&pvid=5b859c98-45fa-401b-93f9-b5b29f926246\r\n",
        "#\r\n",
        "\r\n",
        "\r\n",
        "\r\n",
        "#\r\n",
        "#description = [\"TWS Bluetooth 5.0 Earphones 2200mAh Charging Box Wireless Headphone 9D Stereo Sports Waterproof Earbuds Headsets With Microphone\"]\r\n",
        "#https://www.aliexpress.com/item/4000539506338.html?spm=a2g01.12617084.fdpcl001.1.7fb7Er8hEr8hk8&gps-id=5547572&scm=1007.19201.130907.0&scm_id=1007.19201.130907.0&scm-url=1007.19201.130907.0&pvid=5b859c98-45fa-401b-93f9-b5b29f926246\r\n",
        "#\r\n",
        "\r\n",
        "#\r\n",
        "#description = [\"TREADS Kids School Shoes Children’s Black Leather 12 Month Indestructible Guarantee, Lace up Formal Footwear with Adjustable Width ‘Dual Fit’ Technology, Perfect for Active Girls\"]\r\n",
        "#https://www.amazon.co.uk/dp/B07LBVDWNV/ref=redir_mobile_desktop?_encoding=UTF8&aaxitk=n7xJNYPXoAtEC4UA8RdaiQ&hsa_cr_id=2196631350202&pd_rd_plhdr=t&pd_rd_r=b9ebdade-bd35-4b6c-854a-8b2a5a2e8999&pd_rd_w=Nfi7W&pd_rd_wg=pb3Mb&ref_=sbx_be_s_sparkle_tsld_asin_2_img\r\n",
        "#\r\n",
        "\r\n",
        "#\r\n",
        "#description = [\"TREADS Kids School Children’s Black Leather 12 Month Indestructible Guarantee, Lace up Formal with Adjustable Width ‘Dual Fit’ Technology, Perfect for Active Girls\"]\r\n",
        "#https://www.amazon.co.uk/dp/B07LBVDWNV/ref=redir_mobile_desktop?_encoding=UTF8&aaxitk=n7xJNYPXoAtEC4UA8RdaiQ&hsa_cr_id=2196631350202&pd_rd_plhdr=t&pd_rd_r=b9ebdade-bd35-4b6c-854a-8b2a5a2e8999&pd_rd_w=Nfi7W&pd_rd_wg=pb3Mb&ref_=sbx_be_s_sparkle_tsld_asin_2_img\r\n",
        "#\r\n",
        "\r\n",
        "#\r\n",
        "description = [\"ZLL SG906 MAX SG906 PRO 2 GPS Drone 4K HD Camera Laser Obstacle Avoidance 3-Axis Gimbal WiFi FPV Professional RC Quadcopter\"]\r\n",
        "#https://www.amazon.co.uk/dp/B07LBVDWNV/ref=redir_mobile_desktop?_encoding=UTF8&aaxitk=n7xJNYPXoAtEC4UA8RdaiQ&hsa_cr_id=2196631350202&pd_rd_plhdr=t&pd_rd_r=b9ebdade-bd35-4b6c-854a-8b2a5a2e8999&pd_rd_w=Nfi7W&pd_rd_wg=pb3Mb&ref_=sbx_be_s_sparkle_tsld_asin_2_img\r\n",
        "#\r\n",
        "#\r\n",
        "\r\n",
        "#description = [\"ZLL SG906 MAX SG906 PRO 2 GPS Drone 4K HD Camera Laser Obstacle Avoidance 3-Axis Gimbal WiFi FPV Professional RC Quadcopter\"]\r\n",
        "#https://www.amazon.co.uk/dp/B07LBVDWNV/ref=redir_mobile_desktop?_encoding=UTF8&aaxitk=n7xJNYPXoAtEC4UA8RdaiQ&hsa_cr_id=2196631350202&pd_rd_plhdr=t&pd_rd_r=b9ebdade-bd35-4b6c-854a-8b2a5a2e8999&pd_rd_w=Nfi7W&pd_rd_wg=pb3Mb&ref_=sbx_be_s_sparkle_tsld_asin_2_img\r\n",
        "#\r\n",
        "\r\n",
        "embeddings_description = model.encode(description, convert_to_tensor=True )\r\n",
        "embeddings_description = torch.nn.functional.normalize(embeddings_description)"
      ],
      "execution_count": 32,
      "outputs": []
    },
    {
      "cell_type": "code",
      "metadata": {
        "colab": {
          "base_uri": "https://localhost:8080/"
        },
        "id": "Hld1Nn7kO2Gw",
        "outputId": "f74f1241-85c2-4cf1-b9b0-59b3f84466fa"
      },
      "source": [
        "cosine_scores = util.pytorch_cos_sim(embeddings, embeddings_description)\r\n",
        "cosine_scores.shape\r\n",
        "values,indices = torch.transpose(cosine_scores,0,1).topk(10)\r\n",
        "print(values, indices)\r\n",
        "indices.numpy()[0][0]\r\n",
        "\r\n",
        "print(values.numpy()[0][0], sentences[indices.numpy()[0][0]])\r\n",
        "print(values.numpy()[0][1], sentences[indices.numpy()[0][1]])\r\n",
        "print(values.numpy()[0][2], sentences[indices.numpy()[0][2]])\r\n",
        "print(values.numpy()[0][3], sentences[indices.numpy()[0][3]])\r\n",
        "print(values.numpy()[0][4], sentences[indices.numpy()[0][4]])\r\n",
        "\r\n",
        "#print(sentences[1682])\r\n",
        "\r\n",
        "\r\n"
      ],
      "execution_count": 33,
      "outputs": [
        {
          "output_type": "stream",
          "text": [
            "tensor([[0.7304, 0.7265, 0.7149, 0.7044, 0.7007, 0.6989, 0.6815, 0.6813, 0.6757,\n",
            "         0.6709]]) tensor([[4537, 4914, 4431, 4528, 4357, 4875, 3914, 1969, 4600, 4718]])\n",
            "0.73041344 electrical machinery and equipment and parts thereof; sound recorders and reproducers, television image and sound recorders and reproducers, and parts and accessories of such articles; monitors and projectors, not incorporating television reception apparatus; reception apparatus for television, whether or not incorporating radio-broadcast receivers or sound or video recording or reproducing apparatus; projectors;other video projector consisting of three cathode-ray tubes each with a lens, for use in certain types of aircraft,other\n",
            "0.72654986 optical, photographic, cinematographic, measuring, checking, precision, medical or surgical instruments and apparatus; parts and accessories thereof; automatic regulating or controlling instruments and apparatus; other instruments and apparatus;other for use in civil aircraft,electronic controller of electric power steering (eps controller),digital valve controller for controlling liquids and gases,gas panel for regulating and controlling of the gas flow rate, working with plasma technology, comprising\n",
            " \n",
            "-|an electronic mass flow regulator, suitable for receiving and sending of analogue and digital signals\n",
            " \n",
            "-|four pressure transducers,\n",
            " \n",
            "-|two or more pressure valves,\n",
            " \n",
            "-|electric interfaces and\n",
            " \n",
            "-|several connectors for gas lines\n",
            " \n",
            "-|suitable for in-situ plasma bonding processes or for multi frequency bond activating processes|\n",
            ",other\n",
            "0.7149353 electrical machinery and equipment and parts thereof; sound recorders and reproducers, television image and sound recorders and reproducers, and parts and accessories of such articles; electric accumulators, including separators therefor, whether or not rectangular (including square); lithium-ion for use in civil aircraft,prismatic lithium-ion electric accumulators with:\n",
            " \n",
            "-a width of 173,0 mm (± 0,4 mm),\n",
            " \n",
            "-a thickness of 45,0 mm (± 0,4 mm),\n",
            " \n",
            "-a height 125,0 mm (± 0,3 mm),\n",
            " \n",
            "-a nominal voltage of 3,67 v (± 0,01 v), and\n",
            " \n",
            "-a nominal capacity of 94 ah and/or 120 ah\n",
            "for use in the manufacture of rechargeable electric vehicle batteries,cylindrical lithium-ion-accumulators or modules with:\n",
            " \n",
            "-|a nominal capacity of 8,8|ah or more, but not more than 18|ah,\n",
            " \n",
            "-|a nominal voltage of 36|v or more, but not more than 48|v,\n",
            " \n",
            "-|a power of 300|wh or more, but not more than 648|wh,\n",
            "for use in the manufacture of electric bicycles,lithium-ion starter accumulator, consisting of four rechargeable lithium-ion secondary cells, with:\n",
            " \n",
            "-|a rated voltage of 12|v,\n",
            " \n",
            "-|a length of 350|mm or more but not more than 355|mm,\n",
            " \n",
            "-|a width of 170|mm or more but not more than 180|mm,\n",
            " \n",
            "-|a height of 180|mm or more but not more than 195|mm,\n",
            " \n",
            "-|weighing 10|kg or more but not more than 15|kg\n",
            " \n",
            "-|a nominal charge of 60|ah or more, but not more than 80|ah\n",
            ",lithium-ion polymer accumulator equipped with a battery management system and can-bus interface with:\n",
            "\n",
            "-a length of not more than 1600 mm,\n",
            "\n",
            "-a width of not more than 448 mm,\n",
            "\n",
            "-a height of not more than 395 mm,\n",
            "\n",
            "-a nominal voltage of 280 v or more but not more than 400 v,\n",
            "\n",
            "-a nominal capacity of 9,7 ah or more but not more than 10,35 ah,\n",
            "\n",
            "-a charging voltage of 110 v or more but not more than 230 v, and\n",
            "\n",
            "-containing 6 modules with 90 cells or more but not more than 96 cells enclosed in a steel casing\n",
            "for use in the manufacture of vehicle capable of being charged by plugging to external source of electric power of heading 8703,integrated battery system in a metal case with holders, consisting of:\n",
            " \n",
            "-a lithium-ion battery with voltage of 48 v (± 5 v) and capacity of 0,44 kwh (± 0,05 kwh),\n",
            " \n",
            "-battery management system,\n",
            " \n",
            "-a relay,\n",
            " \n",
            "-a low voltage converter (dc/dc),\n",
            " \n",
            "-at least one connector\n",
            "for use in the manufacture of hybrid motor vehicles,cylindrical lithium-ion accumulator or module, with a length of 63 mm or more and a diameter of 17,2 mm or more, having a nominal capacity of 1 200 mah or more, for use in the manufacture of rechargeable batteries,lithium-ion accumulator, with:\n",
            "-|a length of 150|mm or more, but not more than 1|000|mm,\n",
            "-|a width of 100|mm or more, but not more than 1|000|mm,\n",
            "-|a height of 200|mm or more, but not more than 1|500|mm,\n",
            "-|a weight of 75|kg or more, but not more than 200|kg,\n",
            "-|a nominal capacity not less than 150|ah and not more than 500|ah\n",
            "-|a nominal output voltage of 230v ac (line to neutral) or a nominal voltage of 64v (± 10 %),lithium-ion accumulator, with:\n",
            " \n",
            "-|a length of 1|200|mm or more, but not more than 2|000|mm\n",
            " \n",
            "-|a width of 800|mm or more, but not more than 1|300|mm\n",
            " \n",
            "-|a height of 2|000|mm or more, but not more than 2|800|mm\n",
            " \n",
            "-|a weight of 1|800|kg or more, but not more than 3|000|kg\n",
            " \n",
            "-|a nominal capacity of 2|800|ah or more but not more than 7|200|ah\n",
            ",modules for the assembly of batteries of ion lithium electric accumulators with:\n",
            " \n",
            "-|a length of|298|mm or more, but not more than 500|mm,\n",
            " \n",
            "-|a width of|33,5|mm or more, but not more than|209|mm,\n",
            " \n",
            "-|a height of| 75|mm or more, but not more than|228|mm,\n",
            " \n",
            "-|a weight|of|3,6|kg or more, but not more than 17|kg, and\n",
            " \n",
            "-|a power of|458|wh or more, but not more than 2|158|wh\n",
            ",cylindrical lithium ion cell with \n",
            "\t\t\t\t\t\t\n",
            "-|3,5|vdc to 3,8|vdc, \n",
            "\t\t\t\t\t\t\n",
            "-|300|mah to|900|mah and \n",
            "\t\t\t\t\t\t\n",
            "-|a|diameter of 10,0|mm to 14,5|mm,lithium-ion accumulator in a metal housing, with\n",
            "-\ta length of 65 mm or more, but not more than 225 mm,\n",
            "-\ta width of 10 mm or more, but not more than 75 mm,\n",
            "-\ta height of 60 mm or more, but not more than 285 mm,\n",
            "-\ta nominal voltage of 2,1 v or more, but not more than 3,8 v, and\n",
            "-\ta nominal capacity of 2,5 ah or more, but not more than 325 ah,rectangular lithium-ion-accumulator, with \n",
            "\t\t\t\t\t\t\n",
            "-|a metal casing, \n",
            "\t\t\t\t\t\t\n",
            "-|a length of 173|mm (±|0,15|mm), \n",
            "\t\t\t\t\t\t\n",
            "-|a width of 21|mm (±|0,1|mm), \n",
            "\t\t\t\t\t\t\n",
            "-|a height of 91|mm (±|0,15|mm), \n",
            "\t\t\t\t\t\t\n",
            "-|a nominal voltage of 3,3|v and, \n",
            "\t\t\t\t\t\t\n",
            "-|a nominal capacity of 21|ah|or more,lithium-ion rechargeable batteries, with:\n",
            " \n",
            "-a length of 700 mm or more, but not more than 2 820 mm,\n",
            " \n",
            "-a width of 935 mm or more, but not more than 1 660 mm,\n",
            " \n",
            "-a height of 85 mm or more, but not more than 700 mm,\n",
            " \n",
            "-a weight of 250 kg or more, but not more than 700 kg,\n",
            " \n",
            "-a power of not more than 175 kwh,\n",
            " \n",
            "-a nominal voltage of 400 v\n",
            ",other\n",
            "0.7044066 electrical machinery and equipment and parts thereof; sound recorders and reproducers, television image and sound recorders and reproducers, and parts and accessories of such articles; reception apparatus for radio-broadcasting, whether or not combined, in the same housing, with sound recording or reproducing apparatus or a clock; radio-broadcast receivers not capable of operating without an external source of power, of a kind used in motor vehicles;other satellite radio receiver module:\n",
            " \n",
            "-with a rectangular shape of dimensions 70,5 x 44,9 x 10,5 mm,\n",
            " \n",
            "-comprising of heat sink and a printed circuit board with resistors, capacitors, transistors, coils, diodes and ic,\n",
            " \n",
            "-being able to process radio frequency signals,\n",
            " \n",
            "-with a medium frequency unit,\n",
            "for use in the manufacture of products falling under heading 8527,other\n",
            "0.7006521 nuclear reactors, boilers, machinery and mechanical appliances; parts thereof; taps, cocks, valves and similar appliances for pipes, boiler shells, tanks, vats or the like, including pressure-reducing valves and thermostatically controlled valves; parts for use in certain types of aircraft,valve armature:\n",
            " \n",
            "-|for the opening and closing of the flow of fuel,\n",
            " \n",
            "-|consisting of a shaft and a blade,\n",
            " \n",
            "-|with at least 3 but not more than 8 holes on the blade,\n",
            " \n",
            "-|made of metal and/or metal alloy(s)\n",
            ",silicone or plastic keyboards, comprising:\n",
            " \n",
            "-parts of common metal, and\n",
            " \n",
            "-whether or not comprising parts of plastic,\n",
            " \n",
            "-epoxy resin reinforced with fiberglass or wood,\n",
            " \n",
            "-whether or not printed or surface-treated,\n",
            " \n",
            "-with or without electrical conductors\n",
            " \n",
            "-with or without a membrane bonded to the keyboard,\n",
            " \n",
            "-with or without mono or multilayer protective film\n",
            ",nozzle body for the regulation of angle and distribution of fuel injection:\n",
            " \n",
            "-of a cylindrical shape,\n",
            " \n",
            "-made of stainless steel,\n",
            " \n",
            "-with 4 or more, but not more than 16 holes,\n",
            " \n",
            "-with a flow rate of 100 cm³/minute or more, but not more than 500 cm³/minute\n",
            ",nozzle needle for opening and closing the flow of fuel in the engine, with:\n",
            " \n",
            "-2 holes,\n",
            " \n",
            "-4 grooves,\n",
            " \n",
            "-a diameter of 3 mm or more, but not more than 6 mm,\n",
            " \n",
            "-a length of 25 mm or more, but not more than 35 mm,\n",
            " \n",
            "-made of stainless steel with hard-chrome plating\n",
            ",flow-control valve\n",
            " \n",
            "-made of steel,\n",
            " \n",
            "-with an outlet hole with a diameter of at least 0,05 mm, but not more than 0,5 mm,\n",
            " \n",
            "-with an inlet hole with a diameter of at least 0,1 mm, but not more than 1,3 mm\n",
            ",other\n"
          ],
          "name": "stdout"
        }
      ]
    },
    {
      "cell_type": "code",
      "metadata": {
        "id": "G908HpwvUj1S",
        "colab": {
          "base_uri": "https://localhost:8080/",
          "height": 511
        },
        "outputId": "cd6d26da-ad67-447c-ca64-c71cc4e06919"
      },
      "source": [
        "#df_C246_descriptions.iloc[indices.numpy()[0],:]\r\n",
        "df_C246_descriptions.iloc[indices.numpy()[0],:]"
      ],
      "execution_count": 28,
      "outputs": [
        {
          "output_type": "execute_result",
          "data": {
            "text/html": [
              "<div>\n",
              "<style scoped>\n",
              "    .dataframe tbody tr th:only-of-type {\n",
              "        vertical-align: middle;\n",
              "    }\n",
              "\n",
              "    .dataframe tbody tr th {\n",
              "        vertical-align: top;\n",
              "    }\n",
              "\n",
              "    .dataframe thead th {\n",
              "        text-align: right;\n",
              "    }\n",
              "</style>\n",
              "<table border=\"1\" class=\"dataframe\">\n",
              "  <thead>\n",
              "    <tr style=\"text-align: right;\">\n",
              "      <th></th>\n",
              "      <th>CODE_2</th>\n",
              "      <th>CODE_4</th>\n",
              "      <th>CODE_6</th>\n",
              "      <th>goods_CODE_6</th>\n",
              "      <th>Description_46</th>\n",
              "      <th>Description_246</th>\n",
              "      <th>Description_46_concat</th>\n",
              "      <th>Description_246_concat</th>\n",
              "    </tr>\n",
              "  </thead>\n",
              "  <tbody>\n",
              "    <tr>\n",
              "      <th>3251</th>\n",
              "      <td>70</td>\n",
              "      <td>7</td>\n",
              "      <td>11</td>\n",
              "      <td>7007190000 80</td>\n",
              "      <td>Safety glass, consisting of toughened (tempere...</td>\n",
              "      <td>GLASS AND GLASSWARE; Safety glass, consisting ...</td>\n",
              "      <td>Safety glass, consisting of toughened (tempere...</td>\n",
              "      <td>GLASS AND GLASSWARE; Safety glass, consisting ...</td>\n",
              "    </tr>\n",
              "    <tr>\n",
              "      <th>1870</th>\n",
              "      <td>39</td>\n",
              "      <td>5</td>\n",
              "      <td>30</td>\n",
              "      <td>3905300000 80</td>\n",
              "      <td>Polymers of vinyl acetate or of other vinyl es...</td>\n",
              "      <td>PLASTICS AND ARTICLES THEREOF; Polymers of vin...</td>\n",
              "      <td>Polymers of vinyl acetate or of other vinyl es...</td>\n",
              "      <td>PLASTICS AND ARTICLES THEREOF; Polymers of vin...</td>\n",
              "    </tr>\n",
              "    <tr>\n",
              "      <th>4431</th>\n",
              "      <td>85</td>\n",
              "      <td>7</td>\n",
              "      <td>60</td>\n",
              "      <td>8507600000 80</td>\n",
              "      <td>Electric accumulators, including separators th...</td>\n",
              "      <td>ELECTRICAL MACHINERY AND EQUIPMENT AND PARTS T...</td>\n",
              "      <td>Electric accumulators, including separators th...</td>\n",
              "      <td>ELECTRICAL MACHINERY AND EQUIPMENT AND PARTS T...</td>\n",
              "    </tr>\n",
              "    <tr>\n",
              "      <th>104</th>\n",
              "      <td>3</td>\n",
              "      <td>1</td>\n",
              "      <td>91</td>\n",
              "      <td>0301940000 80</td>\n",
              "      <td>Live fish; Other live fish;Atlantic and Pacifi...</td>\n",
              "      <td>FISH AND CRUSTACEANS, MOLLUSCS AND OTHER AQUAT...</td>\n",
              "      <td>Live fish; Other live fish;Atlantic and Pacifi...</td>\n",
              "      <td>FISH AND CRUSTACEANS, MOLLUSCS AND OTHER AQUAT...</td>\n",
              "    </tr>\n",
              "    <tr>\n",
              "      <th>3934</th>\n",
              "      <td>84</td>\n",
              "      <td>14</td>\n",
              "      <td>10</td>\n",
              "      <td>8414100000 80</td>\n",
              "      <td>Air or vacuum pumps, air or other gas compress...</td>\n",
              "      <td>NUCLEAR REACTORS, BOILERS, MACHINERY AND MECHA...</td>\n",
              "      <td>Air or vacuum pumps, air or other gas compress...</td>\n",
              "      <td>NUCLEAR REACTORS, BOILERS, MACHINERY AND MECHA...</td>\n",
              "    </tr>\n",
              "    <tr>\n",
              "      <th>3919</th>\n",
              "      <td>84</td>\n",
              "      <td>12</td>\n",
              "      <td>31</td>\n",
              "      <td>8412390000 80</td>\n",
              "      <td>Other engines and motors; Pneumatic power engi...</td>\n",
              "      <td>NUCLEAR REACTORS, BOILERS, MACHINERY AND MECHA...</td>\n",
              "      <td>Other engines and motors; Pneumatic power engi...</td>\n",
              "      <td>NUCLEAR REACTORS, BOILERS, MACHINERY AND MECHA...</td>\n",
              "    </tr>\n",
              "    <tr>\n",
              "      <th>4422</th>\n",
              "      <td>85</td>\n",
              "      <td>6</td>\n",
              "      <td>50</td>\n",
              "      <td>8506500000 80</td>\n",
              "      <td>Primary cells and primary batteries; Lithium</td>\n",
              "      <td>ELECTRICAL MACHINERY AND EQUIPMENT AND PARTS T...</td>\n",
              "      <td>Primary cells and primary batteries; Lithium L...</td>\n",
              "      <td>ELECTRICAL MACHINERY AND EQUIPMENT AND PARTS T...</td>\n",
              "    </tr>\n",
              "    <tr>\n",
              "      <th>3887</th>\n",
              "      <td>84</td>\n",
              "      <td>6</td>\n",
              "      <td>81</td>\n",
              "      <td>8406820000 80</td>\n",
              "      <td>Steam turbines and other vapour turbines; Othe...</td>\n",
              "      <td>NUCLEAR REACTORS, BOILERS, MACHINERY AND MECHA...</td>\n",
              "      <td>Steam turbines and other vapour turbines; Othe...</td>\n",
              "      <td>NUCLEAR REACTORS, BOILERS, MACHINERY AND MECHA...</td>\n",
              "    </tr>\n",
              "    <tr>\n",
              "      <th>4394</th>\n",
              "      <td>85</td>\n",
              "      <td>1</td>\n",
              "      <td>61</td>\n",
              "      <td>8501620000 80</td>\n",
              "      <td>Electric motors and generators (excluding gene...</td>\n",
              "      <td>ELECTRICAL MACHINERY AND EQUIPMENT AND PARTS T...</td>\n",
              "      <td>Electric motors and generators (excluding gene...</td>\n",
              "      <td>ELECTRICAL MACHINERY AND EQUIPMENT AND PARTS T...</td>\n",
              "    </tr>\n",
              "    <tr>\n",
              "      <th>105</th>\n",
              "      <td>3</td>\n",
              "      <td>1</td>\n",
              "      <td>91</td>\n",
              "      <td>0301950000 80</td>\n",
              "      <td>Live fish; Other live fish;Southern bluefin tu...</td>\n",
              "      <td>FISH AND CRUSTACEANS, MOLLUSCS AND OTHER AQUAT...</td>\n",
              "      <td>Live fish; Other live fish;Southern bluefin tu...</td>\n",
              "      <td>FISH AND CRUSTACEANS, MOLLUSCS AND OTHER AQUAT...</td>\n",
              "    </tr>\n",
              "  </tbody>\n",
              "</table>\n",
              "</div>"
            ],
            "text/plain": [
              "      CODE_2  ...                             Description_246_concat\n",
              "3251      70  ...  GLASS AND GLASSWARE; Safety glass, consisting ...\n",
              "1870      39  ...  PLASTICS AND ARTICLES THEREOF; Polymers of vin...\n",
              "4431      85  ...  ELECTRICAL MACHINERY AND EQUIPMENT AND PARTS T...\n",
              "104        3  ...  FISH AND CRUSTACEANS, MOLLUSCS AND OTHER AQUAT...\n",
              "3934      84  ...  NUCLEAR REACTORS, BOILERS, MACHINERY AND MECHA...\n",
              "3919      84  ...  NUCLEAR REACTORS, BOILERS, MACHINERY AND MECHA...\n",
              "4422      85  ...  ELECTRICAL MACHINERY AND EQUIPMENT AND PARTS T...\n",
              "3887      84  ...  NUCLEAR REACTORS, BOILERS, MACHINERY AND MECHA...\n",
              "4394      85  ...  ELECTRICAL MACHINERY AND EQUIPMENT AND PARTS T...\n",
              "105        3  ...  FISH AND CRUSTACEANS, MOLLUSCS AND OTHER AQUAT...\n",
              "\n",
              "[10 rows x 8 columns]"
            ]
          },
          "metadata": {
            "tags": []
          },
          "execution_count": 28
        }
      ]
    },
    {
      "cell_type": "code",
      "metadata": {
        "colab": {
          "base_uri": "https://localhost:8080/"
        },
        "id": "1kSH8qxAY-Rt",
        "outputId": "9fde5d39-fa71-4185-8acd-035f5d8278f8"
      },
      "source": [
        "cosine_neighbours = util.pytorch_cos_sim(embeddings[indices.numpy()[0][0]], embeddings[indices.numpy()[0][5]])\r\n",
        "print(cosine_neighbours)"
      ],
      "execution_count": 20,
      "outputs": [
        {
          "output_type": "stream",
          "text": [
            "tensor([[0.4965]])\n"
          ],
          "name": "stdout"
        }
      ]
    },
    {
      "cell_type": "markdown",
      "metadata": {
        "id": "C55VEYqOoQXw"
      },
      "source": [
        "**TRAINING**"
      ]
    },
    {
      "cell_type": "code",
      "metadata": {
        "colab": {
          "base_uri": "https://localhost:8080/",
          "height": 114,
          "referenced_widgets": [
            "f1fb04d3d4bb423aa5ad621a45dc80e1",
            "5eabfe5f3b5241e0b3f08aa9c3a185e4",
            "65bf9b3c74314f909da24f89ad67fef9",
            "657d8f660fb34cdd9c834540797c3c48",
            "696006353f834c29acc1bb2f881c99d7",
            "1a2bb301ee8f4b4f8463d81bea04532a",
            "58c673febd52418dbc035165c1ea6944",
            "e8c9fef104d04534a51054d4cbfd6bf1",
            "4aecb698eb704e578a041eb40aa7e2ca",
            "0ec0be28f98046c78010ab62be6001a8",
            "fa96ceb7ebed48c398c24fd1631a0f9b",
            "0feef150471f4223968c7bda3c463c8f",
            "d3770452f99549c1b02f22afe1432c5e",
            "0b419c8d07b94135bc581cfa6ea85fb6",
            "e713247a1e4242e19409e64c0fbe0c33",
            "0a5cce5bb2094f9abbb92bacdc9ef76e"
          ]
        },
        "id": "tP5O_-HqVpfo",
        "outputId": "b3720637-4007-441d-8286-5142780810a6"
      },
      "source": [
        "from sentence_transformers import SentenceTransformer, InputExample, losses\r\n",
        "from torch.utils.data import DataLoader\r\n",
        "\r\n",
        "#Define the model. Either from scratch of by loading a pre-trained model\r\n",
        "t_model = model\r\n",
        "\r\n",
        "#Define your train examples. You need more than just two examples...\r\n",
        "#train_examples = [\r\n",
        "#                  InputExample(texts=['Nail polish makeup', 'manicure or pedicure preparations'], label=1.),\r\n",
        "#                  InputExample(texts=['Nail polish makeup', 'essential oils and resinoids; perfumery, cosmetic or toilet preparations'], label=1.),\r\n",
        "#                  InputExample(texts=['Nail polish makeup', 'soap, organic surface-active agents, washing preparations, lubricating preparations, artificial waxes, prepared waxes, polishing or scouring preparations, candles and similar articles, modelling pastes'], label=0.)]\r\n",
        "\r\n",
        "train_examples = [\r\n",
        "                  InputExample(texts=['Nail polish makeup', 'manicure or pedicure preparations'], label=1.),\r\n",
        "                  #InputExample(texts=['Nail polish makeup', 'essential oils and resinoids; perfumery, cosmetic or toilet preparations'], label=1.),\r\n",
        "                  InputExample(texts=['Nail polish makeup', 'waxes'], label=0.),\r\n",
        "                  InputExample(texts=['Nail polish makeup', 'lips'], label=0.),\r\n",
        "                  InputExample(texts=['Nail polish makeup', 'eye'], label=0.)]\r\n",
        "\r\n",
        "\r\n",
        "\r\n",
        "#Define your train dataset, the dataloader and the train loss\r\n",
        "train_dataloader = DataLoader(train_examples, shuffle=True, batch_size=1)\r\n",
        "train_loss = losses.CosineSimilarityLoss(model)\r\n",
        "\r\n",
        "#Tune the model\r\n",
        "t_model.fit(train_objectives=[(train_dataloader, train_loss)], epochs=1, warmup_steps=100)"
      ],
      "execution_count": null,
      "outputs": [
        {
          "output_type": "display_data",
          "data": {
            "application/vnd.jupyter.widget-view+json": {
              "model_id": "f1fb04d3d4bb423aa5ad621a45dc80e1",
              "version_minor": 0,
              "version_major": 2
            },
            "text/plain": [
              "HBox(children=(FloatProgress(value=0.0, description='Epoch', max=1.0, style=ProgressStyle(description_width='i…"
            ]
          },
          "metadata": {
            "tags": []
          }
        },
        {
          "output_type": "display_data",
          "data": {
            "application/vnd.jupyter.widget-view+json": {
              "model_id": "4aecb698eb704e578a041eb40aa7e2ca",
              "version_minor": 0,
              "version_major": 2
            },
            "text/plain": [
              "HBox(children=(FloatProgress(value=0.0, description='Iteration', max=4.0, style=ProgressStyle(description_widt…"
            ]
          },
          "metadata": {
            "tags": []
          }
        },
        {
          "output_type": "stream",
          "text": [
            "\n",
            "\n"
          ],
          "name": "stdout"
        }
      ]
    },
    {
      "cell_type": "code",
      "metadata": {
        "id": "YwlvPjOTY23N"
      },
      "source": [
        "t_embeddings = t_model.encode(sentences, convert_to_tensor=True)"
      ],
      "execution_count": null,
      "outputs": []
    },
    {
      "cell_type": "code",
      "metadata": {
        "colab": {
          "base_uri": "https://localhost:8080/"
        },
        "id": "mC2BcWA4ZJUm",
        "outputId": "9f737c94-ea1d-4e14-81fc-c0bb0d31ec3f"
      },
      "source": [
        "t_embeddings_description = t_model.encode(description, convert_to_tensor=True )\r\n",
        "\r\n",
        "cosine_scores = util.pytorch_cos_sim(t_embeddings, t_embeddings_description)\r\n",
        "cosine_scores.shape\r\n",
        "values,indices = torch.transpose(cosine_scores,0,1).topk(10)\r\n",
        "print(values, indices)\r\n",
        "indices.numpy()[0][0]\r\n",
        "\r\n",
        "print(values.numpy()[0][0], sentences[indices.numpy()[0][0]])\r\n",
        "print(values.numpy()[0][1], sentences[indices.numpy()[0][1]])\r\n",
        "print(values.numpy()[0][2], sentences[indices.numpy()[0][2]])\r\n",
        "print(values.numpy()[0][3], sentences[indices.numpy()[0][3]])\r\n",
        "print(values.numpy()[0][4], sentences[indices.numpy()[0][4]])\r\n",
        "\r\n"
      ],
      "execution_count": null,
      "outputs": [
        {
          "output_type": "stream",
          "text": [
            "tensor([[0.5126, 0.5063, 0.4814, 0.4687, 0.4474, 0.4382, 0.4359, 0.4089, 0.4089,\n",
            "         0.4089]]) tensor([[1713, 1680, 1712, 1681, 1682, 1684, 1707, 1699, 1701, 1700]])\n",
            "0.51262975 soap, organic surface-active agents, washing preparations, lubricating preparations, artificial waxes, prepared waxes, polishing or scouring preparations, candles and similar articles, modelling pastes, 'dental waxes' and dental preparations with a basis of plaster; artificial waxes and prepared waxes; other \n",
            "0.5063278 essential oils and resinoids; perfumery, cosmetic or toilet preparations; beauty or make-up preparations and preparations for the care of the skin (other than medicaments), including sunscreen or suntan preparations; manicure or pedicure preparations; lip make-up preparations \n",
            "0.48139337 soap, organic surface-active agents, washing preparations, lubricating preparations, artificial waxes, prepared waxes, polishing or scouring preparations, candles and similar articles, modelling pastes, 'dental waxes' and dental preparations with a basis of plaster; artificial waxes and prepared waxes; of poly(oxyethylene) (polyethylene glycol) \n",
            "0.4686848 essential oils and resinoids; perfumery, cosmetic or toilet preparations; beauty or make-up preparations and preparations for the care of the skin (other than medicaments), including sunscreen or suntan preparations; manicure or pedicure preparations; eye make-up preparations \n",
            "0.44741055 essential oils and resinoids; perfumery, cosmetic or toilet preparations; beauty or make-up preparations and preparations for the care of the skin (other than medicaments), including sunscreen or suntan preparations; manicure or pedicure preparations; manicure or pedicure preparations \n"
          ],
          "name": "stdout"
        }
      ]
    },
    {
      "cell_type": "markdown",
      "metadata": {
        "id": "-m1iTY6yaSF8"
      },
      "source": [
        ""
      ]
    }
  ]
}